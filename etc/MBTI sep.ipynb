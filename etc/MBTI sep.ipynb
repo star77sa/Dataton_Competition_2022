{
 "cells": [
  {
   "cell_type": "markdown",
   "id": "b895dce9",
   "metadata": {
    "papermill": {
     "duration": 0.05475,
     "end_time": "2022-01-24T11:33:29.924313",
     "exception": false,
     "start_time": "2022-01-24T11:33:29.869563",
     "status": "completed"
    },
    "tags": []
   },
   "source": [
    "# Importing libraries"
   ]
  },
  {
   "cell_type": "code",
   "execution_count": 27,
   "id": "8a7dec48",
   "metadata": {
    "papermill": {
     "duration": 11.507019,
     "end_time": "2022-01-24T11:33:41.485611",
     "exception": false,
     "start_time": "2022-01-24T11:33:29.978592",
     "status": "completed"
    },
    "tags": []
   },
   "outputs": [],
   "source": [
    "import pandas as pd\n",
    "from sklearn.model_selection import train_test_split\n",
    "from sklearn.feature_extraction.text import TfidfVectorizer\n",
    "from sklearn.svm import LinearSVC\n",
    "from sklearn.pipeline import Pipeline\n",
    "from sklearn import metrics\n",
    "from sklearn.metrics import classification_report, f1_score\n",
    "import pickle\n",
    "import os.path\n",
    "import plotly.offline as pyo\n",
    "import plotly.graph_objs as go\n",
    "# import spacy\n",
    "from nltk.stem.snowball import SnowballStemmer\n",
    "from sklearn.feature_extraction.text import CountVectorizer"
   ]
  },
  {
   "cell_type": "code",
   "execution_count": 28,
   "id": "d762d1b9-995b-49a8-93ed-a39ce802f31a",
   "metadata": {},
   "outputs": [],
   "source": [
    "import warnings\n",
    "\n",
    "warnings.filterwarnings(action='ignore') "
   ]
  },
  {
   "cell_type": "markdown",
   "id": "4a49e164",
   "metadata": {
    "papermill": {
     "duration": 0.058532,
     "end_time": "2022-01-24T11:33:46.115031",
     "exception": false,
     "start_time": "2022-01-24T11:33:46.056499",
     "status": "completed"
    },
    "tags": []
   },
   "source": [
    "# Text Feature Extraction"
   ]
  },
  {
   "cell_type": "markdown",
   "id": "336fee11",
   "metadata": {
    "papermill": {
     "duration": 0.058791,
     "end_time": "2022-01-24T11:33:46.235014",
     "exception": false,
     "start_time": "2022-01-24T11:33:46.176223",
     "status": "completed"
    },
    "tags": []
   },
   "source": [
    "After preprocess data it's time to extract features from the text in order to prepare the machine learning model"
   ]
  },
  {
   "cell_type": "markdown",
   "id": "58e53c61",
   "metadata": {
    "papermill": {
     "duration": 0.05577,
     "end_time": "2022-01-24T11:33:46.346287",
     "exception": false,
     "start_time": "2022-01-24T11:33:46.290517",
     "status": "completed"
    },
    "tags": []
   },
   "source": [
    "### Count Vectorization"
   ]
  },
  {
   "cell_type": "markdown",
   "id": "0a7d3da5",
   "metadata": {
    "papermill": {
     "duration": 0.059072,
     "end_time": "2022-01-24T11:33:46.465396",
     "exception": false,
     "start_time": "2022-01-24T11:33:46.406324",
     "status": "completed"
    },
    "tags": []
   },
   "source": [
    "1. Treats each word of a text individually as a feature\n",
    "\n",
    "2. After that, counts each occurrence of each word in the document\n",
    "\n",
    "3. Than, makes a matrix DTM (Document Term Matrix)"
   ]
  },
  {
   "cell_type": "code",
   "execution_count": 29,
   "id": "2a00a722",
   "metadata": {
    "papermill": {
     "duration": 0.060273,
     "end_time": "2022-01-24T11:33:46.577616",
     "exception": false,
     "start_time": "2022-01-24T11:33:46.517343",
     "status": "completed"
    },
    "tags": []
   },
   "outputs": [],
   "source": [
    "count_vect = CountVectorizer()"
   ]
  },
  {
   "cell_type": "code",
   "execution_count": 30,
   "id": "279c1f09",
   "metadata": {
    "papermill": {
     "duration": 0.064707,
     "end_time": "2022-01-24T11:33:46.698468",
     "exception": false,
     "start_time": "2022-01-24T11:33:46.633761",
     "status": "completed"
    },
    "tags": []
   },
   "outputs": [],
   "source": [
    "phrase = [\"I'd like to have a glass of water please\"]"
   ]
  },
  {
   "cell_type": "code",
   "execution_count": 31,
   "id": "d21391ec",
   "metadata": {
    "papermill": {
     "duration": 0.066922,
     "end_time": "2022-01-24T11:33:46.820425",
     "exception": false,
     "start_time": "2022-01-24T11:33:46.753503",
     "status": "completed"
    },
    "tags": []
   },
   "outputs": [
    {
     "data": {
      "text/plain": [
       "CountVectorizer()"
      ]
     },
     "execution_count": 31,
     "metadata": {},
     "output_type": "execute_result"
    }
   ],
   "source": [
    "# Fit Vectorizer to the Data (build a vocab, count the number of words...)\n",
    "# Learn a vocabulary dictionary of all tokens in the raw documents\n",
    "count_vect.fit(phrase)"
   ]
  },
  {
   "cell_type": "code",
   "execution_count": 32,
   "id": "1e589ecd",
   "metadata": {
    "papermill": {
     "duration": 0.064347,
     "end_time": "2022-01-24T11:33:46.941386",
     "exception": false,
     "start_time": "2022-01-24T11:33:46.877039",
     "status": "completed"
    },
    "tags": []
   },
   "outputs": [
    {
     "data": {
      "text/plain": [
       "['glass', 'have', 'like', 'of', 'please', 'to', 'water']"
      ]
     },
     "execution_count": 32,
     "metadata": {},
     "output_type": "execute_result"
    }
   ],
   "source": [
    "# Show features\n",
    "count_vect.get_feature_names()"
   ]
  },
  {
   "cell_type": "code",
   "execution_count": 33,
   "id": "51ae3384",
   "metadata": {
    "papermill": {
     "duration": 0.066884,
     "end_time": "2022-01-24T11:33:47.063640",
     "exception": false,
     "start_time": "2022-01-24T11:33:46.996756",
     "status": "completed"
    },
    "tags": []
   },
   "outputs": [
    {
     "data": {
      "text/plain": [
       "<1x7 sparse matrix of type '<class 'numpy.int64'>'\n",
       "\twith 7 stored elements in Compressed Sparse Row format>"
      ]
     },
     "execution_count": 33,
     "metadata": {},
     "output_type": "execute_result"
    }
   ],
   "source": [
    "# Learn the vocabulary dictionary and return document-term matrix\n",
    "count_vect.fit_transform(phrase)"
   ]
  },
  {
   "cell_type": "code",
   "execution_count": 34,
   "id": "b4cc14da",
   "metadata": {
    "papermill": {
     "duration": 0.066864,
     "end_time": "2022-01-24T11:33:47.189136",
     "exception": false,
     "start_time": "2022-01-24T11:33:47.122272",
     "status": "completed"
    },
    "tags": []
   },
   "outputs": [
    {
     "data": {
      "text/plain": [
       "{'like': 2, 'to': 5, 'have': 1, 'glass': 0, 'of': 3, 'water': 6, 'please': 4}"
      ]
     },
     "execution_count": 34,
     "metadata": {},
     "output_type": "execute_result"
    }
   ],
   "source": [
    "# shows a mapping of terms to feature indices.\n",
    "count_vect.vocabulary_"
   ]
  },
  {
   "cell_type": "markdown",
   "id": "e5ef984b",
   "metadata": {
    "papermill": {
     "duration": 0.0595,
     "end_time": "2022-01-24T11:33:47.305777",
     "exception": false,
     "start_time": "2022-01-24T11:33:47.246277",
     "status": "completed"
    },
    "tags": []
   },
   "source": [
    "## TfidVectorizer"
   ]
  },
  {
   "cell_type": "markdown",
   "id": "4dc9843b",
   "metadata": {
    "papermill": {
     "duration": 0.056442,
     "end_time": "2022-01-24T11:33:47.419883",
     "exception": false,
     "start_time": "2022-01-24T11:33:47.363441",
     "status": "completed"
    },
    "tags": []
   },
   "source": [
    "An alternative to CountVectorizer is the TfidVectorizer"
   ]
  },
  {
   "cell_type": "markdown",
   "id": "9a4dc77f",
   "metadata": {
    "papermill": {
     "duration": 0.05486,
     "end_time": "2022-01-24T11:33:47.532312",
     "exception": false,
     "start_time": "2022-01-24T11:33:47.477452",
     "status": "completed"
    },
    "tags": []
   },
   "source": [
    "TfidVectorizer calculates an inverse frequency for each word"
   ]
  },
  {
   "cell_type": "markdown",
   "id": "c0b6469a",
   "metadata": {
    "papermill": {
     "duration": 0.05837,
     "end_time": "2022-01-24T11:33:47.646473",
     "exception": false,
     "start_time": "2022-01-24T11:33:47.588103",
     "status": "completed"
    },
    "tags": []
   },
   "source": [
    "It converts a collection of raw documents to a matrix of TF-IDF features."
   ]
  },
  {
   "cell_type": "markdown",
   "id": "48e5421b",
   "metadata": {
    "papermill": {
     "duration": 0.059238,
     "end_time": "2022-01-24T11:33:47.766004",
     "exception": false,
     "start_time": "2022-01-24T11:33:47.706766",
     "status": "completed"
    },
    "tags": []
   },
   "source": [
    "TfidVectorizer will be used to create the machine learning model for this study"
   ]
  },
  {
   "cell_type": "markdown",
   "id": "10d690fe",
   "metadata": {
    "papermill": {
     "duration": 0.056141,
     "end_time": "2022-01-24T11:33:47.879258",
     "exception": false,
     "start_time": "2022-01-24T11:33:47.823117",
     "status": "completed"
    },
    "tags": []
   },
   "source": [
    "# Read the dataset into a pandas dataframe"
   ]
  },
  {
   "cell_type": "markdown",
   "id": "b9b6ac4e",
   "metadata": {
    "papermill": {
     "duration": 0.056519,
     "end_time": "2022-01-24T11:33:47.996122",
     "exception": false,
     "start_time": "2022-01-24T11:33:47.939603",
     "status": "completed"
    },
    "tags": []
   },
   "source": [
    "Now it's time to read the dataset and make a simple exploratory analysis"
   ]
  },
  {
   "cell_type": "code",
   "execution_count": 35,
   "id": "68b80ab5-e65b-4ee1-8479-edf860e98e55",
   "metadata": {},
   "outputs": [],
   "source": [
    "df = pd.read_csv('G://내 드라이브/Github/2022-Data-ton/dataset/MBTI_train.csv', header=None)"
   ]
  },
  {
   "cell_type": "code",
   "execution_count": 36,
   "id": "e3b0f0d9-bda3-4326-8652-563c4e9631f0",
   "metadata": {},
   "outputs": [
    {
     "data": {
      "text/plain": [
       "<bound method NDFrame.head of           0                                                  1\n",
       "0      INTP  say process model list like subscriber channel...\n",
       "1      INFJ  upon much manipulate retail finish like sacrif...\n",
       "2      INFJ  fit yes certain bff social feel goal go know n...\n",
       "3      INTJ  complete love within someone ideal joke solvea...\n",
       "4      ENTJ  public strictly thing person x question person...\n",
       "...     ...                                                ...\n",
       "74352  INTP  get consequence process life back kind great b...\n",
       "74353  ENFP  mundane really right vibe natural u conscious ...\n",
       "74354  INFP  diva message remember practical lot absorb tel...\n",
       "74355  INTJ  increase impressive group make recognize get a...\n",
       "74356  ENTJ  restaurant negative entj resent people sing ma...\n",
       "\n",
       "[74357 rows x 2 columns]>"
      ]
     },
     "execution_count": 36,
     "metadata": {},
     "output_type": "execute_result"
    }
   ],
   "source": [
    "df.head"
   ]
  },
  {
   "cell_type": "code",
   "execution_count": 37,
   "id": "2dfbd2fb",
   "metadata": {
    "papermill": {
     "duration": 0.080555,
     "end_time": "2022-01-24T11:33:56.825360",
     "exception": false,
     "start_time": "2022-01-24T11:33:56.744805",
     "status": "completed"
    },
    "tags": []
   },
   "outputs": [],
   "source": [
    "df.columns = ['type', 'posts']"
   ]
  },
  {
   "cell_type": "code",
   "execution_count": 38,
   "id": "8c8b3745",
   "metadata": {
    "papermill": {
     "duration": 0.06699,
     "end_time": "2022-01-24T11:33:56.949829",
     "exception": false,
     "start_time": "2022-01-24T11:33:56.882839",
     "status": "completed"
    },
    "tags": []
   },
   "outputs": [
    {
     "data": {
      "text/plain": [
       "'say process model list like subscriber channel region act position since without hear resus help study sense external specialize movement dude thousand yes even get essential part road involve expressiveness like factor never probably le non think dedicate medium task take brain oh architectural would diagnose technology college precisely fi understand dominant dom security run make hard tribe lot stop opinion bad washinon solely best extremely sound since patreon back differently mean differ cia high discrimination make two si holistic though passage would make director continue else task enigma question yet whatever field probably mean part arbitrary hedonism ask post find broaden matter read lot sql essential cuure start language think month demand intp plz like like without exam help get system something einstein though would stream create personal sort relative would k would language k man flat example without typically learn read still teach problem split function mean long mental arbitrary glean step sound norm u win question cuures mean genius lenh would work podcast chimpanzee like resist equality glad genius colleague lenh need memory go use u several need world road ask start make intelligence ba either factor end necessarily fail mean min desire try animal incitement think great mean big heah movement master sentence money take mean pretty life well wise intp immigrate channel space yep twice road young essay merge le get hundred pretty help know far add assignment demand people intestinal get opinion learn whatever much equip feel life region unordered raw current specie speed point write need oh extract mean business center important see even perceive desire confuse sry slant enough view know become improve level genuinely time work make also let stop way man care like personal opportunity ability survive ah insensitive help nowhere caption many environment basically analytical word jump good learn landscape process electronic guy moma le much get respond worldwide quality game intp nature example try deaf notice much repetitive matter possibility k something road get school npr round last make need monkey write say masturbation around avoid think figure society could key human describe environment genre test first brain two plateau information story content also intp feel think good brain get arbitrary education monkey fortitude cognition cohesive capable equally due comment report help overall channel grip lack chance video read podcast still towards average improve comment opposite heah distill also judgemental make develop partially intuition grade hear high sentence'"
      ]
     },
     "execution_count": 38,
     "metadata": {},
     "output_type": "execute_result"
    }
   ],
   "source": [
    "df['posts'][0]"
   ]
  },
  {
   "cell_type": "code",
   "execution_count": 39,
   "id": "8a313529",
   "metadata": {
    "papermill": {
     "duration": 0.066143,
     "end_time": "2022-01-24T11:33:57.072446",
     "exception": false,
     "start_time": "2022-01-24T11:33:57.006303",
     "status": "completed"
    },
    "tags": []
   },
   "outputs": [
    {
     "data": {
      "text/plain": [
       "'INTP'"
      ]
     },
     "execution_count": 39,
     "metadata": {},
     "output_type": "execute_result"
    }
   ],
   "source": [
    "df['type'][0]"
   ]
  },
  {
   "cell_type": "code",
   "execution_count": 40,
   "id": "d9d2e8e4",
   "metadata": {
    "papermill": {
     "duration": 0.081509,
     "end_time": "2022-01-24T11:33:57.218634",
     "exception": false,
     "start_time": "2022-01-24T11:33:57.137125",
     "status": "completed"
    },
    "tags": []
   },
   "outputs": [
    {
     "data": {
      "text/plain": [
       "array(['INTP', 'INFJ', 'INTJ', 'ENTJ', 'ENTP', 'INFP', 'ISTP', 'ISFJ',\n",
       "       'ENFP', 'ISFP', 'ISTJ', 'ENFJ', 'ESTP', 'ESFP', 'ESTJ', 'ESFJ'],\n",
       "      dtype=object)"
      ]
     },
     "execution_count": 40,
     "metadata": {},
     "output_type": "execute_result"
    }
   ],
   "source": [
    "df['type'].unique()"
   ]
  },
  {
   "cell_type": "code",
   "execution_count": 41,
   "id": "4421fe9d-84c1-4c51-91e6-9da1624e863a",
   "metadata": {},
   "outputs": [
    {
     "data": {
      "text/plain": [
       "71"
      ]
     },
     "execution_count": 41,
     "metadata": {},
     "output_type": "execute_result"
    }
   ],
   "source": [
    "sum(df['type'] == 'ESTJ')"
   ]
  },
  {
   "cell_type": "code",
   "execution_count": 42,
   "id": "95cec341",
   "metadata": {
    "papermill": {
     "duration": 0.074413,
     "end_time": "2022-01-24T11:33:57.351624",
     "exception": false,
     "start_time": "2022-01-24T11:33:57.277211",
     "status": "completed"
    },
    "tags": []
   },
   "outputs": [
    {
     "name": "stdout",
     "output_type": "stream",
     "text": [
      "Total of 16 types of classified MBTI posts\n"
     ]
    }
   ],
   "source": [
    "print(f\"Total of {len(df['type'].unique())} types of classified MBTI posts\")"
   ]
  },
  {
   "cell_type": "markdown",
   "id": "7b2436f5",
   "metadata": {
    "papermill": {
     "duration": 0.056541,
     "end_time": "2022-01-24T11:33:57.467015",
     "exception": false,
     "start_time": "2022-01-24T11:33:57.410474",
     "status": "completed"
    },
    "tags": []
   },
   "source": [
    "# Checking null values"
   ]
  },
  {
   "cell_type": "code",
   "execution_count": 43,
   "id": "902c8406",
   "metadata": {
    "papermill": {
     "duration": 0.098632,
     "end_time": "2022-01-24T11:33:57.623222",
     "exception": false,
     "start_time": "2022-01-24T11:33:57.524590",
     "status": "completed"
    },
    "tags": []
   },
   "outputs": [
    {
     "data": {
      "text/plain": [
       "type     0\n",
       "posts    0\n",
       "dtype: int64"
      ]
     },
     "execution_count": 43,
     "metadata": {},
     "output_type": "execute_result"
    }
   ],
   "source": [
    "df.isnull().sum()"
   ]
  },
  {
   "cell_type": "markdown",
   "id": "035b3559",
   "metadata": {
    "papermill": {
     "duration": 0.057275,
     "end_time": "2022-01-24T11:33:57.737438",
     "exception": false,
     "start_time": "2022-01-24T11:33:57.680163",
     "status": "completed"
    },
    "tags": []
   },
   "source": [
    "# Checking the number of posts per type"
   ]
  },
  {
   "cell_type": "code",
   "execution_count": 44,
   "id": "fdf8e715",
   "metadata": {
    "papermill": {
     "duration": 0.217902,
     "end_time": "2022-01-24T11:33:58.012173",
     "exception": false,
     "start_time": "2022-01-24T11:33:57.794271",
     "status": "completed"
    },
    "tags": []
   },
   "outputs": [
    {
     "data": {
      "application/vnd.plotly.v1+json": {
       "config": {
        "plotlyServerURL": "https://plot.ly"
       },
       "data": [
        {
         "type": "bar",
         "x": [
          "ENFJ",
          "ENFP",
          "ENTJ",
          "ENTP",
          "ESFJ",
          "ESFP",
          "ESTJ",
          "ESTP",
          "INFJ",
          "INFP",
          "INTJ",
          "INTP",
          "ISFJ",
          "ISFP",
          "ISTJ",
          "ISTP"
         ],
         "y": [
          1024,
          4338,
          2106,
          8303,
          119,
          252,
          71,
          814,
          10765,
          8444,
          16079,
          17690,
          460,
          620,
          878,
          2394
         ]
        }
       ],
       "layout": {
        "autosize": true,
        "template": {
         "data": {
          "bar": [
           {
            "error_x": {
             "color": "#2a3f5f"
            },
            "error_y": {
             "color": "#2a3f5f"
            },
            "marker": {
             "line": {
              "color": "#E5ECF6",
              "width": 0.5
             },
             "pattern": {
              "fillmode": "overlay",
              "size": 10,
              "solidity": 0.2
             }
            },
            "type": "bar"
           }
          ],
          "barpolar": [
           {
            "marker": {
             "line": {
              "color": "#E5ECF6",
              "width": 0.5
             },
             "pattern": {
              "fillmode": "overlay",
              "size": 10,
              "solidity": 0.2
             }
            },
            "type": "barpolar"
           }
          ],
          "carpet": [
           {
            "aaxis": {
             "endlinecolor": "#2a3f5f",
             "gridcolor": "white",
             "linecolor": "white",
             "minorgridcolor": "white",
             "startlinecolor": "#2a3f5f"
            },
            "baxis": {
             "endlinecolor": "#2a3f5f",
             "gridcolor": "white",
             "linecolor": "white",
             "minorgridcolor": "white",
             "startlinecolor": "#2a3f5f"
            },
            "type": "carpet"
           }
          ],
          "choropleth": [
           {
            "colorbar": {
             "outlinewidth": 0,
             "ticks": ""
            },
            "type": "choropleth"
           }
          ],
          "contour": [
           {
            "colorbar": {
             "outlinewidth": 0,
             "ticks": ""
            },
            "colorscale": [
             [
              0,
              "#0d0887"
             ],
             [
              0.1111111111111111,
              "#46039f"
             ],
             [
              0.2222222222222222,
              "#7201a8"
             ],
             [
              0.3333333333333333,
              "#9c179e"
             ],
             [
              0.4444444444444444,
              "#bd3786"
             ],
             [
              0.5555555555555556,
              "#d8576b"
             ],
             [
              0.6666666666666666,
              "#ed7953"
             ],
             [
              0.7777777777777778,
              "#fb9f3a"
             ],
             [
              0.8888888888888888,
              "#fdca26"
             ],
             [
              1,
              "#f0f921"
             ]
            ],
            "type": "contour"
           }
          ],
          "contourcarpet": [
           {
            "colorbar": {
             "outlinewidth": 0,
             "ticks": ""
            },
            "type": "contourcarpet"
           }
          ],
          "heatmap": [
           {
            "colorbar": {
             "outlinewidth": 0,
             "ticks": ""
            },
            "colorscale": [
             [
              0,
              "#0d0887"
             ],
             [
              0.1111111111111111,
              "#46039f"
             ],
             [
              0.2222222222222222,
              "#7201a8"
             ],
             [
              0.3333333333333333,
              "#9c179e"
             ],
             [
              0.4444444444444444,
              "#bd3786"
             ],
             [
              0.5555555555555556,
              "#d8576b"
             ],
             [
              0.6666666666666666,
              "#ed7953"
             ],
             [
              0.7777777777777778,
              "#fb9f3a"
             ],
             [
              0.8888888888888888,
              "#fdca26"
             ],
             [
              1,
              "#f0f921"
             ]
            ],
            "type": "heatmap"
           }
          ],
          "heatmapgl": [
           {
            "colorbar": {
             "outlinewidth": 0,
             "ticks": ""
            },
            "colorscale": [
             [
              0,
              "#0d0887"
             ],
             [
              0.1111111111111111,
              "#46039f"
             ],
             [
              0.2222222222222222,
              "#7201a8"
             ],
             [
              0.3333333333333333,
              "#9c179e"
             ],
             [
              0.4444444444444444,
              "#bd3786"
             ],
             [
              0.5555555555555556,
              "#d8576b"
             ],
             [
              0.6666666666666666,
              "#ed7953"
             ],
             [
              0.7777777777777778,
              "#fb9f3a"
             ],
             [
              0.8888888888888888,
              "#fdca26"
             ],
             [
              1,
              "#f0f921"
             ]
            ],
            "type": "heatmapgl"
           }
          ],
          "histogram": [
           {
            "marker": {
             "pattern": {
              "fillmode": "overlay",
              "size": 10,
              "solidity": 0.2
             }
            },
            "type": "histogram"
           }
          ],
          "histogram2d": [
           {
            "colorbar": {
             "outlinewidth": 0,
             "ticks": ""
            },
            "colorscale": [
             [
              0,
              "#0d0887"
             ],
             [
              0.1111111111111111,
              "#46039f"
             ],
             [
              0.2222222222222222,
              "#7201a8"
             ],
             [
              0.3333333333333333,
              "#9c179e"
             ],
             [
              0.4444444444444444,
              "#bd3786"
             ],
             [
              0.5555555555555556,
              "#d8576b"
             ],
             [
              0.6666666666666666,
              "#ed7953"
             ],
             [
              0.7777777777777778,
              "#fb9f3a"
             ],
             [
              0.8888888888888888,
              "#fdca26"
             ],
             [
              1,
              "#f0f921"
             ]
            ],
            "type": "histogram2d"
           }
          ],
          "histogram2dcontour": [
           {
            "colorbar": {
             "outlinewidth": 0,
             "ticks": ""
            },
            "colorscale": [
             [
              0,
              "#0d0887"
             ],
             [
              0.1111111111111111,
              "#46039f"
             ],
             [
              0.2222222222222222,
              "#7201a8"
             ],
             [
              0.3333333333333333,
              "#9c179e"
             ],
             [
              0.4444444444444444,
              "#bd3786"
             ],
             [
              0.5555555555555556,
              "#d8576b"
             ],
             [
              0.6666666666666666,
              "#ed7953"
             ],
             [
              0.7777777777777778,
              "#fb9f3a"
             ],
             [
              0.8888888888888888,
              "#fdca26"
             ],
             [
              1,
              "#f0f921"
             ]
            ],
            "type": "histogram2dcontour"
           }
          ],
          "mesh3d": [
           {
            "colorbar": {
             "outlinewidth": 0,
             "ticks": ""
            },
            "type": "mesh3d"
           }
          ],
          "parcoords": [
           {
            "line": {
             "colorbar": {
              "outlinewidth": 0,
              "ticks": ""
             }
            },
            "type": "parcoords"
           }
          ],
          "pie": [
           {
            "automargin": true,
            "type": "pie"
           }
          ],
          "scatter": [
           {
            "marker": {
             "colorbar": {
              "outlinewidth": 0,
              "ticks": ""
             }
            },
            "type": "scatter"
           }
          ],
          "scatter3d": [
           {
            "line": {
             "colorbar": {
              "outlinewidth": 0,
              "ticks": ""
             }
            },
            "marker": {
             "colorbar": {
              "outlinewidth": 0,
              "ticks": ""
             }
            },
            "type": "scatter3d"
           }
          ],
          "scattercarpet": [
           {
            "marker": {
             "colorbar": {
              "outlinewidth": 0,
              "ticks": ""
             }
            },
            "type": "scattercarpet"
           }
          ],
          "scattergeo": [
           {
            "marker": {
             "colorbar": {
              "outlinewidth": 0,
              "ticks": ""
             }
            },
            "type": "scattergeo"
           }
          ],
          "scattergl": [
           {
            "marker": {
             "colorbar": {
              "outlinewidth": 0,
              "ticks": ""
             }
            },
            "type": "scattergl"
           }
          ],
          "scattermapbox": [
           {
            "marker": {
             "colorbar": {
              "outlinewidth": 0,
              "ticks": ""
             }
            },
            "type": "scattermapbox"
           }
          ],
          "scatterpolar": [
           {
            "marker": {
             "colorbar": {
              "outlinewidth": 0,
              "ticks": ""
             }
            },
            "type": "scatterpolar"
           }
          ],
          "scatterpolargl": [
           {
            "marker": {
             "colorbar": {
              "outlinewidth": 0,
              "ticks": ""
             }
            },
            "type": "scatterpolargl"
           }
          ],
          "scatterternary": [
           {
            "marker": {
             "colorbar": {
              "outlinewidth": 0,
              "ticks": ""
             }
            },
            "type": "scatterternary"
           }
          ],
          "surface": [
           {
            "colorbar": {
             "outlinewidth": 0,
             "ticks": ""
            },
            "colorscale": [
             [
              0,
              "#0d0887"
             ],
             [
              0.1111111111111111,
              "#46039f"
             ],
             [
              0.2222222222222222,
              "#7201a8"
             ],
             [
              0.3333333333333333,
              "#9c179e"
             ],
             [
              0.4444444444444444,
              "#bd3786"
             ],
             [
              0.5555555555555556,
              "#d8576b"
             ],
             [
              0.6666666666666666,
              "#ed7953"
             ],
             [
              0.7777777777777778,
              "#fb9f3a"
             ],
             [
              0.8888888888888888,
              "#fdca26"
             ],
             [
              1,
              "#f0f921"
             ]
            ],
            "type": "surface"
           }
          ],
          "table": [
           {
            "cells": {
             "fill": {
              "color": "#EBF0F8"
             },
             "line": {
              "color": "white"
             }
            },
            "header": {
             "fill": {
              "color": "#C8D4E3"
             },
             "line": {
              "color": "white"
             }
            },
            "type": "table"
           }
          ]
         },
         "layout": {
          "annotationdefaults": {
           "arrowcolor": "#2a3f5f",
           "arrowhead": 0,
           "arrowwidth": 1
          },
          "autotypenumbers": "strict",
          "coloraxis": {
           "colorbar": {
            "outlinewidth": 0,
            "ticks": ""
           }
          },
          "colorscale": {
           "diverging": [
            [
             0,
             "#8e0152"
            ],
            [
             0.1,
             "#c51b7d"
            ],
            [
             0.2,
             "#de77ae"
            ],
            [
             0.3,
             "#f1b6da"
            ],
            [
             0.4,
             "#fde0ef"
            ],
            [
             0.5,
             "#f7f7f7"
            ],
            [
             0.6,
             "#e6f5d0"
            ],
            [
             0.7,
             "#b8e186"
            ],
            [
             0.8,
             "#7fbc41"
            ],
            [
             0.9,
             "#4d9221"
            ],
            [
             1,
             "#276419"
            ]
           ],
           "sequential": [
            [
             0,
             "#0d0887"
            ],
            [
             0.1111111111111111,
             "#46039f"
            ],
            [
             0.2222222222222222,
             "#7201a8"
            ],
            [
             0.3333333333333333,
             "#9c179e"
            ],
            [
             0.4444444444444444,
             "#bd3786"
            ],
            [
             0.5555555555555556,
             "#d8576b"
            ],
            [
             0.6666666666666666,
             "#ed7953"
            ],
            [
             0.7777777777777778,
             "#fb9f3a"
            ],
            [
             0.8888888888888888,
             "#fdca26"
            ],
            [
             1,
             "#f0f921"
            ]
           ],
           "sequentialminus": [
            [
             0,
             "#0d0887"
            ],
            [
             0.1111111111111111,
             "#46039f"
            ],
            [
             0.2222222222222222,
             "#7201a8"
            ],
            [
             0.3333333333333333,
             "#9c179e"
            ],
            [
             0.4444444444444444,
             "#bd3786"
            ],
            [
             0.5555555555555556,
             "#d8576b"
            ],
            [
             0.6666666666666666,
             "#ed7953"
            ],
            [
             0.7777777777777778,
             "#fb9f3a"
            ],
            [
             0.8888888888888888,
             "#fdca26"
            ],
            [
             1,
             "#f0f921"
            ]
           ]
          },
          "colorway": [
           "#636efa",
           "#EF553B",
           "#00cc96",
           "#ab63fa",
           "#FFA15A",
           "#19d3f3",
           "#FF6692",
           "#B6E880",
           "#FF97FF",
           "#FECB52"
          ],
          "font": {
           "color": "#2a3f5f"
          },
          "geo": {
           "bgcolor": "white",
           "lakecolor": "white",
           "landcolor": "#E5ECF6",
           "showlakes": true,
           "showland": true,
           "subunitcolor": "white"
          },
          "hoverlabel": {
           "align": "left"
          },
          "hovermode": "closest",
          "mapbox": {
           "style": "light"
          },
          "paper_bgcolor": "white",
          "plot_bgcolor": "#E5ECF6",
          "polar": {
           "angularaxis": {
            "gridcolor": "white",
            "linecolor": "white",
            "ticks": ""
           },
           "bgcolor": "#E5ECF6",
           "radialaxis": {
            "gridcolor": "white",
            "linecolor": "white",
            "ticks": ""
           }
          },
          "scene": {
           "xaxis": {
            "backgroundcolor": "#E5ECF6",
            "gridcolor": "white",
            "gridwidth": 2,
            "linecolor": "white",
            "showbackground": true,
            "ticks": "",
            "zerolinecolor": "white"
           },
           "yaxis": {
            "backgroundcolor": "#E5ECF6",
            "gridcolor": "white",
            "gridwidth": 2,
            "linecolor": "white",
            "showbackground": true,
            "ticks": "",
            "zerolinecolor": "white"
           },
           "zaxis": {
            "backgroundcolor": "#E5ECF6",
            "gridcolor": "white",
            "gridwidth": 2,
            "linecolor": "white",
            "showbackground": true,
            "ticks": "",
            "zerolinecolor": "white"
           }
          },
          "shapedefaults": {
           "line": {
            "color": "#2a3f5f"
           }
          },
          "ternary": {
           "aaxis": {
            "gridcolor": "white",
            "linecolor": "white",
            "ticks": ""
           },
           "baxis": {
            "gridcolor": "white",
            "linecolor": "white",
            "ticks": ""
           },
           "bgcolor": "#E5ECF6",
           "caxis": {
            "gridcolor": "white",
            "linecolor": "white",
            "ticks": ""
           }
          },
          "title": {
           "x": 0.05
          },
          "xaxis": {
           "automargin": true,
           "gridcolor": "white",
           "linecolor": "white",
           "ticks": "",
           "title": {
            "standoff": 15
           },
           "zerolinecolor": "white",
           "zerolinewidth": 2
          },
          "yaxis": {
           "automargin": true,
           "gridcolor": "white",
           "linecolor": "white",
           "ticks": "",
           "title": {
            "standoff": 15
           },
           "zerolinecolor": "white",
           "zerolinewidth": 2
          }
         }
        },
        "title": {
         "text": "MBTI # Classified Posts per Type"
        },
        "xaxis": {
         "autorange": true,
         "range": [
          -0.5,
          15.5
         ],
         "type": "category"
        },
        "yaxis": {
         "autorange": true,
         "range": [
          0,
          18621.052631578947
         ],
         "type": "linear"
        }
       }
      },
      "text/html": [
       "<div>                            <div id=\"e9f7d5df-4137-4c3e-816c-a57e60e77475\" class=\"plotly-graph-div\" style=\"height:525px; width:100%;\"></div>            <script type=\"text/javascript\">                require([\"plotly\"], function(Plotly) {                    window.PLOTLYENV=window.PLOTLYENV || {};                                    if (document.getElementById(\"e9f7d5df-4137-4c3e-816c-a57e60e77475\")) {                    Plotly.newPlot(                        \"e9f7d5df-4137-4c3e-816c-a57e60e77475\",                        [{\"x\":[\"ENFJ\",\"ENFP\",\"ENTJ\",\"ENTP\",\"ESFJ\",\"ESFP\",\"ESTJ\",\"ESTP\",\"INFJ\",\"INFP\",\"INTJ\",\"INTP\",\"ISFJ\",\"ISFP\",\"ISTJ\",\"ISTP\"],\"y\":[1024,4338,2106,8303,119,252,71,814,10765,8444,16079,17690,460,620,878,2394],\"type\":\"bar\"}],                        {\"title\":{\"text\":\"MBTI # Classified Posts per Type\"},\"template\":{\"data\":{\"bar\":[{\"error_x\":{\"color\":\"#2a3f5f\"},\"error_y\":{\"color\":\"#2a3f5f\"},\"marker\":{\"line\":{\"color\":\"#E5ECF6\",\"width\":0.5},\"pattern\":{\"fillmode\":\"overlay\",\"size\":10,\"solidity\":0.2}},\"type\":\"bar\"}],\"barpolar\":[{\"marker\":{\"line\":{\"color\":\"#E5ECF6\",\"width\":0.5},\"pattern\":{\"fillmode\":\"overlay\",\"size\":10,\"solidity\":0.2}},\"type\":\"barpolar\"}],\"carpet\":[{\"aaxis\":{\"endlinecolor\":\"#2a3f5f\",\"gridcolor\":\"white\",\"linecolor\":\"white\",\"minorgridcolor\":\"white\",\"startlinecolor\":\"#2a3f5f\"},\"baxis\":{\"endlinecolor\":\"#2a3f5f\",\"gridcolor\":\"white\",\"linecolor\":\"white\",\"minorgridcolor\":\"white\",\"startlinecolor\":\"#2a3f5f\"},\"type\":\"carpet\"}],\"choropleth\":[{\"colorbar\":{\"outlinewidth\":0,\"ticks\":\"\"},\"type\":\"choropleth\"}],\"contour\":[{\"colorbar\":{\"outlinewidth\":0,\"ticks\":\"\"},\"colorscale\":[[0.0,\"#0d0887\"],[0.1111111111111111,\"#46039f\"],[0.2222222222222222,\"#7201a8\"],[0.3333333333333333,\"#9c179e\"],[0.4444444444444444,\"#bd3786\"],[0.5555555555555556,\"#d8576b\"],[0.6666666666666666,\"#ed7953\"],[0.7777777777777778,\"#fb9f3a\"],[0.8888888888888888,\"#fdca26\"],[1.0,\"#f0f921\"]],\"type\":\"contour\"}],\"contourcarpet\":[{\"colorbar\":{\"outlinewidth\":0,\"ticks\":\"\"},\"type\":\"contourcarpet\"}],\"heatmap\":[{\"colorbar\":{\"outlinewidth\":0,\"ticks\":\"\"},\"colorscale\":[[0.0,\"#0d0887\"],[0.1111111111111111,\"#46039f\"],[0.2222222222222222,\"#7201a8\"],[0.3333333333333333,\"#9c179e\"],[0.4444444444444444,\"#bd3786\"],[0.5555555555555556,\"#d8576b\"],[0.6666666666666666,\"#ed7953\"],[0.7777777777777778,\"#fb9f3a\"],[0.8888888888888888,\"#fdca26\"],[1.0,\"#f0f921\"]],\"type\":\"heatmap\"}],\"heatmapgl\":[{\"colorbar\":{\"outlinewidth\":0,\"ticks\":\"\"},\"colorscale\":[[0.0,\"#0d0887\"],[0.1111111111111111,\"#46039f\"],[0.2222222222222222,\"#7201a8\"],[0.3333333333333333,\"#9c179e\"],[0.4444444444444444,\"#bd3786\"],[0.5555555555555556,\"#d8576b\"],[0.6666666666666666,\"#ed7953\"],[0.7777777777777778,\"#fb9f3a\"],[0.8888888888888888,\"#fdca26\"],[1.0,\"#f0f921\"]],\"type\":\"heatmapgl\"}],\"histogram\":[{\"marker\":{\"pattern\":{\"fillmode\":\"overlay\",\"size\":10,\"solidity\":0.2}},\"type\":\"histogram\"}],\"histogram2d\":[{\"colorbar\":{\"outlinewidth\":0,\"ticks\":\"\"},\"colorscale\":[[0.0,\"#0d0887\"],[0.1111111111111111,\"#46039f\"],[0.2222222222222222,\"#7201a8\"],[0.3333333333333333,\"#9c179e\"],[0.4444444444444444,\"#bd3786\"],[0.5555555555555556,\"#d8576b\"],[0.6666666666666666,\"#ed7953\"],[0.7777777777777778,\"#fb9f3a\"],[0.8888888888888888,\"#fdca26\"],[1.0,\"#f0f921\"]],\"type\":\"histogram2d\"}],\"histogram2dcontour\":[{\"colorbar\":{\"outlinewidth\":0,\"ticks\":\"\"},\"colorscale\":[[0.0,\"#0d0887\"],[0.1111111111111111,\"#46039f\"],[0.2222222222222222,\"#7201a8\"],[0.3333333333333333,\"#9c179e\"],[0.4444444444444444,\"#bd3786\"],[0.5555555555555556,\"#d8576b\"],[0.6666666666666666,\"#ed7953\"],[0.7777777777777778,\"#fb9f3a\"],[0.8888888888888888,\"#fdca26\"],[1.0,\"#f0f921\"]],\"type\":\"histogram2dcontour\"}],\"mesh3d\":[{\"colorbar\":{\"outlinewidth\":0,\"ticks\":\"\"},\"type\":\"mesh3d\"}],\"parcoords\":[{\"line\":{\"colorbar\":{\"outlinewidth\":0,\"ticks\":\"\"}},\"type\":\"parcoords\"}],\"pie\":[{\"automargin\":true,\"type\":\"pie\"}],\"scatter\":[{\"marker\":{\"colorbar\":{\"outlinewidth\":0,\"ticks\":\"\"}},\"type\":\"scatter\"}],\"scatter3d\":[{\"line\":{\"colorbar\":{\"outlinewidth\":0,\"ticks\":\"\"}},\"marker\":{\"colorbar\":{\"outlinewidth\":0,\"ticks\":\"\"}},\"type\":\"scatter3d\"}],\"scattercarpet\":[{\"marker\":{\"colorbar\":{\"outlinewidth\":0,\"ticks\":\"\"}},\"type\":\"scattercarpet\"}],\"scattergeo\":[{\"marker\":{\"colorbar\":{\"outlinewidth\":0,\"ticks\":\"\"}},\"type\":\"scattergeo\"}],\"scattergl\":[{\"marker\":{\"colorbar\":{\"outlinewidth\":0,\"ticks\":\"\"}},\"type\":\"scattergl\"}],\"scattermapbox\":[{\"marker\":{\"colorbar\":{\"outlinewidth\":0,\"ticks\":\"\"}},\"type\":\"scattermapbox\"}],\"scatterpolar\":[{\"marker\":{\"colorbar\":{\"outlinewidth\":0,\"ticks\":\"\"}},\"type\":\"scatterpolar\"}],\"scatterpolargl\":[{\"marker\":{\"colorbar\":{\"outlinewidth\":0,\"ticks\":\"\"}},\"type\":\"scatterpolargl\"}],\"scatterternary\":[{\"marker\":{\"colorbar\":{\"outlinewidth\":0,\"ticks\":\"\"}},\"type\":\"scatterternary\"}],\"surface\":[{\"colorbar\":{\"outlinewidth\":0,\"ticks\":\"\"},\"colorscale\":[[0.0,\"#0d0887\"],[0.1111111111111111,\"#46039f\"],[0.2222222222222222,\"#7201a8\"],[0.3333333333333333,\"#9c179e\"],[0.4444444444444444,\"#bd3786\"],[0.5555555555555556,\"#d8576b\"],[0.6666666666666666,\"#ed7953\"],[0.7777777777777778,\"#fb9f3a\"],[0.8888888888888888,\"#fdca26\"],[1.0,\"#f0f921\"]],\"type\":\"surface\"}],\"table\":[{\"cells\":{\"fill\":{\"color\":\"#EBF0F8\"},\"line\":{\"color\":\"white\"}},\"header\":{\"fill\":{\"color\":\"#C8D4E3\"},\"line\":{\"color\":\"white\"}},\"type\":\"table\"}]},\"layout\":{\"annotationdefaults\":{\"arrowcolor\":\"#2a3f5f\",\"arrowhead\":0,\"arrowwidth\":1},\"autotypenumbers\":\"strict\",\"coloraxis\":{\"colorbar\":{\"outlinewidth\":0,\"ticks\":\"\"}},\"colorscale\":{\"diverging\":[[0,\"#8e0152\"],[0.1,\"#c51b7d\"],[0.2,\"#de77ae\"],[0.3,\"#f1b6da\"],[0.4,\"#fde0ef\"],[0.5,\"#f7f7f7\"],[0.6,\"#e6f5d0\"],[0.7,\"#b8e186\"],[0.8,\"#7fbc41\"],[0.9,\"#4d9221\"],[1,\"#276419\"]],\"sequential\":[[0.0,\"#0d0887\"],[0.1111111111111111,\"#46039f\"],[0.2222222222222222,\"#7201a8\"],[0.3333333333333333,\"#9c179e\"],[0.4444444444444444,\"#bd3786\"],[0.5555555555555556,\"#d8576b\"],[0.6666666666666666,\"#ed7953\"],[0.7777777777777778,\"#fb9f3a\"],[0.8888888888888888,\"#fdca26\"],[1.0,\"#f0f921\"]],\"sequentialminus\":[[0.0,\"#0d0887\"],[0.1111111111111111,\"#46039f\"],[0.2222222222222222,\"#7201a8\"],[0.3333333333333333,\"#9c179e\"],[0.4444444444444444,\"#bd3786\"],[0.5555555555555556,\"#d8576b\"],[0.6666666666666666,\"#ed7953\"],[0.7777777777777778,\"#fb9f3a\"],[0.8888888888888888,\"#fdca26\"],[1.0,\"#f0f921\"]]},\"colorway\":[\"#636efa\",\"#EF553B\",\"#00cc96\",\"#ab63fa\",\"#FFA15A\",\"#19d3f3\",\"#FF6692\",\"#B6E880\",\"#FF97FF\",\"#FECB52\"],\"font\":{\"color\":\"#2a3f5f\"},\"geo\":{\"bgcolor\":\"white\",\"lakecolor\":\"white\",\"landcolor\":\"#E5ECF6\",\"showlakes\":true,\"showland\":true,\"subunitcolor\":\"white\"},\"hoverlabel\":{\"align\":\"left\"},\"hovermode\":\"closest\",\"mapbox\":{\"style\":\"light\"},\"paper_bgcolor\":\"white\",\"plot_bgcolor\":\"#E5ECF6\",\"polar\":{\"angularaxis\":{\"gridcolor\":\"white\",\"linecolor\":\"white\",\"ticks\":\"\"},\"bgcolor\":\"#E5ECF6\",\"radialaxis\":{\"gridcolor\":\"white\",\"linecolor\":\"white\",\"ticks\":\"\"}},\"scene\":{\"xaxis\":{\"backgroundcolor\":\"#E5ECF6\",\"gridcolor\":\"white\",\"gridwidth\":2,\"linecolor\":\"white\",\"showbackground\":true,\"ticks\":\"\",\"zerolinecolor\":\"white\"},\"yaxis\":{\"backgroundcolor\":\"#E5ECF6\",\"gridcolor\":\"white\",\"gridwidth\":2,\"linecolor\":\"white\",\"showbackground\":true,\"ticks\":\"\",\"zerolinecolor\":\"white\"},\"zaxis\":{\"backgroundcolor\":\"#E5ECF6\",\"gridcolor\":\"white\",\"gridwidth\":2,\"linecolor\":\"white\",\"showbackground\":true,\"ticks\":\"\",\"zerolinecolor\":\"white\"}},\"shapedefaults\":{\"line\":{\"color\":\"#2a3f5f\"}},\"ternary\":{\"aaxis\":{\"gridcolor\":\"white\",\"linecolor\":\"white\",\"ticks\":\"\"},\"baxis\":{\"gridcolor\":\"white\",\"linecolor\":\"white\",\"ticks\":\"\"},\"bgcolor\":\"#E5ECF6\",\"caxis\":{\"gridcolor\":\"white\",\"linecolor\":\"white\",\"ticks\":\"\"}},\"title\":{\"x\":0.05},\"xaxis\":{\"automargin\":true,\"gridcolor\":\"white\",\"linecolor\":\"white\",\"ticks\":\"\",\"title\":{\"standoff\":15},\"zerolinecolor\":\"white\",\"zerolinewidth\":2},\"yaxis\":{\"automargin\":true,\"gridcolor\":\"white\",\"linecolor\":\"white\",\"ticks\":\"\",\"title\":{\"standoff\":15},\"zerolinecolor\":\"white\",\"zerolinewidth\":2}}}},                        {\"responsive\": true}                    ).then(function(){\n",
       "                            \n",
       "var gd = document.getElementById('e9f7d5df-4137-4c3e-816c-a57e60e77475');\n",
       "var x = new MutationObserver(function (mutations, observer) {{\n",
       "        var display = window.getComputedStyle(gd).display;\n",
       "        if (!display || display === 'none') {{\n",
       "            console.log([gd, 'removed!']);\n",
       "            Plotly.purge(gd);\n",
       "            observer.disconnect();\n",
       "        }}\n",
       "}});\n",
       "\n",
       "// Listen for the removal of the full notebook cells\n",
       "var notebookContainer = gd.closest('#notebook-container');\n",
       "if (notebookContainer) {{\n",
       "    x.observe(notebookContainer, {childList: true});\n",
       "}}\n",
       "\n",
       "// Listen for the clearing of the current output cell\n",
       "var outputEl = gd.closest('.output');\n",
       "if (outputEl) {{\n",
       "    x.observe(outputEl, {childList: true});\n",
       "}}\n",
       "\n",
       "                        })                };                });            </script>        </div>"
      ]
     },
     "metadata": {},
     "output_type": "display_data"
    }
   ],
   "source": [
    "df_bar_chart=df.groupby('type').count()\n",
    "\n",
    "\n",
    "trace1 = go.Bar(x=df_bar_chart.index, y=df_bar_chart['posts'])\n",
    "\n",
    "data = [trace1]\n",
    "layout = go.Layout(title='MBTI # Classified Posts per Type')\n",
    "\n",
    "fig = go.Figure(data=data, layout=layout)\n",
    "\n",
    "fig.show()"
   ]
  },
  {
   "cell_type": "markdown",
   "id": "a7b0320b",
   "metadata": {
    "papermill": {
     "duration": 0.058205,
     "end_time": "2022-01-24T11:33:58.129169",
     "exception": false,
     "start_time": "2022-01-24T11:33:58.070964",
     "status": "completed"
    },
    "tags": []
   },
   "source": [
    "# Recreate the model?"
   ]
  },
  {
   "cell_type": "markdown",
   "id": "0318c1fe",
   "metadata": {
    "papermill": {
     "duration": 0.056313,
     "end_time": "2022-01-24T11:33:58.245119",
     "exception": false,
     "start_time": "2022-01-24T11:33:58.188806",
     "status": "completed"
    },
    "tags": []
   },
   "source": [
    "This machine learning model takes it's time to train data\n",
    "\n",
    "To avoid waiting every time, We're going to use the feature dump/load from pickle"
   ]
  },
  {
   "cell_type": "code",
   "execution_count": 45,
   "id": "94ff573a",
   "metadata": {
    "papermill": {
     "duration": 0.065836,
     "end_time": "2022-01-24T11:33:58.368278",
     "exception": false,
     "start_time": "2022-01-24T11:33:58.302442",
     "status": "completed"
    },
    "tags": []
   },
   "outputs": [],
   "source": [
    "# Flag to re-create or not the machine learning model\n",
    "recreate_model=False"
   ]
  },
  {
   "cell_type": "code",
   "execution_count": 46,
   "id": "361a48c4",
   "metadata": {
    "papermill": {
     "duration": 0.065495,
     "end_time": "2022-01-24T11:33:58.493027",
     "exception": false,
     "start_time": "2022-01-24T11:33:58.427532",
     "status": "completed"
    },
    "tags": []
   },
   "outputs": [],
   "source": [
    "# We'll save the model into a file:\n",
    "filename = 'mbti_svm_v2.sav'"
   ]
  },
  {
   "cell_type": "code",
   "execution_count": 47,
   "id": "d6f1fa54",
   "metadata": {
    "papermill": {
     "duration": 0.064732,
     "end_time": "2022-01-24T11:33:58.614172",
     "exception": false,
     "start_time": "2022-01-24T11:33:58.549440",
     "status": "completed"
    },
    "tags": []
   },
   "outputs": [],
   "source": [
    "# If the model file doesn't exists\n",
    "if not os.path.isfile(filename):\n",
    "    recreate_model=True"
   ]
  },
  {
   "cell_type": "markdown",
   "id": "cd04e64e",
   "metadata": {
    "papermill": {
     "duration": 0.058247,
     "end_time": "2022-01-24T11:33:58.729942",
     "exception": false,
     "start_time": "2022-01-24T11:33:58.671695",
     "status": "completed"
    },
    "tags": []
   },
   "source": [
    "# Model"
   ]
  },
  {
   "cell_type": "markdown",
   "id": "e401f1e2",
   "metadata": {
    "papermill": {
     "duration": 0.059072,
     "end_time": "2022-01-24T11:33:58.851375",
     "exception": false,
     "start_time": "2022-01-24T11:33:58.792303",
     "status": "completed"
    },
    "tags": []
   },
   "source": [
    "The machine learning supervised model that we'll use here is a Classification kind, named Support Vector Machine"
   ]
  },
  {
   "cell_type": "markdown",
   "id": "9298777f",
   "metadata": {
    "papermill": {
     "duration": 0.057617,
     "end_time": "2022-01-24T11:33:58.968205",
     "exception": false,
     "start_time": "2022-01-24T11:33:58.910588",
     "status": "completed"
    },
    "tags": []
   },
   "source": [
    "References:\n",
    "\n",
    " - https://en.wikipedia.org/wiki/Support-vector_machine\n",
    "\n",
    "- https://scikit-learn.org/stable/modules/generated/sklearn.svm.LinearSVC.html#sklearn.svm.LinearSVC"
   ]
  },
  {
   "cell_type": "markdown",
   "id": "c1ef14da",
   "metadata": {
    "papermill": {
     "duration": 0.062827,
     "end_time": "2022-01-24T11:33:59.089423",
     "exception": false,
     "start_time": "2022-01-24T11:33:59.026596",
     "status": "completed"
    },
    "tags": []
   },
   "source": [
    "### Model Pipeline"
   ]
  },
  {
   "cell_type": "markdown",
   "id": "1c3a0aa8",
   "metadata": {
    "papermill": {
     "duration": 0.058317,
     "end_time": "2022-01-24T11:33:59.206251",
     "exception": false,
     "start_time": "2022-01-24T11:33:59.147934",
     "status": "completed"
    },
    "tags": []
   },
   "source": [
    "We're going to need a pipelined model ir order to facilitate the entire process of CountVectorizer (TfidfVectorizer) and svm.LinearSVC model"
   ]
  },
  {
   "cell_type": "markdown",
   "id": "9c47672f",
   "metadata": {
    "papermill": {
     "duration": 0.056227,
     "end_time": "2022-01-24T11:33:59.319048",
     "exception": false,
     "start_time": "2022-01-24T11:33:59.262821",
     "status": "completed"
    },
    "tags": []
   },
   "source": [
    "To do that, we're going to use the Pipeline feature from sklearn.pipeline\n",
    "\n",
    "References: https://scikit-learn.org/stable/modules/generated/sklearn.pipeline.Pipeline.html"
   ]
  },
  {
   "cell_type": "markdown",
   "id": "52fa11bc",
   "metadata": {
    "papermill": {
     "duration": 0.05676,
     "end_time": "2022-01-24T11:33:59.432290",
     "exception": false,
     "start_time": "2022-01-24T11:33:59.375530",
     "status": "completed"
    },
    "tags": []
   },
   "source": [
    "# Split the data into train and test"
   ]
  },
  {
   "cell_type": "code",
   "execution_count": 76,
   "id": "73c75344",
   "metadata": {
    "papermill": {
     "duration": 0.093136,
     "end_time": "2022-01-24T11:33:59.583273",
     "exception": false,
     "start_time": "2022-01-24T11:33:59.490137",
     "status": "completed"
    },
    "tags": []
   },
   "outputs": [],
   "source": [
    "X = df['posts'] # features\n",
    "y = df['type']  # labels\n",
    "X_train, X_test, y_train, y_test = train_test_split(X, y, test_size=0.2, random_state=42)"
   ]
  },
  {
   "cell_type": "code",
   "execution_count": 77,
   "id": "9d2b7157-0034-42f4-98e1-32d67e6c84de",
   "metadata": {},
   "outputs": [],
   "source": [
    "y_train1 = y_train.str[0]\n",
    "y_train2 = y_train.str[1]\n",
    "y_train3 = y_train.str[2]\n",
    "y_train4 = y_train.str[3]\n",
    "\n",
    "y_test1 = y_test.str[0]\n",
    "y_test2 = y_test.str[1]\n",
    "y_test3 = y_test.str[2]\n",
    "y_test4 = y_test.str[3]"
   ]
  },
  {
   "cell_type": "markdown",
   "id": "b5ec387b",
   "metadata": {
    "papermill": {
     "duration": 0.056648,
     "end_time": "2022-01-24T11:33:59.699069",
     "exception": false,
     "start_time": "2022-01-24T11:33:59.642421",
     "status": "completed"
    },
    "tags": []
   },
   "source": [
    "# Training the model, save it to disk and open to make predictions"
   ]
  },
  {
   "cell_type": "code",
   "execution_count": 78,
   "id": "6dfb0eef",
   "metadata": {
    "papermill": {
     "duration": 188.534362,
     "end_time": "2022-01-24T11:37:08.291128",
     "exception": false,
     "start_time": "2022-01-24T11:33:59.756766",
     "status": "completed"
    },
    "tags": []
   },
   "outputs": [],
   "source": [
    "# Check if need to recreate the model\n",
    "if recreate_model:    \n",
    "    \n",
    "    # Creating an instance to vectorizer:\n",
    "    vectorizer = TfidfVectorizer()\n",
    "    \n",
    "    # Training the vectorizer:\n",
    "    X_train_tfidf = vectorizer.fit_transform(X_train)\n",
    "    \n",
    "    # Training the classifier:\n",
    "    clf = LinearSVC()\n",
    "    clf.fit(X_train_tfidf, y_train)\n",
    "    \n",
    "    # Pipelining the vectorizer and the classifier\n",
    "    text_clf = Pipeline([('tfidf',TfidfVectorizer()),('clf',LinearSVC())])\n",
    "    text_clf.fit(X_train, y_train)\n",
    "    \n",
    "    # saving the model to disk\n",
    "    pickle.dump(text_clf, open(filename, 'wb'))\n",
    "\n",
    "# If there is no need to recreate the model, just open the file from the disk    \n",
    "else:\n",
    "    # loading the model from disk\n",
    "    text_clf = pickle.load(open(filename, 'rb'))"
   ]
  },
  {
   "cell_type": "code",
   "execution_count": 79,
   "id": "b3e1386a-ea1b-4b75-9fc2-4c2821931b15",
   "metadata": {},
   "outputs": [
    {
     "data": {
      "text/plain": [
       "Pipeline(steps=[('tfidf', TfidfVectorizer()), ('clf4', LinearSVC())])"
      ]
     },
     "execution_count": 79,
     "metadata": {},
     "output_type": "execute_result"
    }
   ],
   "source": [
    "vectorizer = TfidfVectorizer()\n",
    "    # Training the vectorizer:\n",
    "X_train_tfidf = vectorizer.fit_transform(X_train)\n",
    "    \n",
    "\n",
    "# 1\n",
    "    # Training the classifier:\n",
    "clf1 = LinearSVC()\n",
    "clf1.fit(X_train_tfidf, y_train1)\n",
    "    # Pipelining the vectorizer and the classifier\n",
    "text_clf1 = Pipeline([('tfidf',TfidfVectorizer()),('clf1',LinearSVC())])\n",
    "text_clf1.fit(X_train, y_train1)\n",
    "\n",
    "# 2\n",
    "    # Training the classifier:\n",
    "clf2 = LinearSVC()\n",
    "clf2.fit(X_train_tfidf, y_train1)\n",
    "    # Pipelining the vectorizer and the classifier\n",
    "text_clf2 = Pipeline([('tfidf',TfidfVectorizer()),('clf2',LinearSVC())])\n",
    "text_clf2.fit(X_train, y_train2)\n",
    "\n",
    "# 3\n",
    "    # Training the classifier:\n",
    "clf3 = LinearSVC()\n",
    "clf3.fit(X_train_tfidf, y_train3)\n",
    "    # Pipelining the vectorizer and the classifier\n",
    "text_clf3 = Pipeline([('tfidf',TfidfVectorizer()),('clf3',LinearSVC())])\n",
    "text_clf3.fit(X_train, y_train3)\n",
    "\n",
    "\n",
    "# 4\n",
    "    # Training the classifier:\n",
    "clf4 = LinearSVC()\n",
    "clf4.fit(X_train_tfidf, y_train1)\n",
    "    # Pipelining the vectorizer and the classifier\n",
    "text_clf4 = Pipeline([('tfidf',TfidfVectorizer()),('clf4',LinearSVC())])\n",
    "text_clf4.fit(X_train, y_train4)"
   ]
  },
  {
   "cell_type": "code",
   "execution_count": 51,
   "id": "0988d481-a892-4491-b9de-e572ad38d167",
   "metadata": {},
   "outputs": [
    {
     "data": {
      "text/plain": [
       "<59485x152601 sparse matrix of type '<class 'numpy.float64'>'\n",
       "\twith 16845137 stored elements in Compressed Sparse Row format>"
      ]
     },
     "execution_count": 51,
     "metadata": {},
     "output_type": "execute_result"
    }
   ],
   "source": [
    "X_train_tfidf"
   ]
  },
  {
   "cell_type": "markdown",
   "id": "952376f4",
   "metadata": {
    "papermill": {
     "duration": 0.056649,
     "end_time": "2022-01-24T11:37:08.405936",
     "exception": false,
     "start_time": "2022-01-24T11:37:08.349287",
     "status": "completed"
    },
    "tags": []
   },
   "source": [
    "# Using the test data to make predictions and analyze the accurace of the model"
   ]
  },
  {
   "cell_type": "code",
   "execution_count": 81,
   "id": "9f88f0f9",
   "metadata": {
    "papermill": {
     "duration": 13.587157,
     "end_time": "2022-01-24T11:37:22.050686",
     "exception": false,
     "start_time": "2022-01-24T11:37:08.463529",
     "status": "completed"
    },
    "tags": []
   },
   "outputs": [],
   "source": [
    "predictions1 = text_clf1.predict(X_test)"
   ]
  },
  {
   "cell_type": "code",
   "execution_count": 82,
   "id": "e10d8a56-7380-48f7-8d3c-65c2221a508b",
   "metadata": {},
   "outputs": [
    {
     "data": {
      "text/plain": [
       "array(['E', 'I', 'I', ..., 'I', 'I', 'I'], dtype=object)"
      ]
     },
     "execution_count": 82,
     "metadata": {},
     "output_type": "execute_result"
    }
   ],
   "source": [
    "predictions1"
   ]
  },
  {
   "cell_type": "code",
   "execution_count": 83,
   "id": "73684861",
   "metadata": {
    "papermill": {
     "duration": 1.152028,
     "end_time": "2022-01-24T11:37:23.262153",
     "exception": false,
     "start_time": "2022-01-24T11:37:22.110125",
     "status": "completed"
    },
    "tags": []
   },
   "outputs": [
    {
     "name": "stdout",
     "output_type": "stream",
     "text": [
      "              precision    recall  f1-score   support\n",
      "\n",
      "           E       0.80      0.69      0.74      3308\n",
      "           I       0.92      0.95      0.93     11564\n",
      "\n",
      "    accuracy                           0.89     14872\n",
      "   macro avg       0.86      0.82      0.84     14872\n",
      "weighted avg       0.89      0.89      0.89     14872\n",
      "\n"
     ]
    }
   ],
   "source": [
    "print(classification_report(y_test1, predictions1))"
   ]
  },
  {
   "cell_type": "code",
   "execution_count": 84,
   "id": "b2fe688c-fb1f-4404-a5a3-32017dd342bf",
   "metadata": {
    "papermill": {
     "duration": 13.587157,
     "end_time": "2022-01-24T11:37:22.050686",
     "exception": false,
     "start_time": "2022-01-24T11:37:08.463529",
     "status": "completed"
    },
    "tags": []
   },
   "outputs": [],
   "source": [
    "predictions2 = text_clf2.predict(X_test)"
   ]
  },
  {
   "cell_type": "code",
   "execution_count": 85,
   "id": "9a4ea802-48f7-4922-91d2-0b9c78a32d54",
   "metadata": {},
   "outputs": [
    {
     "data": {
      "text/plain": [
       "array(['N', 'N', 'N', ..., 'N', 'N', 'N'], dtype=object)"
      ]
     },
     "execution_count": 85,
     "metadata": {},
     "output_type": "execute_result"
    }
   ],
   "source": [
    "predictions2"
   ]
  },
  {
   "cell_type": "code",
   "execution_count": 86,
   "id": "def08b67-47f5-4dbc-bb65-ed0958ea49a1",
   "metadata": {
    "papermill": {
     "duration": 1.152028,
     "end_time": "2022-01-24T11:37:23.262153",
     "exception": false,
     "start_time": "2022-01-24T11:37:22.110125",
     "status": "completed"
    },
    "tags": []
   },
   "outputs": [
    {
     "name": "stdout",
     "output_type": "stream",
     "text": [
      "              precision    recall  f1-score   support\n",
      "\n",
      "           N       0.96      0.99      0.98     13720\n",
      "           S       0.84      0.56      0.67      1152\n",
      "\n",
      "    accuracy                           0.96     14872\n",
      "   macro avg       0.90      0.78      0.82     14872\n",
      "weighted avg       0.95      0.96      0.95     14872\n",
      "\n"
     ]
    }
   ],
   "source": [
    "print(classification_report(y_test2, predictions2))"
   ]
  },
  {
   "cell_type": "code",
   "execution_count": 87,
   "id": "48319b55-bbe2-4055-8c7f-c3d49d17582d",
   "metadata": {
    "papermill": {
     "duration": 13.587157,
     "end_time": "2022-01-24T11:37:22.050686",
     "exception": false,
     "start_time": "2022-01-24T11:37:08.463529",
     "status": "completed"
    },
    "tags": []
   },
   "outputs": [],
   "source": [
    "predictions3 = text_clf3.predict(X_test)"
   ]
  },
  {
   "cell_type": "code",
   "execution_count": 88,
   "id": "a8f9d34e-ca62-45d6-bdc0-d66c5f3eff2e",
   "metadata": {},
   "outputs": [
    {
     "data": {
      "text/plain": [
       "array(['T', 'F', 'F', ..., 'T', 'T', 'T'], dtype=object)"
      ]
     },
     "execution_count": 88,
     "metadata": {},
     "output_type": "execute_result"
    }
   ],
   "source": [
    "predictions3"
   ]
  },
  {
   "cell_type": "code",
   "execution_count": 89,
   "id": "1cfa9263-1708-4495-b637-833daab325db",
   "metadata": {
    "papermill": {
     "duration": 1.152028,
     "end_time": "2022-01-24T11:37:23.262153",
     "exception": false,
     "start_time": "2022-01-24T11:37:22.110125",
     "status": "completed"
    },
    "tags": []
   },
   "outputs": [
    {
     "name": "stdout",
     "output_type": "stream",
     "text": [
      "              precision    recall  f1-score   support\n",
      "\n",
      "           F       0.89      0.86      0.87      5299\n",
      "           T       0.92      0.94      0.93      9573\n",
      "\n",
      "    accuracy                           0.91     14872\n",
      "   macro avg       0.91      0.90      0.90     14872\n",
      "weighted avg       0.91      0.91      0.91     14872\n",
      "\n"
     ]
    }
   ],
   "source": [
    "print(classification_report(y_test3, predictions3))"
   ]
  },
  {
   "cell_type": "code",
   "execution_count": 90,
   "id": "00a65e63-8d03-4a7c-855b-ef2c88774f89",
   "metadata": {
    "papermill": {
     "duration": 13.587157,
     "end_time": "2022-01-24T11:37:22.050686",
     "exception": false,
     "start_time": "2022-01-24T11:37:08.463529",
     "status": "completed"
    },
    "tags": []
   },
   "outputs": [],
   "source": [
    "predictions4 = text_clf4.predict(X_test)"
   ]
  },
  {
   "cell_type": "code",
   "execution_count": 91,
   "id": "7ea4892d-88a9-42be-b604-3700b8bee885",
   "metadata": {},
   "outputs": [
    {
     "data": {
      "text/plain": [
       "array(['P', 'J', 'J', ..., 'J', 'P', 'P'], dtype=object)"
      ]
     },
     "execution_count": 91,
     "metadata": {},
     "output_type": "execute_result"
    }
   ],
   "source": [
    "predictions4"
   ]
  },
  {
   "cell_type": "code",
   "execution_count": 92,
   "id": "7a9afaa2-fec6-4d16-a0f2-25c42591459a",
   "metadata": {
    "papermill": {
     "duration": 1.152028,
     "end_time": "2022-01-24T11:37:23.262153",
     "exception": false,
     "start_time": "2022-01-24T11:37:22.110125",
     "status": "completed"
    },
    "tags": []
   },
   "outputs": [
    {
     "name": "stdout",
     "output_type": "stream",
     "text": [
      "              precision    recall  f1-score   support\n",
      "\n",
      "           J       0.82      0.80      0.81      6425\n",
      "           P       0.85      0.87      0.86      8447\n",
      "\n",
      "    accuracy                           0.84     14872\n",
      "   macro avg       0.84      0.84      0.84     14872\n",
      "weighted avg       0.84      0.84      0.84     14872\n",
      "\n"
     ]
    }
   ],
   "source": [
    "print(classification_report(y_test4, predictions4))"
   ]
  },
  {
   "cell_type": "code",
   "execution_count": 95,
   "id": "24953925-19b0-4064-b32c-3bdefcd341d7",
   "metadata": {},
   "outputs": [],
   "source": [
    "predictions = predictions1 + predictions2 + predictions3 + predictions4"
   ]
  },
  {
   "cell_type": "code",
   "execution_count": 96,
   "id": "535b783e-2d3c-479d-a173-34bbd4ba6325",
   "metadata": {
    "papermill": {
     "duration": 1.152028,
     "end_time": "2022-01-24T11:37:23.262153",
     "exception": false,
     "start_time": "2022-01-24T11:37:22.110125",
     "status": "completed"
    },
    "tags": []
   },
   "outputs": [
    {
     "name": "stdout",
     "output_type": "stream",
     "text": [
      "              precision    recall  f1-score   support\n",
      "\n",
      "        ENFJ       0.28      0.32      0.30       210\n",
      "        ENFP       0.60      0.50      0.55       828\n",
      "        ENTJ       0.59      0.60      0.60       430\n",
      "        ENTP       0.76      0.64      0.69      1582\n",
      "        ESFJ       0.33      0.11      0.17        27\n",
      "        ESFP       0.31      0.24      0.27        51\n",
      "        ESTJ       0.00      0.00      0.00        11\n",
      "        ESTP       0.70      0.52      0.60       169\n",
      "        INFJ       0.73      0.69      0.71      2232\n",
      "        INFP       0.64      0.70      0.67      1720\n",
      "        INTJ       0.73      0.75      0.74      3225\n",
      "        INTP       0.69      0.81      0.75      3493\n",
      "        ISFJ       0.39      0.21      0.27        92\n",
      "        ISFP       0.51      0.32      0.39       139\n",
      "        ISTJ       0.42      0.18      0.25       198\n",
      "        ISTP       0.72      0.56      0.63       465\n",
      "\n",
      "    accuracy                           0.69     14872\n",
      "   macro avg       0.53      0.45      0.47     14872\n",
      "weighted avg       0.68      0.69      0.68     14872\n",
      "\n"
     ]
    }
   ],
   "source": [
    "print(classification_report(y_test, predictions))"
   ]
  },
  {
   "cell_type": "code",
   "execution_count": null,
   "id": "f2ba4039-01dc-4d79-80bf-d1512855e94a",
   "metadata": {},
   "outputs": [],
   "source": []
  },
  {
   "cell_type": "code",
   "execution_count": 97,
   "id": "594c1904",
   "metadata": {
    "papermill": {
     "duration": 0.108088,
     "end_time": "2022-01-24T11:37:23.427835",
     "exception": false,
     "start_time": "2022-01-24T11:37:23.319747",
     "status": "completed"
    },
    "tags": []
   },
   "outputs": [
    {
     "name": "stdout",
     "output_type": "stream",
     "text": [
      "Overall accuracy of the model: 0.69\n"
     ]
    }
   ],
   "source": [
    "print(f\"Overall accuracy of the model: {round(metrics.accuracy_score(y_test, predictions),2)}\")"
   ]
  },
  {
   "cell_type": "markdown",
   "id": "29b0f550",
   "metadata": {
    "papermill": {
     "duration": 0.062979,
     "end_time": "2022-01-24T11:37:23.553490",
     "exception": false,
     "start_time": "2022-01-24T11:37:23.490511",
     "status": "completed"
    },
    "tags": []
   },
   "source": [
    "# End"
   ]
  },
  {
   "cell_type": "markdown",
   "id": "59ec42d8-68ef-42ae-ab64-ad3630ca0c32",
   "metadata": {},
   "source": [
    "---"
   ]
  },
  {
   "cell_type": "markdown",
   "id": "a44580ed-0841-47de-94b7-b6ffbe2ef592",
   "metadata": {},
   "source": [
    "# Submit"
   ]
  },
  {
   "cell_type": "code",
   "execution_count": 98,
   "id": "e1190c27-a917-404b-bd6c-a10f0f05f96c",
   "metadata": {},
   "outputs": [],
   "source": [
    "test_df = pd.read_csv('G://내 드라이브/Github/2022-Data-ton/dataset/MBTI_test.csv', header=None)"
   ]
  },
  {
   "cell_type": "code",
   "execution_count": 99,
   "id": "28918de4-a4d1-4747-8821-51274429b1b0",
   "metadata": {},
   "outputs": [],
   "source": [
    "test_df.columns = ['posts']"
   ]
  },
  {
   "cell_type": "code",
   "execution_count": 100,
   "id": "0b0be70a-ec74-471c-ab96-ebe04287a434",
   "metadata": {},
   "outputs": [],
   "source": [
    "X = df['posts'] # features\n",
    "y = df['type']  # labels"
   ]
  },
  {
   "cell_type": "code",
   "execution_count": 101,
   "id": "97deaba2-0c98-4718-957b-28d2fb85c97e",
   "metadata": {},
   "outputs": [],
   "source": [
    "y1 = y.str[0]\n",
    "y2 = y.str[1]\n",
    "y3 = y.str[2]\n",
    "y4 = y.str[3]"
   ]
  },
  {
   "cell_type": "code",
   "execution_count": 102,
   "id": "d5403f7a-84e3-44e9-9fac-ac802859d818",
   "metadata": {},
   "outputs": [
    {
     "data": {
      "text/plain": [
       "Pipeline(steps=[('tfidf', TfidfVectorizer()), ('clf4', LinearSVC())])"
      ]
     },
     "execution_count": 102,
     "metadata": {},
     "output_type": "execute_result"
    }
   ],
   "source": [
    "vectorizer = TfidfVectorizer()\n",
    "    # Training the vectorizer:\n",
    "X_tfidf = vectorizer.fit_transform(X)\n",
    "    \n",
    "\n",
    "# 1\n",
    "    # Training the classifier:\n",
    "clf1 = LinearSVC()\n",
    "clf1.fit(X_tfidf, y1)\n",
    "    # Pipelining the vectorizer and the classifier\n",
    "text_clf1 = Pipeline([('tfidf',TfidfVectorizer()),('clf1',LinearSVC())])\n",
    "text_clf1.fit(X, y1)\n",
    "\n",
    "# 2\n",
    "    # Training the classifier:\n",
    "clf2 = LinearSVC()\n",
    "clf2.fit(X_tfidf, y2)\n",
    "    # Pipelining the vectorizer and the classifier\n",
    "text_clf2 = Pipeline([('tfidf',TfidfVectorizer()),('clf2',LinearSVC())])\n",
    "text_clf2.fit(X, y2)\n",
    "\n",
    "# 3\n",
    "    # Training the classifier:\n",
    "clf3 = LinearSVC()\n",
    "clf3.fit(X_tfidf, y3)\n",
    "    # Pipelining the vectorizer and the classifier\n",
    "text_clf3 = Pipeline([('tfidf',TfidfVectorizer()),('clf3',LinearSVC())])\n",
    "text_clf3.fit(X, y3)\n",
    "\n",
    "\n",
    "# 4\n",
    "    # Training the classifier:\n",
    "clf4 = LinearSVC()\n",
    "clf4.fit(X_tfidf, y4)\n",
    "    # Pipelining the vectorizer and the classifier\n",
    "text_clf4 = Pipeline([('tfidf',TfidfVectorizer()),('clf4',LinearSVC())])\n",
    "text_clf4.fit(X, y4)"
   ]
  },
  {
   "cell_type": "code",
   "execution_count": 103,
   "id": "cbedb19f-e4c7-4c9e-a0f3-15dc99c9abe7",
   "metadata": {},
   "outputs": [
    {
     "data": {
      "text/html": [
       "<div>\n",
       "<style scoped>\n",
       "    .dataframe tbody tr th:only-of-type {\n",
       "        vertical-align: middle;\n",
       "    }\n",
       "\n",
       "    .dataframe tbody tr th {\n",
       "        vertical-align: top;\n",
       "    }\n",
       "\n",
       "    .dataframe thead th {\n",
       "        text-align: right;\n",
       "    }\n",
       "</style>\n",
       "<table border=\"1\" class=\"dataframe\">\n",
       "  <thead>\n",
       "    <tr style=\"text-align: right;\">\n",
       "      <th></th>\n",
       "      <th>posts</th>\n",
       "    </tr>\n",
       "  </thead>\n",
       "  <tbody>\n",
       "    <tr>\n",
       "      <th>0</th>\n",
       "      <td>get accept ya bite well stop important open lo...</td>\n",
       "    </tr>\n",
       "    <tr>\n",
       "      <th>1</th>\n",
       "      <td>offer rebel something war people friend block ...</td>\n",
       "    </tr>\n",
       "    <tr>\n",
       "      <th>2</th>\n",
       "      <td>soulmates contradiction easy basic recurrence ...</td>\n",
       "    </tr>\n",
       "    <tr>\n",
       "      <th>3</th>\n",
       "      <td>run nature q test let sound sarcastically irri...</td>\n",
       "    </tr>\n",
       "    <tr>\n",
       "      <th>4</th>\n",
       "      <td>hour fast fast suspend see strict wampum eight...</td>\n",
       "    </tr>\n",
       "    <tr>\n",
       "      <th>...</th>\n",
       "      <td>...</td>\n",
       "    </tr>\n",
       "    <tr>\n",
       "      <th>9332</th>\n",
       "      <td>increase thing liquor analyze partner consider...</td>\n",
       "    </tr>\n",
       "    <tr>\n",
       "      <th>9333</th>\n",
       "      <td>senior vote wide shame learn talk problem broo...</td>\n",
       "    </tr>\n",
       "    <tr>\n",
       "      <th>9334</th>\n",
       "      <td>want relate top understand think read generate...</td>\n",
       "    </tr>\n",
       "    <tr>\n",
       "      <th>9335</th>\n",
       "      <td>alot set intjs soooo alone ease cherish anothe...</td>\n",
       "    </tr>\n",
       "    <tr>\n",
       "      <th>9336</th>\n",
       "      <td>absent absolutely test recourse belong pe get ...</td>\n",
       "    </tr>\n",
       "  </tbody>\n",
       "</table>\n",
       "<p>9337 rows × 1 columns</p>\n",
       "</div>"
      ],
      "text/plain": [
       "                                                  posts\n",
       "0     get accept ya bite well stop important open lo...\n",
       "1     offer rebel something war people friend block ...\n",
       "2     soulmates contradiction easy basic recurrence ...\n",
       "3     run nature q test let sound sarcastically irri...\n",
       "4     hour fast fast suspend see strict wampum eight...\n",
       "...                                                 ...\n",
       "9332  increase thing liquor analyze partner consider...\n",
       "9333  senior vote wide shame learn talk problem broo...\n",
       "9334  want relate top understand think read generate...\n",
       "9335  alot set intjs soooo alone ease cherish anothe...\n",
       "9336  absent absolutely test recourse belong pe get ...\n",
       "\n",
       "[9337 rows x 1 columns]"
      ]
     },
     "execution_count": 103,
     "metadata": {},
     "output_type": "execute_result"
    }
   ],
   "source": [
    "test_df"
   ]
  },
  {
   "cell_type": "code",
   "execution_count": 107,
   "id": "95eb9160-955d-4c03-8a6e-b473fc82c9bc",
   "metadata": {
    "papermill": {
     "duration": 13.587157,
     "end_time": "2022-01-24T11:37:22.050686",
     "exception": false,
     "start_time": "2022-01-24T11:37:08.463529",
     "status": "completed"
    },
    "tags": []
   },
   "outputs": [],
   "source": [
    "predictions1 = text_clf1.predict(test_df['posts'])\n",
    "predictions2 = text_clf2.predict(test_df['posts'])\n",
    "predictions3 = text_clf3.predict(test_df['posts'])\n",
    "predictions4 = text_clf4.predict(test_df['posts'])"
   ]
  },
  {
   "cell_type": "code",
   "execution_count": 108,
   "id": "37a6ca80-982a-4a88-b780-c880f0fe7a12",
   "metadata": {},
   "outputs": [],
   "source": [
    "predictions = predictions1 + predictions2 + predictions3 + predictions4"
   ]
  },
  {
   "cell_type": "code",
   "execution_count": 144,
   "id": "c1f6776e-5c11-49ce-878c-4f4973d4fb94",
   "metadata": {},
   "outputs": [],
   "source": [
    "predictions = pd.DataFrame(predictions)"
   ]
  },
  {
   "cell_type": "code",
   "execution_count": 145,
   "id": "54c86410-1a5c-4289-a6e7-783fdabc9299",
   "metadata": {},
   "outputs": [
    {
     "data": {
      "text/plain": [
       "9337"
      ]
     },
     "execution_count": 145,
     "metadata": {},
     "output_type": "execute_result"
    }
   ],
   "source": [
    "len(predictions)"
   ]
  },
  {
   "cell_type": "code",
   "execution_count": 146,
   "id": "b347a017-fd2d-40f8-ab1f-d83e115c2cf6",
   "metadata": {},
   "outputs": [],
   "source": [
    "predictions.to_csv('R2_team15.csv', index=False, header=False)"
   ]
  },
  {
   "cell_type": "code",
   "execution_count": 111,
   "id": "f059f82f-d1f3-43d1-a3bd-b4b709867c08",
   "metadata": {},
   "outputs": [],
   "source": [
    "R1_team15 = pd.read_csv('G://내 드라이브/Github/2022-Data-ton/R1_team15.csv', header=None)"
   ]
  },
  {
   "cell_type": "code",
   "execution_count": 112,
   "id": "690bf37f-eebd-4a64-8c91-1daf997031f2",
   "metadata": {
    "papermill": {
     "duration": 1.152028,
     "end_time": "2022-01-24T11:37:23.262153",
     "exception": false,
     "start_time": "2022-01-24T11:37:22.110125",
     "status": "completed"
    },
    "tags": []
   },
   "outputs": [
    {
     "name": "stdout",
     "output_type": "stream",
     "text": [
      "              precision    recall  f1-score   support\n",
      "\n",
      "        ENFJ       0.28      0.37      0.32       107\n",
      "        ENFP       0.67      0.63      0.65       527\n",
      "        ENTJ       0.58      0.66      0.61       226\n",
      "        ENTP       0.81      0.65      0.72      1020\n",
      "        ESFJ       0.20      0.17      0.18         6\n",
      "        ESFP       0.25      0.32      0.28        22\n",
      "        ESTJ       0.11      1.00      0.20         1\n",
      "        ESTP       0.75      0.67      0.71       101\n",
      "        INFJ       0.81      0.75      0.78      1381\n",
      "        INFP       0.70      0.76      0.73      1112\n",
      "        INTJ       0.81      0.79      0.80      2099\n",
      "        INTP       0.75      0.83      0.79      2295\n",
      "        ISFJ       0.24      0.26      0.25        35\n",
      "        ISFP       0.42      0.49      0.45        49\n",
      "        ISTJ       0.55      0.35      0.43        95\n",
      "        ISTP       0.74      0.68      0.71       261\n",
      "\n",
      "    accuracy                           0.75      9337\n",
      "   macro avg       0.54      0.59      0.54      9337\n",
      "weighted avg       0.75      0.75      0.75      9337\n",
      "\n"
     ]
    }
   ],
   "source": [
    "print(classification_report(R1_team15, predictions))"
   ]
  },
  {
   "cell_type": "code",
   "execution_count": null,
   "id": "d50e96a2-2a1f-43b8-ab4a-f3298b3a8a61",
   "metadata": {},
   "outputs": [],
   "source": []
  },
  {
   "cell_type": "code",
   "execution_count": 114,
   "id": "0f875f22-cf21-43a2-a8cb-c3d97435359a",
   "metadata": {
    "papermill": {
     "duration": 0.108088,
     "end_time": "2022-01-24T11:37:23.427835",
     "exception": false,
     "start_time": "2022-01-24T11:37:23.319747",
     "status": "completed"
    },
    "tags": []
   },
   "outputs": [
    {
     "name": "stdout",
     "output_type": "stream",
     "text": [
      "Overall accuracy of the model: 0.75\n"
     ]
    }
   ],
   "source": [
    "print(f\"Overall accuracy of the model: {round(metrics.accuracy_score(R1_team15, predictions),2)}\")"
   ]
  },
  {
   "cell_type": "code",
   "execution_count": 138,
   "id": "d0030a81-c6c0-4114-a26b-6ea851af9305",
   "metadata": {},
   "outputs": [
    {
     "name": "stdout",
     "output_type": "stream",
     "text": [
      "              precision    recall  f1-score   support\n",
      "\n",
      "           E       0.84      0.77      0.81      2010\n",
      "           I       0.94      0.96      0.95      7327\n",
      "\n",
      "    accuracy                           0.92      9337\n",
      "   macro avg       0.89      0.87      0.88      9337\n",
      "weighted avg       0.92      0.92      0.92      9337\n",
      "\n"
     ]
    }
   ],
   "source": [
    "print(classification_report(R1_team15[0].str[0], pd.Series(predictions).str[0]))"
   ]
  },
  {
   "cell_type": "code",
   "execution_count": 140,
   "id": "53ff983b-8939-49d7-996c-a869f595201f",
   "metadata": {},
   "outputs": [
    {
     "name": "stdout",
     "output_type": "stream",
     "text": [
      "              precision    recall  f1-score   support\n",
      "\n",
      "           E       0.84      0.77      0.81      2010\n",
      "           I       0.94      0.96      0.95      7327\n",
      "\n",
      "    accuracy                           0.92      9337\n",
      "   macro avg       0.89      0.87      0.88      9337\n",
      "weighted avg       0.92      0.92      0.92      9337\n",
      "\n",
      "              precision    recall  f1-score   support\n",
      "\n",
      "           N       0.98      0.99      0.99      8767\n",
      "           S       0.80      0.74      0.77       570\n",
      "\n",
      "    accuracy                           0.97      9337\n",
      "   macro avg       0.89      0.87      0.88      9337\n",
      "weighted avg       0.97      0.97      0.97      9337\n",
      "\n",
      "              precision    recall  f1-score   support\n",
      "\n",
      "           F       0.89      0.89      0.89      3239\n",
      "           T       0.94      0.94      0.94      6098\n",
      "\n",
      "    accuracy                           0.93      9337\n",
      "   macro avg       0.92      0.92      0.92      9337\n",
      "weighted avg       0.93      0.93      0.93      9337\n",
      "\n",
      "              precision    recall  f1-score   support\n",
      "\n",
      "           J       0.87      0.86      0.87      3950\n",
      "           P       0.90      0.91      0.90      5387\n",
      "\n",
      "    accuracy                           0.89      9337\n",
      "   macro avg       0.89      0.88      0.88      9337\n",
      "weighted avg       0.89      0.89      0.89      9337\n",
      "\n"
     ]
    }
   ],
   "source": [
    "print(classification_report(R1_team15[0].str[0], pd.Series(predictions).str[0]))\n",
    "print(classification_report(R1_team15[0].str[1], pd.Series(predictions).str[1]))\n",
    "print(classification_report(R1_team15[0].str[2], pd.Series(predictions).str[2]))\n",
    "print(classification_report(R1_team15[0].str[3], pd.Series(predictions).str[3]))"
   ]
  }
 ],
 "metadata": {
  "kernelspec": {
   "display_name": "Python 3",
   "language": "python",
   "name": "python3"
  },
  "language_info": {
   "codemirror_mode": {
    "name": "ipython",
    "version": 3
   },
   "file_extension": ".py",
   "mimetype": "text/x-python",
   "name": "python",
   "nbconvert_exporter": "python",
   "pygments_lexer": "ipython3",
   "version": "3.8.8"
  },
  "papermill": {
   "default_parameters": {},
   "duration": 247.963482,
   "end_time": "2022-01-24T11:37:26.913576",
   "environment_variables": {},
   "exception": null,
   "input_path": "__notebook__.ipynb",
   "output_path": "__notebook__.ipynb",
   "parameters": {},
   "start_time": "2022-01-24T11:33:18.950094",
   "version": "2.3.3"
  }
 },
 "nbformat": 4,
 "nbformat_minor": 5
}
