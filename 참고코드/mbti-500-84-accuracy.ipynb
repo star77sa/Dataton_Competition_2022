{
 "cells": [
  {
   "cell_type": "markdown",
   "id": "b895dce9",
   "metadata": {
    "papermill": {
     "duration": 0.05475,
     "end_time": "2022-01-24T11:33:29.924313",
     "exception": false,
     "start_time": "2022-01-24T11:33:29.869563",
     "status": "completed"
    },
    "tags": []
   },
   "source": [
    "# Importing libraries"
   ]
  },
  {
   "cell_type": "code",
   "execution_count": 3,
   "id": "8a7dec48",
   "metadata": {
    "papermill": {
     "duration": 11.507019,
     "end_time": "2022-01-24T11:33:41.485611",
     "exception": false,
     "start_time": "2022-01-24T11:33:29.978592",
     "status": "completed"
    },
    "tags": []
   },
   "outputs": [],
   "source": [
    "import pandas as pd\n",
    "from sklearn.model_selection import train_test_split\n",
    "from sklearn.feature_extraction.text import TfidfVectorizer\n",
    "from sklearn.svm import LinearSVC\n",
    "from sklearn.pipeline import Pipeline\n",
    "from sklearn import metrics\n",
    "from sklearn.metrics import classification_report, f1_score\n",
    "import pickle\n",
    "import os.path\n",
    "import plotly.offline as pyo\n",
    "import plotly.graph_objs as go\n",
    "import spacy\n",
    "from nltk.stem.snowball import SnowballStemmer\n",
    "from sklearn.feature_extraction.text import CountVectorizer"
   ]
  },
  {
   "cell_type": "code",
   "execution_count": 4,
   "id": "b14d4744",
   "metadata": {
    "papermill": {
     "duration": 0.058977,
     "end_time": "2022-01-24T11:33:41.598119",
     "exception": false,
     "start_time": "2022-01-24T11:33:41.539142",
     "status": "completed"
    },
    "tags": []
   },
   "outputs": [],
   "source": [
    "#"
   ]
  },
  {
   "cell_type": "markdown",
   "id": "1eb85d37",
   "metadata": {
    "papermill": {
     "duration": 0.052483,
     "end_time": "2022-01-24T11:33:41.704269",
     "exception": false,
     "start_time": "2022-01-24T11:33:41.651786",
     "status": "completed"
    },
    "tags": []
   },
   "source": [
    "# Context"
   ]
  },
  {
   "cell_type": "markdown",
   "id": "83c3d06a",
   "metadata": {
    "papermill": {
     "duration": 0.049457,
     "end_time": "2022-01-24T11:33:41.807654",
     "exception": false,
     "start_time": "2022-01-24T11:33:41.758197",
     "status": "completed"
    },
    "tags": []
   },
   "source": [
    "MBTI (Myers-Briggs Type Indicator) is an introspective self-report questionnaire indicating differing psychological preferences (cognitive functions) in how people perceive the world and make decisions"
   ]
  },
  {
   "cell_type": "markdown",
   "id": "2f48fa18",
   "metadata": {
    "papermill": {
     "duration": 0.052204,
     "end_time": "2022-01-24T11:33:41.913137",
     "exception": false,
     "start_time": "2022-01-24T11:33:41.860933",
     "status": "completed"
    },
    "tags": []
   },
   "source": [
    "This study was made based on the kaggle dataset https://www.kaggle.com/zeyadkhalid/mbti-personality-types-500-dataset"
   ]
  },
  {
   "cell_type": "markdown",
   "id": "2ebe1ed5",
   "metadata": {
    "papermill": {
     "duration": 0.050692,
     "end_time": "2022-01-24T11:33:42.015274",
     "exception": false,
     "start_time": "2022-01-24T11:33:41.964582",
     "status": "completed"
    },
    "tags": []
   },
   "source": [
    "# Content"
   ]
  },
  {
   "cell_type": "markdown",
   "id": "ec3c8303",
   "metadata": {
    "papermill": {
     "duration": 0.05279,
     "end_time": "2022-01-24T11:33:42.119254",
     "exception": false,
     "start_time": "2022-01-24T11:33:42.066464",
     "status": "completed"
    },
    "tags": []
   },
   "source": [
    "    ~106K records of preprocessed posts and their authors' personality types.\n",
    "    \n",
    "    Posts are equal-sized: 500 words per sample   "
   ]
  },
  {
   "cell_type": "markdown",
   "id": "5fc24907",
   "metadata": {
    "papermill": {
     "duration": 0.052911,
     "end_time": "2022-01-24T11:33:42.225904",
     "exception": false,
     "start_time": "2022-01-24T11:33:42.172993",
     "status": "completed"
    },
    "tags": []
   },
   "source": [
    "# About the dataset"
   ]
  },
  {
   "cell_type": "markdown",
   "id": "18c8f188",
   "metadata": {
    "papermill": {
     "duration": 0.052087,
     "end_time": "2022-01-24T11:33:42.329340",
     "exception": false,
     "start_time": "2022-01-24T11:33:42.277253",
     "status": "completed"
    },
    "tags": []
   },
   "source": [
    "Posts are preprocessed texts:\n",
    "\n",
    "    - No punctuations, stopwords, URLs\n",
    "    \n",
    "    - Lemmatization\n",
    "    \n",
    "    - Reconstruct samples to be equal-sized chunks (500 words per sample)\n",
    "    \n",
    "Personality types are 16 unique values"
   ]
  },
  {
   "cell_type": "markdown",
   "id": "7e460ad9",
   "metadata": {
    "papermill": {
     "duration": 0.051918,
     "end_time": "2022-01-24T11:33:42.433344",
     "exception": false,
     "start_time": "2022-01-24T11:33:42.381426",
     "status": "completed"
    },
    "tags": []
   },
   "source": [
    "# Stop words"
   ]
  },
  {
   "cell_type": "markdown",
   "id": "97927d43",
   "metadata": {
    "papermill": {
     "duration": 0.053146,
     "end_time": "2022-01-24T11:33:42.536326",
     "exception": false,
     "start_time": "2022-01-24T11:33:42.483180",
     "status": "completed"
    },
    "tags": []
   },
   "source": [
    "As said, this dataset doesn't has any stop words"
   ]
  },
  {
   "cell_type": "markdown",
   "id": "7debdbed",
   "metadata": {
    "papermill": {
     "duration": 0.053418,
     "end_time": "2022-01-24T11:33:42.643807",
     "exception": false,
     "start_time": "2022-01-24T11:33:42.590389",
     "status": "completed"
    },
    "tags": []
   },
   "source": [
    "\"Stop words\" are words that appears so frequently that don't require tagging as thoroughly as nouns, verbs and modifiers"
   ]
  },
  {
   "cell_type": "markdown",
   "id": "f43eade4",
   "metadata": {
    "papermill": {
     "duration": 0.055398,
     "end_time": "2022-01-24T11:33:42.752155",
     "exception": false,
     "start_time": "2022-01-24T11:33:42.696757",
     "status": "completed"
    },
    "tags": []
   },
   "source": [
    "Let's use the library Spacy to see examples of english stop words\n",
    "\n",
    "Spacy is the Industrial Strength Natural Language Processing: https://spacy.io/"
   ]
  },
  {
   "cell_type": "code",
   "execution_count": 5,
   "id": "7fa27546",
   "metadata": {
    "papermill": {
     "duration": 0.920381,
     "end_time": "2022-01-24T11:33:43.725499",
     "exception": false,
     "start_time": "2022-01-24T11:33:42.805118",
     "status": "completed"
    },
    "tags": []
   },
   "outputs": [
    {
     "ename": "OSError",
     "evalue": "[E050] Can't find model 'en_core_web_sm'. It doesn't seem to be a Python package or a valid path to a data directory.",
     "output_type": "error",
     "traceback": [
      "\u001b[1;31m---------------------------------------------------------------------------\u001b[0m",
      "\u001b[1;31mOSError\u001b[0m                                   Traceback (most recent call last)",
      "\u001b[1;32m<ipython-input-5-71bc8d71991a>\u001b[0m in \u001b[0;36m<module>\u001b[1;34m\u001b[0m\n\u001b[0;32m      1\u001b[0m \u001b[1;31m# Load one of the availables trained pipelines for English\u001b[0m\u001b[1;33m\u001b[0m\u001b[1;33m\u001b[0m\u001b[1;33m\u001b[0m\u001b[0m\n\u001b[0;32m      2\u001b[0m \u001b[1;31m# English pipeline optimized for CPU. Components: tok2vec, tagger, parser, senter, ner, attribute_ruler, lemmatizer.\u001b[0m\u001b[1;33m\u001b[0m\u001b[1;33m\u001b[0m\u001b[1;33m\u001b[0m\u001b[0m\n\u001b[1;32m----> 3\u001b[1;33m \u001b[0mnlp\u001b[0m \u001b[1;33m=\u001b[0m \u001b[0mspacy\u001b[0m\u001b[1;33m.\u001b[0m\u001b[0mload\u001b[0m\u001b[1;33m(\u001b[0m\u001b[1;34m'en_core_web_sm'\u001b[0m\u001b[1;33m)\u001b[0m\u001b[1;33m\u001b[0m\u001b[1;33m\u001b[0m\u001b[0m\n\u001b[0m\u001b[0;32m      4\u001b[0m \u001b[1;33m\u001b[0m\u001b[0m\n\u001b[0;32m      5\u001b[0m \u001b[1;33m\u001b[0m\u001b[0m\n",
      "\u001b[1;32m~\\anaconda3\\lib\\site-packages\\spacy\\__init__.py\u001b[0m in \u001b[0;36mload\u001b[1;34m(name, vocab, disable, exclude, config)\u001b[0m\n\u001b[0;32m     49\u001b[0m     \u001b[0mRETURNS\u001b[0m \u001b[1;33m(\u001b[0m\u001b[0mLanguage\u001b[0m\u001b[1;33m)\u001b[0m\u001b[1;33m:\u001b[0m \u001b[0mThe\u001b[0m \u001b[0mloaded\u001b[0m \u001b[0mnlp\u001b[0m \u001b[0mobject\u001b[0m\u001b[1;33m.\u001b[0m\u001b[1;33m\u001b[0m\u001b[1;33m\u001b[0m\u001b[0m\n\u001b[0;32m     50\u001b[0m     \"\"\"\n\u001b[1;32m---> 51\u001b[1;33m     return util.load_model(\n\u001b[0m\u001b[0;32m     52\u001b[0m         \u001b[0mname\u001b[0m\u001b[1;33m,\u001b[0m \u001b[0mvocab\u001b[0m\u001b[1;33m=\u001b[0m\u001b[0mvocab\u001b[0m\u001b[1;33m,\u001b[0m \u001b[0mdisable\u001b[0m\u001b[1;33m=\u001b[0m\u001b[0mdisable\u001b[0m\u001b[1;33m,\u001b[0m \u001b[0mexclude\u001b[0m\u001b[1;33m=\u001b[0m\u001b[0mexclude\u001b[0m\u001b[1;33m,\u001b[0m \u001b[0mconfig\u001b[0m\u001b[1;33m=\u001b[0m\u001b[0mconfig\u001b[0m\u001b[1;33m\u001b[0m\u001b[1;33m\u001b[0m\u001b[0m\n\u001b[0;32m     53\u001b[0m     )\n",
      "\u001b[1;32m~\\anaconda3\\lib\\site-packages\\spacy\\util.py\u001b[0m in \u001b[0;36mload_model\u001b[1;34m(name, vocab, disable, exclude, config)\u001b[0m\n\u001b[0;32m    425\u001b[0m     \u001b[1;32mif\u001b[0m \u001b[0mname\u001b[0m \u001b[1;32min\u001b[0m \u001b[0mOLD_MODEL_SHORTCUTS\u001b[0m\u001b[1;33m:\u001b[0m\u001b[1;33m\u001b[0m\u001b[1;33m\u001b[0m\u001b[0m\n\u001b[0;32m    426\u001b[0m         \u001b[1;32mraise\u001b[0m \u001b[0mIOError\u001b[0m\u001b[1;33m(\u001b[0m\u001b[0mErrors\u001b[0m\u001b[1;33m.\u001b[0m\u001b[0mE941\u001b[0m\u001b[1;33m.\u001b[0m\u001b[0mformat\u001b[0m\u001b[1;33m(\u001b[0m\u001b[0mname\u001b[0m\u001b[1;33m=\u001b[0m\u001b[0mname\u001b[0m\u001b[1;33m,\u001b[0m \u001b[0mfull\u001b[0m\u001b[1;33m=\u001b[0m\u001b[0mOLD_MODEL_SHORTCUTS\u001b[0m\u001b[1;33m[\u001b[0m\u001b[0mname\u001b[0m\u001b[1;33m]\u001b[0m\u001b[1;33m)\u001b[0m\u001b[1;33m)\u001b[0m  \u001b[1;31m# type: ignore[index]\u001b[0m\u001b[1;33m\u001b[0m\u001b[1;33m\u001b[0m\u001b[0m\n\u001b[1;32m--> 427\u001b[1;33m     \u001b[1;32mraise\u001b[0m \u001b[0mIOError\u001b[0m\u001b[1;33m(\u001b[0m\u001b[0mErrors\u001b[0m\u001b[1;33m.\u001b[0m\u001b[0mE050\u001b[0m\u001b[1;33m.\u001b[0m\u001b[0mformat\u001b[0m\u001b[1;33m(\u001b[0m\u001b[0mname\u001b[0m\u001b[1;33m=\u001b[0m\u001b[0mname\u001b[0m\u001b[1;33m)\u001b[0m\u001b[1;33m)\u001b[0m\u001b[1;33m\u001b[0m\u001b[1;33m\u001b[0m\u001b[0m\n\u001b[0m\u001b[0;32m    428\u001b[0m \u001b[1;33m\u001b[0m\u001b[0m\n\u001b[0;32m    429\u001b[0m \u001b[1;33m\u001b[0m\u001b[0m\n",
      "\u001b[1;31mOSError\u001b[0m: [E050] Can't find model 'en_core_web_sm'. It doesn't seem to be a Python package or a valid path to a data directory."
     ]
    }
   ],
   "source": [
    "# Load one of the availables trained pipelines for English\n",
    "# English pipeline optimized for CPU. Components: tok2vec, tagger, parser, senter, ner, attribute_ruler, lemmatizer.\n",
    "nlp = spacy.load('en_core_web_sm')\n",
    "\n",
    "\n",
    "# stop words built in spacy (english)\n",
    "print(nlp.Defaults.stop_words)"
   ]
  },
  {
   "cell_type": "code",
   "execution_count": 4,
   "id": "287e91c5",
   "metadata": {
    "execution": {
     "iopub.execute_input": "2022-01-24T11:33:43.834292Z",
     "iopub.status.busy": "2022-01-24T11:33:43.833286Z",
     "iopub.status.idle": "2022-01-24T11:33:43.837819Z",
     "shell.execute_reply": "2022-01-24T11:33:43.838304Z",
     "shell.execute_reply.started": "2022-01-23T18:31:25.261674Z"
    },
    "papermill": {
     "duration": 0.060656,
     "end_time": "2022-01-24T11:33:43.838485",
     "exception": false,
     "start_time": "2022-01-24T11:33:43.777829",
     "status": "completed"
    },
    "tags": []
   },
   "outputs": [
    {
     "name": "stdout",
     "output_type": "stream",
     "text": [
      "Number of default stop words : 326\n"
     ]
    }
   ],
   "source": [
    "print(f\"Number of default stop words : {len(nlp.Defaults.stop_words)}\")"
   ]
  },
  {
   "cell_type": "code",
   "execution_count": 5,
   "id": "154ed734",
   "metadata": {
    "execution": {
     "iopub.execute_input": "2022-01-24T11:33:43.948692Z",
     "iopub.status.busy": "2022-01-24T11:33:43.947811Z",
     "iopub.status.idle": "2022-01-24T11:33:43.952361Z",
     "shell.execute_reply": "2022-01-24T11:33:43.951699Z",
     "shell.execute_reply.started": "2022-01-23T18:31:25.268537Z"
    },
    "papermill": {
     "duration": 0.06425,
     "end_time": "2022-01-24T11:33:43.952504",
     "exception": false,
     "start_time": "2022-01-24T11:33:43.888254",
     "status": "completed"
    },
    "tags": []
   },
   "outputs": [
    {
     "data": {
      "text/plain": [
       "True"
      ]
     },
     "execution_count": 5,
     "metadata": {},
     "output_type": "execute_result"
    }
   ],
   "source": [
    "# Checking if a word is a stop word\n",
    "nlp.vocab['is'].is_stop"
   ]
  },
  {
   "cell_type": "code",
   "execution_count": 6,
   "id": "06f1a8fb",
   "metadata": {
    "execution": {
     "iopub.execute_input": "2022-01-24T11:33:44.059443Z",
     "iopub.status.busy": "2022-01-24T11:33:44.058801Z",
     "iopub.status.idle": "2022-01-24T11:33:44.061256Z",
     "shell.execute_reply": "2022-01-24T11:33:44.061762Z",
     "shell.execute_reply.started": "2022-01-23T18:31:25.284322Z"
    },
    "papermill": {
     "duration": 0.058598,
     "end_time": "2022-01-24T11:33:44.061931",
     "exception": false,
     "start_time": "2022-01-24T11:33:44.003333",
     "status": "completed"
    },
    "tags": []
   },
   "outputs": [
    {
     "data": {
      "text/plain": [
       "True"
      ]
     },
     "execution_count": 6,
     "metadata": {},
     "output_type": "execute_result"
    }
   ],
   "source": [
    "nlp.vocab['below'].is_stop"
   ]
  },
  {
   "cell_type": "code",
   "execution_count": 7,
   "id": "806798b1",
   "metadata": {
    "execution": {
     "iopub.execute_input": "2022-01-24T11:33:44.170344Z",
     "iopub.status.busy": "2022-01-24T11:33:44.169646Z",
     "iopub.status.idle": "2022-01-24T11:33:44.172226Z",
     "shell.execute_reply": "2022-01-24T11:33:44.172696Z",
     "shell.execute_reply.started": "2022-01-23T18:31:25.296462Z"
    },
    "papermill": {
     "duration": 0.059377,
     "end_time": "2022-01-24T11:33:44.172888",
     "exception": false,
     "start_time": "2022-01-24T11:33:44.113511",
     "status": "completed"
    },
    "tags": []
   },
   "outputs": [
    {
     "data": {
      "text/plain": [
       "False"
      ]
     },
     "execution_count": 7,
     "metadata": {},
     "output_type": "execute_result"
    }
   ],
   "source": [
    "nlp.vocab['btw'].is_stop"
   ]
  },
  {
   "cell_type": "markdown",
   "id": "aa97ea9d",
   "metadata": {
    "papermill": {
     "duration": 0.05387,
     "end_time": "2022-01-24T11:33:44.278859",
     "exception": false,
     "start_time": "2022-01-24T11:33:44.224989",
     "status": "completed"
    },
    "tags": []
   },
   "source": [
    "# Lemmatization"
   ]
  },
  {
   "cell_type": "markdown",
   "id": "5ac88dda",
   "metadata": {
    "papermill": {
     "duration": 0.050478,
     "end_time": "2022-01-24T11:33:44.380871",
     "exception": false,
     "start_time": "2022-01-24T11:33:44.330393",
     "status": "completed"
    },
    "tags": []
   },
   "source": [
    "As said before, this dataset also has Lemmatization preprocess feature"
   ]
  },
  {
   "cell_type": "markdown",
   "id": "ccc0fd6d",
   "metadata": {
    "papermill": {
     "duration": 0.05159,
     "end_time": "2022-01-24T11:33:44.485121",
     "exception": false,
     "start_time": "2022-01-24T11:33:44.433531",
     "status": "completed"
    },
    "tags": []
   },
   "source": [
    "In order to understand lemmatization, first we'll look at the concept of Stemming"
   ]
  },
  {
   "cell_type": "markdown",
   "id": "3389913b",
   "metadata": {
    "papermill": {
     "duration": 0.05219,
     "end_time": "2022-01-24T11:33:44.592784",
     "exception": false,
     "start_time": "2022-01-24T11:33:44.540594",
     "status": "completed"
    },
    "tags": []
   },
   "source": [
    "### Stemming"
   ]
  },
  {
   "cell_type": "markdown",
   "id": "fbb08d93",
   "metadata": {
    "papermill": {
     "duration": 0.053706,
     "end_time": "2022-01-24T11:33:44.697530",
     "exception": false,
     "start_time": "2022-01-24T11:33:44.643824",
     "status": "completed"
    },
    "tags": []
   },
   "source": [
    "Stemming is used to return similarities words on the search process. \n",
    " \n",
    " - Example: search=boat, also returns \"boats\" and \"boating\""
   ]
  },
  {
   "cell_type": "markdown",
   "id": "81ebc35e",
   "metadata": {
    "papermill": {
     "duration": 0.051708,
     "end_time": "2022-01-24T11:33:44.802379",
     "exception": false,
     "start_time": "2022-01-24T11:33:44.750671",
     "status": "completed"
    },
    "tags": []
   },
   "source": [
    "Let's use a sophisticated stemmer, the SnowballStemmer from NLTK (natural language toolkit)"
   ]
  },
  {
   "cell_type": "code",
   "execution_count": 8,
   "id": "5590a362",
   "metadata": {
    "execution": {
     "iopub.execute_input": "2022-01-24T11:33:44.911394Z",
     "iopub.status.busy": "2022-01-24T11:33:44.910746Z",
     "iopub.status.idle": "2022-01-24T11:33:44.912340Z",
     "shell.execute_reply": "2022-01-24T11:33:44.913003Z",
     "shell.execute_reply.started": "2022-01-23T18:31:25.308081Z"
    },
    "papermill": {
     "duration": 0.059525,
     "end_time": "2022-01-24T11:33:44.913195",
     "exception": false,
     "start_time": "2022-01-24T11:33:44.853670",
     "status": "completed"
    },
    "tags": []
   },
   "outputs": [],
   "source": [
    "s_stemmer = SnowballStemmer(language='english')"
   ]
  },
  {
   "cell_type": "code",
   "execution_count": 9,
   "id": "b2798e2c",
   "metadata": {
    "execution": {
     "iopub.execute_input": "2022-01-24T11:33:45.021540Z",
     "iopub.status.busy": "2022-01-24T11:33:45.020538Z",
     "iopub.status.idle": "2022-01-24T11:33:45.026180Z",
     "shell.execute_reply": "2022-01-24T11:33:45.025213Z",
     "shell.execute_reply.started": "2022-01-23T18:31:25.317655Z"
    },
    "papermill": {
     "duration": 0.059655,
     "end_time": "2022-01-24T11:33:45.026370",
     "exception": false,
     "start_time": "2022-01-24T11:33:44.966715",
     "status": "completed"
    },
    "tags": []
   },
   "outputs": [],
   "source": [
    "words = ['run', 'runner', 'ran', 'runs', 'easily', 'fairly', 'fairness','boats','boating']"
   ]
  },
  {
   "cell_type": "code",
   "execution_count": 10,
   "id": "e93bf1a6",
   "metadata": {
    "execution": {
     "iopub.execute_input": "2022-01-24T11:33:45.140020Z",
     "iopub.status.busy": "2022-01-24T11:33:45.139024Z",
     "iopub.status.idle": "2022-01-24T11:33:45.142258Z",
     "shell.execute_reply": "2022-01-24T11:33:45.142771Z",
     "shell.execute_reply.started": "2022-01-23T18:31:25.330617Z"
    },
    "papermill": {
     "duration": 0.061653,
     "end_time": "2022-01-24T11:33:45.142962",
     "exception": false,
     "start_time": "2022-01-24T11:33:45.081309",
     "status": "completed"
    },
    "tags": []
   },
   "outputs": [
    {
     "name": "stdout",
     "output_type": "stream",
     "text": [
      "run ------> run\n",
      "runner ------> runner\n",
      "ran ------> ran\n",
      "runs ------> run\n",
      "easily ------> easili\n",
      "fairly ------> fair\n",
      "fairness ------> fair\n",
      "boats ------> boat\n",
      "boating ------> boat\n"
     ]
    }
   ],
   "source": [
    "for word in words:\n",
    "    print(word+ ' ------> ' + s_stemmer.stem(word))"
   ]
  },
  {
   "cell_type": "markdown",
   "id": "11338422",
   "metadata": {
    "papermill": {
     "duration": 0.050537,
     "end_time": "2022-01-24T11:33:45.244467",
     "exception": false,
     "start_time": "2022-01-24T11:33:45.193930",
     "status": "completed"
    },
    "tags": []
   },
   "source": [
    "Now, let's look about Lemmatization"
   ]
  },
  {
   "cell_type": "markdown",
   "id": "e972d11e",
   "metadata": {
    "papermill": {
     "duration": 0.050527,
     "end_time": "2022-01-24T11:33:45.346057",
     "exception": false,
     "start_time": "2022-01-24T11:33:45.295530",
     "status": "completed"
    },
    "tags": []
   },
   "source": [
    "### Lemmatization example"
   ]
  },
  {
   "cell_type": "markdown",
   "id": "dce2dbed",
   "metadata": {
    "papermill": {
     "duration": 0.050373,
     "end_time": "2022-01-24T11:33:45.447445",
     "exception": false,
     "start_time": "2022-01-24T11:33:45.397072",
     "status": "completed"
    },
    "tags": []
   },
   "source": [
    "In constrast with stemming, Lemmatization looks beyond word reduction, and considers a language's full vocabulary to apply a morphological analysis to words."
   ]
  },
  {
   "cell_type": "code",
   "execution_count": 11,
   "id": "28df2305",
   "metadata": {
    "execution": {
     "iopub.execute_input": "2022-01-24T11:33:45.564278Z",
     "iopub.status.busy": "2022-01-24T11:33:45.563597Z",
     "iopub.status.idle": "2022-01-24T11:33:45.566398Z",
     "shell.execute_reply": "2022-01-24T11:33:45.566879Z",
     "shell.execute_reply.started": "2022-01-23T18:31:25.348163Z"
    },
    "papermill": {
     "duration": 0.06472,
     "end_time": "2022-01-24T11:33:45.567073",
     "exception": false,
     "start_time": "2022-01-24T11:33:45.502353",
     "status": "completed"
    },
    "tags": []
   },
   "outputs": [],
   "source": [
    "# Function to display lemmas\n",
    "def show_lemmas(text):\n",
    "    for token in text:\n",
    "        print(f'{token.text:{12}} {token.pos_:{6}} {token.lemma:<{22}} {token.lemma_}')"
   ]
  },
  {
   "cell_type": "code",
   "execution_count": 12,
   "id": "ddf76467",
   "metadata": {
    "execution": {
     "iopub.execute_input": "2022-01-24T11:33:45.705095Z",
     "iopub.status.busy": "2022-01-24T11:33:45.704161Z",
     "iopub.status.idle": "2022-01-24T11:33:45.729349Z",
     "shell.execute_reply": "2022-01-24T11:33:45.730314Z",
     "shell.execute_reply.started": "2022-01-23T18:31:25.357377Z"
    },
    "papermill": {
     "duration": 0.104115,
     "end_time": "2022-01-24T11:33:45.730514",
     "exception": false,
     "start_time": "2022-01-24T11:33:45.626399",
     "status": "completed"
    },
    "tags": []
   },
   "outputs": [
    {
     "name": "stdout",
     "output_type": "stream",
     "text": [
      "I            PRON   4690420944186131903    I\n",
      "saw          VERB   11925638236994514241   see\n",
      "eighteen     NUM    9609336664675087640    eighteen\n",
      "mice         NOUN   1384165645700560590    mouse\n",
      "today        NOUN   11042482332948150395   today\n",
      "!            PUNCT  17494803046312582752   !\n"
     ]
    }
   ],
   "source": [
    "doc = nlp(u\"I saw eighteen mice today!\")\n",
    "show_lemmas(doc)"
   ]
  },
  {
   "cell_type": "code",
   "execution_count": 13,
   "id": "1200959c",
   "metadata": {
    "execution": {
     "iopub.execute_input": "2022-01-24T11:33:45.854341Z",
     "iopub.status.busy": "2022-01-24T11:33:45.853388Z",
     "iopub.status.idle": "2022-01-24T11:33:45.873966Z",
     "shell.execute_reply": "2022-01-24T11:33:45.874632Z",
     "shell.execute_reply.started": "2022-01-23T18:31:25.382649Z"
    },
    "papermill": {
     "duration": 0.079075,
     "end_time": "2022-01-24T11:33:45.874902",
     "exception": false,
     "start_time": "2022-01-24T11:33:45.795827",
     "status": "completed"
    },
    "tags": []
   },
   "outputs": [
    {
     "name": "stdout",
     "output_type": "stream",
     "text": [
      "I            PRON   4690420944186131903    I\n",
      "am           AUX    10382539506755952630   be\n",
      "meeting      VERB   6880656908171229526    meet\n",
      "him          PRON   1655312771067108281    he\n",
      "tomorrow     NOUN   3573583789758258062    tomorrow\n",
      "at           ADP    11667289587015813222   at\n",
      "the          DET    7425985699627899538    the\n",
      "meeting      NOUN   14798207169164081740   meeting\n",
      ".            PUNCT  12646065887601541794   .\n"
     ]
    }
   ],
   "source": [
    "doc = nlp(u\"I am meeting him tomorrow at the meeting.\")\n",
    "show_lemmas(doc)"
   ]
  },
  {
   "cell_type": "markdown",
   "id": "d0b1b524",
   "metadata": {
    "papermill": {
     "duration": 0.061489,
     "end_time": "2022-01-24T11:33:45.997965",
     "exception": false,
     "start_time": "2022-01-24T11:33:45.936476",
     "status": "completed"
    },
    "tags": []
   },
   "source": [
    "Now it's time to talk about Text Feature Extraction"
   ]
  },
  {
   "cell_type": "markdown",
   "id": "4a49e164",
   "metadata": {
    "papermill": {
     "duration": 0.058532,
     "end_time": "2022-01-24T11:33:46.115031",
     "exception": false,
     "start_time": "2022-01-24T11:33:46.056499",
     "status": "completed"
    },
    "tags": []
   },
   "source": [
    "# Text Feature Extraction"
   ]
  },
  {
   "cell_type": "markdown",
   "id": "336fee11",
   "metadata": {
    "papermill": {
     "duration": 0.058791,
     "end_time": "2022-01-24T11:33:46.235014",
     "exception": false,
     "start_time": "2022-01-24T11:33:46.176223",
     "status": "completed"
    },
    "tags": []
   },
   "source": [
    "After preprocess data it's time to extract features from the text in order to prepare the machine learning model"
   ]
  },
  {
   "cell_type": "markdown",
   "id": "58e53c61",
   "metadata": {
    "papermill": {
     "duration": 0.05577,
     "end_time": "2022-01-24T11:33:46.346287",
     "exception": false,
     "start_time": "2022-01-24T11:33:46.290517",
     "status": "completed"
    },
    "tags": []
   },
   "source": [
    "### Count Vectorization"
   ]
  },
  {
   "cell_type": "markdown",
   "id": "0a7d3da5",
   "metadata": {
    "papermill": {
     "duration": 0.059072,
     "end_time": "2022-01-24T11:33:46.465396",
     "exception": false,
     "start_time": "2022-01-24T11:33:46.406324",
     "status": "completed"
    },
    "tags": []
   },
   "source": [
    "1. Treats each word of a text individually as a feature\n",
    "\n",
    "2. After that, counts each occurrence of each word in the document\n",
    "\n",
    "3. Than, makes a matrix DTM (Document Term Matrix)"
   ]
  },
  {
   "cell_type": "code",
   "execution_count": 14,
   "id": "2a00a722",
   "metadata": {
    "execution": {
     "iopub.execute_input": "2022-01-24T11:33:46.575541Z",
     "iopub.status.busy": "2022-01-24T11:33:46.574693Z",
     "iopub.status.idle": "2022-01-24T11:33:46.576944Z",
     "shell.execute_reply": "2022-01-24T11:33:46.577441Z",
     "shell.execute_reply.started": "2022-01-23T18:31:25.400379Z"
    },
    "papermill": {
     "duration": 0.060273,
     "end_time": "2022-01-24T11:33:46.577616",
     "exception": false,
     "start_time": "2022-01-24T11:33:46.517343",
     "status": "completed"
    },
    "tags": []
   },
   "outputs": [],
   "source": [
    "count_vect = CountVectorizer()"
   ]
  },
  {
   "cell_type": "code",
   "execution_count": 15,
   "id": "279c1f09",
   "metadata": {
    "execution": {
     "iopub.execute_input": "2022-01-24T11:33:46.694780Z",
     "iopub.status.busy": "2022-01-24T11:33:46.693943Z",
     "iopub.status.idle": "2022-01-24T11:33:46.697767Z",
     "shell.execute_reply": "2022-01-24T11:33:46.698292Z",
     "shell.execute_reply.started": "2022-01-23T18:31:25.406328Z"
    },
    "papermill": {
     "duration": 0.064707,
     "end_time": "2022-01-24T11:33:46.698468",
     "exception": false,
     "start_time": "2022-01-24T11:33:46.633761",
     "status": "completed"
    },
    "tags": []
   },
   "outputs": [],
   "source": [
    "phrase = [\"I'd like to have a glass of water please\"]"
   ]
  },
  {
   "cell_type": "code",
   "execution_count": 16,
   "id": "d21391ec",
   "metadata": {
    "execution": {
     "iopub.execute_input": "2022-01-24T11:33:46.812522Z",
     "iopub.status.busy": "2022-01-24T11:33:46.811869Z",
     "iopub.status.idle": "2022-01-24T11:33:46.819508Z",
     "shell.execute_reply": "2022-01-24T11:33:46.820124Z",
     "shell.execute_reply.started": "2022-01-23T18:31:25.41704Z"
    },
    "papermill": {
     "duration": 0.066922,
     "end_time": "2022-01-24T11:33:46.820425",
     "exception": false,
     "start_time": "2022-01-24T11:33:46.753503",
     "status": "completed"
    },
    "tags": []
   },
   "outputs": [
    {
     "data": {
      "text/plain": [
       "CountVectorizer()"
      ]
     },
     "execution_count": 16,
     "metadata": {},
     "output_type": "execute_result"
    }
   ],
   "source": [
    "# Fit Vectorizer to the Data (build a vocab, count the number of words...)\n",
    "# Learn a vocabulary dictionary of all tokens in the raw documents\n",
    "count_vect.fit(phrase)"
   ]
  },
  {
   "cell_type": "code",
   "execution_count": 17,
   "id": "1e589ecd",
   "metadata": {
    "execution": {
     "iopub.execute_input": "2022-01-24T11:33:46.936436Z",
     "iopub.status.busy": "2022-01-24T11:33:46.935786Z",
     "iopub.status.idle": "2022-01-24T11:33:46.940626Z",
     "shell.execute_reply": "2022-01-24T11:33:46.941211Z",
     "shell.execute_reply.started": "2022-01-23T18:31:25.432524Z"
    },
    "papermill": {
     "duration": 0.064347,
     "end_time": "2022-01-24T11:33:46.941386",
     "exception": false,
     "start_time": "2022-01-24T11:33:46.877039",
     "status": "completed"
    },
    "tags": []
   },
   "outputs": [
    {
     "data": {
      "text/plain": [
       "['glass', 'have', 'like', 'of', 'please', 'to', 'water']"
      ]
     },
     "execution_count": 17,
     "metadata": {},
     "output_type": "execute_result"
    }
   ],
   "source": [
    "# Show features\n",
    "count_vect.get_feature_names()"
   ]
  },
  {
   "cell_type": "code",
   "execution_count": 18,
   "id": "51ae3384",
   "metadata": {
    "execution": {
     "iopub.execute_input": "2022-01-24T11:33:47.057476Z",
     "iopub.status.busy": "2022-01-24T11:33:47.056590Z",
     "iopub.status.idle": "2022-01-24T11:33:47.062962Z",
     "shell.execute_reply": "2022-01-24T11:33:47.063469Z",
     "shell.execute_reply.started": "2022-01-23T18:31:25.443995Z"
    },
    "papermill": {
     "duration": 0.066884,
     "end_time": "2022-01-24T11:33:47.063640",
     "exception": false,
     "start_time": "2022-01-24T11:33:46.996756",
     "status": "completed"
    },
    "tags": []
   },
   "outputs": [
    {
     "data": {
      "text/plain": [
       "<1x7 sparse matrix of type '<class 'numpy.int64'>'\n",
       "\twith 7 stored elements in Compressed Sparse Row format>"
      ]
     },
     "execution_count": 18,
     "metadata": {},
     "output_type": "execute_result"
    }
   ],
   "source": [
    "# Learn the vocabulary dictionary and return document-term matrix\n",
    "count_vect.fit_transform(phrase)"
   ]
  },
  {
   "cell_type": "code",
   "execution_count": 19,
   "id": "b4cc14da",
   "metadata": {
    "execution": {
     "iopub.execute_input": "2022-01-24T11:33:47.183056Z",
     "iopub.status.busy": "2022-01-24T11:33:47.182056Z",
     "iopub.status.idle": "2022-01-24T11:33:47.188980Z",
     "shell.execute_reply": "2022-01-24T11:33:47.188396Z",
     "shell.execute_reply.started": "2022-01-23T18:31:25.453577Z"
    },
    "papermill": {
     "duration": 0.066864,
     "end_time": "2022-01-24T11:33:47.189136",
     "exception": false,
     "start_time": "2022-01-24T11:33:47.122272",
     "status": "completed"
    },
    "tags": []
   },
   "outputs": [
    {
     "data": {
      "text/plain": [
       "{'like': 2, 'to': 5, 'have': 1, 'glass': 0, 'of': 3, 'water': 6, 'please': 4}"
      ]
     },
     "execution_count": 19,
     "metadata": {},
     "output_type": "execute_result"
    }
   ],
   "source": [
    "# shows a mapping of terms to feature indices.\n",
    "count_vect.vocabulary_"
   ]
  },
  {
   "cell_type": "markdown",
   "id": "e5ef984b",
   "metadata": {
    "papermill": {
     "duration": 0.0595,
     "end_time": "2022-01-24T11:33:47.305777",
     "exception": false,
     "start_time": "2022-01-24T11:33:47.246277",
     "status": "completed"
    },
    "tags": []
   },
   "source": [
    "## TfidVectorizer"
   ]
  },
  {
   "cell_type": "markdown",
   "id": "4dc9843b",
   "metadata": {
    "papermill": {
     "duration": 0.056442,
     "end_time": "2022-01-24T11:33:47.419883",
     "exception": false,
     "start_time": "2022-01-24T11:33:47.363441",
     "status": "completed"
    },
    "tags": []
   },
   "source": [
    "An alternative to CountVectorizer is the TfidVectorizer"
   ]
  },
  {
   "cell_type": "markdown",
   "id": "9a4dc77f",
   "metadata": {
    "papermill": {
     "duration": 0.05486,
     "end_time": "2022-01-24T11:33:47.532312",
     "exception": false,
     "start_time": "2022-01-24T11:33:47.477452",
     "status": "completed"
    },
    "tags": []
   },
   "source": [
    "TfidVectorizer calculates an inverse frequency for each word"
   ]
  },
  {
   "cell_type": "markdown",
   "id": "c0b6469a",
   "metadata": {
    "papermill": {
     "duration": 0.05837,
     "end_time": "2022-01-24T11:33:47.646473",
     "exception": false,
     "start_time": "2022-01-24T11:33:47.588103",
     "status": "completed"
    },
    "tags": []
   },
   "source": [
    "It converts a collection of raw documents to a matrix of TF-IDF features."
   ]
  },
  {
   "cell_type": "markdown",
   "id": "48e5421b",
   "metadata": {
    "papermill": {
     "duration": 0.059238,
     "end_time": "2022-01-24T11:33:47.766004",
     "exception": false,
     "start_time": "2022-01-24T11:33:47.706766",
     "status": "completed"
    },
    "tags": []
   },
   "source": [
    "TfidVectorizer will be used to create the machine learning model for this study"
   ]
  },
  {
   "cell_type": "markdown",
   "id": "7521b66a-8374-4ca8-90ac-a8890bb8ab3c",
   "metadata": {},
   "source": [
    "---"
   ]
  },
  {
   "cell_type": "markdown",
   "id": "b8b13d21-6df8-4809-ab09-110145b68a77",
   "metadata": {},
   "source": [
    "---"
   ]
  },
  {
   "cell_type": "markdown",
   "id": "10d690fe",
   "metadata": {
    "papermill": {
     "duration": 0.056141,
     "end_time": "2022-01-24T11:33:47.879258",
     "exception": false,
     "start_time": "2022-01-24T11:33:47.823117",
     "status": "completed"
    },
    "tags": []
   },
   "source": [
    "# Read the dataset into a pandas dataframe"
   ]
  },
  {
   "cell_type": "markdown",
   "id": "b9b6ac4e",
   "metadata": {
    "papermill": {
     "duration": 0.056519,
     "end_time": "2022-01-24T11:33:47.996122",
     "exception": false,
     "start_time": "2022-01-24T11:33:47.939603",
     "status": "completed"
    },
    "tags": []
   },
   "source": [
    "Now it's time to read the dataset and make a simple exploratory analysis"
   ]
  },
  {
   "cell_type": "code",
   "execution_count": 27,
   "id": "e4f1aab9-927c-4058-b431-5025753e639b",
   "metadata": {},
   "outputs": [
    {
     "data": {
      "text/plain": [
       "'G:\\\\내 드라이브\\\\Github\\\\2022-Data-ton'"
      ]
     },
     "execution_count": 27,
     "metadata": {},
     "output_type": "execute_result"
    }
   ],
   "source": []
  },
  {
   "cell_type": "code",
   "execution_count": 24,
   "id": "6b5210b4",
   "metadata": {
    "papermill": {
     "duration": 8.632595,
     "end_time": "2022-01-24T11:33:56.687221",
     "exception": false,
     "start_time": "2022-01-24T11:33:48.054626",
     "status": "completed"
    },
    "tags": []
   },
   "outputs": [
    {
     "ename": "FileNotFoundError",
     "evalue": "[Errno 2] No such file or directory: '../dataset/MBTI_train.csv'",
     "output_type": "error",
     "traceback": [
      "\u001b[1;31m---------------------------------------------------------------------------\u001b[0m",
      "\u001b[1;31mFileNotFoundError\u001b[0m                         Traceback (most recent call last)",
      "\u001b[1;32m<ipython-input-24-d82656358360>\u001b[0m in \u001b[0;36m<module>\u001b[1;34m\u001b[0m\n\u001b[1;32m----> 1\u001b[1;33m \u001b[0mdf\u001b[0m \u001b[1;33m=\u001b[0m \u001b[0mpd\u001b[0m\u001b[1;33m.\u001b[0m\u001b[0mread_csv\u001b[0m\u001b[1;33m(\u001b[0m\u001b[1;34m'../dataset/MBTI_train.csv'\u001b[0m\u001b[1;33m)\u001b[0m\u001b[1;33m\u001b[0m\u001b[1;33m\u001b[0m\u001b[0m\n\u001b[0m",
      "\u001b[1;32m~\\anaconda3\\lib\\site-packages\\pandas\\io\\parsers.py\u001b[0m in \u001b[0;36mread_csv\u001b[1;34m(filepath_or_buffer, sep, delimiter, header, names, index_col, usecols, squeeze, prefix, mangle_dupe_cols, dtype, engine, converters, true_values, false_values, skipinitialspace, skiprows, skipfooter, nrows, na_values, keep_default_na, na_filter, verbose, skip_blank_lines, parse_dates, infer_datetime_format, keep_date_col, date_parser, dayfirst, cache_dates, iterator, chunksize, compression, thousands, decimal, lineterminator, quotechar, quoting, doublequote, escapechar, comment, encoding, dialect, error_bad_lines, warn_bad_lines, delim_whitespace, low_memory, memory_map, float_precision, storage_options)\u001b[0m\n\u001b[0;32m    608\u001b[0m     \u001b[0mkwds\u001b[0m\u001b[1;33m.\u001b[0m\u001b[0mupdate\u001b[0m\u001b[1;33m(\u001b[0m\u001b[0mkwds_defaults\u001b[0m\u001b[1;33m)\u001b[0m\u001b[1;33m\u001b[0m\u001b[1;33m\u001b[0m\u001b[0m\n\u001b[0;32m    609\u001b[0m \u001b[1;33m\u001b[0m\u001b[0m\n\u001b[1;32m--> 610\u001b[1;33m     \u001b[1;32mreturn\u001b[0m \u001b[0m_read\u001b[0m\u001b[1;33m(\u001b[0m\u001b[0mfilepath_or_buffer\u001b[0m\u001b[1;33m,\u001b[0m \u001b[0mkwds\u001b[0m\u001b[1;33m)\u001b[0m\u001b[1;33m\u001b[0m\u001b[1;33m\u001b[0m\u001b[0m\n\u001b[0m\u001b[0;32m    611\u001b[0m \u001b[1;33m\u001b[0m\u001b[0m\n\u001b[0;32m    612\u001b[0m \u001b[1;33m\u001b[0m\u001b[0m\n",
      "\u001b[1;32m~\\anaconda3\\lib\\site-packages\\pandas\\io\\parsers.py\u001b[0m in \u001b[0;36m_read\u001b[1;34m(filepath_or_buffer, kwds)\u001b[0m\n\u001b[0;32m    460\u001b[0m \u001b[1;33m\u001b[0m\u001b[0m\n\u001b[0;32m    461\u001b[0m     \u001b[1;31m# Create the parser.\u001b[0m\u001b[1;33m\u001b[0m\u001b[1;33m\u001b[0m\u001b[1;33m\u001b[0m\u001b[0m\n\u001b[1;32m--> 462\u001b[1;33m     \u001b[0mparser\u001b[0m \u001b[1;33m=\u001b[0m \u001b[0mTextFileReader\u001b[0m\u001b[1;33m(\u001b[0m\u001b[0mfilepath_or_buffer\u001b[0m\u001b[1;33m,\u001b[0m \u001b[1;33m**\u001b[0m\u001b[0mkwds\u001b[0m\u001b[1;33m)\u001b[0m\u001b[1;33m\u001b[0m\u001b[1;33m\u001b[0m\u001b[0m\n\u001b[0m\u001b[0;32m    463\u001b[0m \u001b[1;33m\u001b[0m\u001b[0m\n\u001b[0;32m    464\u001b[0m     \u001b[1;32mif\u001b[0m \u001b[0mchunksize\u001b[0m \u001b[1;32mor\u001b[0m \u001b[0miterator\u001b[0m\u001b[1;33m:\u001b[0m\u001b[1;33m\u001b[0m\u001b[1;33m\u001b[0m\u001b[0m\n",
      "\u001b[1;32m~\\anaconda3\\lib\\site-packages\\pandas\\io\\parsers.py\u001b[0m in \u001b[0;36m__init__\u001b[1;34m(self, f, engine, **kwds)\u001b[0m\n\u001b[0;32m    817\u001b[0m             \u001b[0mself\u001b[0m\u001b[1;33m.\u001b[0m\u001b[0moptions\u001b[0m\u001b[1;33m[\u001b[0m\u001b[1;34m\"has_index_names\"\u001b[0m\u001b[1;33m]\u001b[0m \u001b[1;33m=\u001b[0m \u001b[0mkwds\u001b[0m\u001b[1;33m[\u001b[0m\u001b[1;34m\"has_index_names\"\u001b[0m\u001b[1;33m]\u001b[0m\u001b[1;33m\u001b[0m\u001b[1;33m\u001b[0m\u001b[0m\n\u001b[0;32m    818\u001b[0m \u001b[1;33m\u001b[0m\u001b[0m\n\u001b[1;32m--> 819\u001b[1;33m         \u001b[0mself\u001b[0m\u001b[1;33m.\u001b[0m\u001b[0m_engine\u001b[0m \u001b[1;33m=\u001b[0m \u001b[0mself\u001b[0m\u001b[1;33m.\u001b[0m\u001b[0m_make_engine\u001b[0m\u001b[1;33m(\u001b[0m\u001b[0mself\u001b[0m\u001b[1;33m.\u001b[0m\u001b[0mengine\u001b[0m\u001b[1;33m)\u001b[0m\u001b[1;33m\u001b[0m\u001b[1;33m\u001b[0m\u001b[0m\n\u001b[0m\u001b[0;32m    820\u001b[0m \u001b[1;33m\u001b[0m\u001b[0m\n\u001b[0;32m    821\u001b[0m     \u001b[1;32mdef\u001b[0m \u001b[0mclose\u001b[0m\u001b[1;33m(\u001b[0m\u001b[0mself\u001b[0m\u001b[1;33m)\u001b[0m\u001b[1;33m:\u001b[0m\u001b[1;33m\u001b[0m\u001b[1;33m\u001b[0m\u001b[0m\n",
      "\u001b[1;32m~\\anaconda3\\lib\\site-packages\\pandas\\io\\parsers.py\u001b[0m in \u001b[0;36m_make_engine\u001b[1;34m(self, engine)\u001b[0m\n\u001b[0;32m   1048\u001b[0m             )\n\u001b[0;32m   1049\u001b[0m         \u001b[1;31m# error: Too many arguments for \"ParserBase\"\u001b[0m\u001b[1;33m\u001b[0m\u001b[1;33m\u001b[0m\u001b[1;33m\u001b[0m\u001b[0m\n\u001b[1;32m-> 1050\u001b[1;33m         \u001b[1;32mreturn\u001b[0m \u001b[0mmapping\u001b[0m\u001b[1;33m[\u001b[0m\u001b[0mengine\u001b[0m\u001b[1;33m]\u001b[0m\u001b[1;33m(\u001b[0m\u001b[0mself\u001b[0m\u001b[1;33m.\u001b[0m\u001b[0mf\u001b[0m\u001b[1;33m,\u001b[0m \u001b[1;33m**\u001b[0m\u001b[0mself\u001b[0m\u001b[1;33m.\u001b[0m\u001b[0moptions\u001b[0m\u001b[1;33m)\u001b[0m  \u001b[1;31m# type: ignore[call-arg]\u001b[0m\u001b[1;33m\u001b[0m\u001b[1;33m\u001b[0m\u001b[0m\n\u001b[0m\u001b[0;32m   1051\u001b[0m \u001b[1;33m\u001b[0m\u001b[0m\n\u001b[0;32m   1052\u001b[0m     \u001b[1;32mdef\u001b[0m \u001b[0m_failover_to_python\u001b[0m\u001b[1;33m(\u001b[0m\u001b[0mself\u001b[0m\u001b[1;33m)\u001b[0m\u001b[1;33m:\u001b[0m\u001b[1;33m\u001b[0m\u001b[1;33m\u001b[0m\u001b[0m\n",
      "\u001b[1;32m~\\anaconda3\\lib\\site-packages\\pandas\\io\\parsers.py\u001b[0m in \u001b[0;36m__init__\u001b[1;34m(self, src, **kwds)\u001b[0m\n\u001b[0;32m   1865\u001b[0m \u001b[1;33m\u001b[0m\u001b[0m\n\u001b[0;32m   1866\u001b[0m         \u001b[1;31m# open handles\u001b[0m\u001b[1;33m\u001b[0m\u001b[1;33m\u001b[0m\u001b[1;33m\u001b[0m\u001b[0m\n\u001b[1;32m-> 1867\u001b[1;33m         \u001b[0mself\u001b[0m\u001b[1;33m.\u001b[0m\u001b[0m_open_handles\u001b[0m\u001b[1;33m(\u001b[0m\u001b[0msrc\u001b[0m\u001b[1;33m,\u001b[0m \u001b[0mkwds\u001b[0m\u001b[1;33m)\u001b[0m\u001b[1;33m\u001b[0m\u001b[1;33m\u001b[0m\u001b[0m\n\u001b[0m\u001b[0;32m   1868\u001b[0m         \u001b[1;32massert\u001b[0m \u001b[0mself\u001b[0m\u001b[1;33m.\u001b[0m\u001b[0mhandles\u001b[0m \u001b[1;32mis\u001b[0m \u001b[1;32mnot\u001b[0m \u001b[1;32mNone\u001b[0m\u001b[1;33m\u001b[0m\u001b[1;33m\u001b[0m\u001b[0m\n\u001b[0;32m   1869\u001b[0m         \u001b[1;32mfor\u001b[0m \u001b[0mkey\u001b[0m \u001b[1;32min\u001b[0m \u001b[1;33m(\u001b[0m\u001b[1;34m\"storage_options\"\u001b[0m\u001b[1;33m,\u001b[0m \u001b[1;34m\"encoding\"\u001b[0m\u001b[1;33m,\u001b[0m \u001b[1;34m\"memory_map\"\u001b[0m\u001b[1;33m,\u001b[0m \u001b[1;34m\"compression\"\u001b[0m\u001b[1;33m)\u001b[0m\u001b[1;33m:\u001b[0m\u001b[1;33m\u001b[0m\u001b[1;33m\u001b[0m\u001b[0m\n",
      "\u001b[1;32m~\\anaconda3\\lib\\site-packages\\pandas\\io\\parsers.py\u001b[0m in \u001b[0;36m_open_handles\u001b[1;34m(self, src, kwds)\u001b[0m\n\u001b[0;32m   1360\u001b[0m         \u001b[0mLet\u001b[0m \u001b[0mthe\u001b[0m \u001b[0mreaders\u001b[0m \u001b[0mopen\u001b[0m \u001b[0mIOHanldes\u001b[0m \u001b[0mafter\u001b[0m \u001b[0mthey\u001b[0m \u001b[0mare\u001b[0m \u001b[0mdone\u001b[0m \u001b[1;32mwith\u001b[0m \u001b[0mtheir\u001b[0m \u001b[0mpotential\u001b[0m \u001b[0mraises\u001b[0m\u001b[1;33m.\u001b[0m\u001b[1;33m\u001b[0m\u001b[1;33m\u001b[0m\u001b[0m\n\u001b[0;32m   1361\u001b[0m         \"\"\"\n\u001b[1;32m-> 1362\u001b[1;33m         self.handles = get_handle(\n\u001b[0m\u001b[0;32m   1363\u001b[0m             \u001b[0msrc\u001b[0m\u001b[1;33m,\u001b[0m\u001b[1;33m\u001b[0m\u001b[1;33m\u001b[0m\u001b[0m\n\u001b[0;32m   1364\u001b[0m             \u001b[1;34m\"r\"\u001b[0m\u001b[1;33m,\u001b[0m\u001b[1;33m\u001b[0m\u001b[1;33m\u001b[0m\u001b[0m\n",
      "\u001b[1;32m~\\anaconda3\\lib\\site-packages\\pandas\\io\\common.py\u001b[0m in \u001b[0;36mget_handle\u001b[1;34m(path_or_buf, mode, encoding, compression, memory_map, is_text, errors, storage_options)\u001b[0m\n\u001b[0;32m    640\u001b[0m                 \u001b[0merrors\u001b[0m \u001b[1;33m=\u001b[0m \u001b[1;34m\"replace\"\u001b[0m\u001b[1;33m\u001b[0m\u001b[1;33m\u001b[0m\u001b[0m\n\u001b[0;32m    641\u001b[0m             \u001b[1;31m# Encoding\u001b[0m\u001b[1;33m\u001b[0m\u001b[1;33m\u001b[0m\u001b[1;33m\u001b[0m\u001b[0m\n\u001b[1;32m--> 642\u001b[1;33m             handle = open(\n\u001b[0m\u001b[0;32m    643\u001b[0m                 \u001b[0mhandle\u001b[0m\u001b[1;33m,\u001b[0m\u001b[1;33m\u001b[0m\u001b[1;33m\u001b[0m\u001b[0m\n\u001b[0;32m    644\u001b[0m                 \u001b[0mioargs\u001b[0m\u001b[1;33m.\u001b[0m\u001b[0mmode\u001b[0m\u001b[1;33m,\u001b[0m\u001b[1;33m\u001b[0m\u001b[1;33m\u001b[0m\u001b[0m\n",
      "\u001b[1;31mFileNotFoundError\u001b[0m: [Errno 2] No such file or directory: '../dataset/MBTI_train.csv'"
     ]
    }
   ],
   "source": [
    "df = pd.read_csv('../dataset/MBTI_train.csv')"
   ]
  },
  {
   "cell_type": "code",
   "execution_count": null,
   "id": "abe2b351-50a1-405d-86ed-d39f1ba92849",
   "metadata": {},
   "outputs": [],
   "source": []
  },
  {
   "cell_type": "code",
   "execution_count": 21,
   "id": "2dfbd2fb",
   "metadata": {
    "execution": {
     "iopub.execute_input": "2022-01-24T11:33:56.813407Z",
     "iopub.status.busy": "2022-01-24T11:33:56.812694Z",
     "iopub.status.idle": "2022-01-24T11:33:56.824529Z",
     "shell.execute_reply": "2022-01-24T11:33:56.825155Z",
     "shell.execute_reply.started": "2022-01-23T18:31:30.532958Z"
    },
    "papermill": {
     "duration": 0.080555,
     "end_time": "2022-01-24T11:33:56.825360",
     "exception": false,
     "start_time": "2022-01-24T11:33:56.744805",
     "status": "completed"
    },
    "tags": []
   },
   "outputs": [
    {
     "data": {
      "text/html": [
       "<div>\n",
       "<style scoped>\n",
       "    .dataframe tbody tr th:only-of-type {\n",
       "        vertical-align: middle;\n",
       "    }\n",
       "\n",
       "    .dataframe tbody tr th {\n",
       "        vertical-align: top;\n",
       "    }\n",
       "\n",
       "    .dataframe thead th {\n",
       "        text-align: right;\n",
       "    }\n",
       "</style>\n",
       "<table border=\"1\" class=\"dataframe\">\n",
       "  <thead>\n",
       "    <tr style=\"text-align: right;\">\n",
       "      <th></th>\n",
       "      <th>posts</th>\n",
       "      <th>type</th>\n",
       "    </tr>\n",
       "  </thead>\n",
       "  <tbody>\n",
       "    <tr>\n",
       "      <th>0</th>\n",
       "      <td>know intj tool use interaction people excuse a...</td>\n",
       "      <td>INTJ</td>\n",
       "    </tr>\n",
       "    <tr>\n",
       "      <th>1</th>\n",
       "      <td>rap music ehh opp yeah know valid well know fa...</td>\n",
       "      <td>INTJ</td>\n",
       "    </tr>\n",
       "    <tr>\n",
       "      <th>2</th>\n",
       "      <td>preferably p hd low except wew lad video p min...</td>\n",
       "      <td>INTJ</td>\n",
       "    </tr>\n",
       "    <tr>\n",
       "      <th>3</th>\n",
       "      <td>drink like wish could drink red wine give head...</td>\n",
       "      <td>INTJ</td>\n",
       "    </tr>\n",
       "    <tr>\n",
       "      <th>4</th>\n",
       "      <td>space program ah bad deal meing freelance max ...</td>\n",
       "      <td>INTJ</td>\n",
       "    </tr>\n",
       "  </tbody>\n",
       "</table>\n",
       "</div>"
      ],
      "text/plain": [
       "                                               posts  type\n",
       "0  know intj tool use interaction people excuse a...  INTJ\n",
       "1  rap music ehh opp yeah know valid well know fa...  INTJ\n",
       "2  preferably p hd low except wew lad video p min...  INTJ\n",
       "3  drink like wish could drink red wine give head...  INTJ\n",
       "4  space program ah bad deal meing freelance max ...  INTJ"
      ]
     },
     "execution_count": 21,
     "metadata": {},
     "output_type": "execute_result"
    }
   ],
   "source": [
    "df.head()"
   ]
  },
  {
   "cell_type": "code",
   "execution_count": 22,
   "id": "8c8b3745",
   "metadata": {
    "execution": {
     "iopub.execute_input": "2022-01-24T11:33:56.946532Z",
     "iopub.status.busy": "2022-01-24T11:33:56.945842Z",
     "iopub.status.idle": "2022-01-24T11:33:56.949647Z",
     "shell.execute_reply": "2022-01-24T11:33:56.949036Z",
     "shell.execute_reply.started": "2022-01-23T18:31:30.548278Z"
    },
    "papermill": {
     "duration": 0.06699,
     "end_time": "2022-01-24T11:33:56.949829",
     "exception": false,
     "start_time": "2022-01-24T11:33:56.882839",
     "status": "completed"
    },
    "tags": []
   },
   "outputs": [
    {
     "data": {
      "text/plain": [
       "'know intj tool use interaction people excuse antisocial truly enlighten mastermind know would count pet peeze something time matter people either whether group people mall never see best friend sit outside conversation jsut listen want interject sit formulate say wait inject argument thought find fascinate sit watch people talk people fascinate sit class watch different people find intrigue dad intj u stand look like line safeway watch people home talk people like think military job people voluntarily go job important show deference endanger live glorify way civilian think pretty ignorant general think military necessary defense mechanism political tactic feel like u specifically invest much money could put money education whatnot though personally sound budget aernative really comment one way base two politician eye year ago come name somewhat important kinda role model nowadays pick keep score individual level mean little vary accord number condition day may score high others low sweat really good cast physiotherapist like fiberglass cast break arm whatever sometimes want take picture beast put someone arm sadly people blind brilliance need tell directly wave arm frantically totally beyond oblivious get good eye contact help lot start find like attention get opposite sex notice however gay men tend little aggressive always walk away flatter like alcohol bad start generally keep go pas run money even mention fact crave cocaine drink political power mainly desire form power okay status still never study day life never learn study feel like real whatever reason college prepare recieve people like depend career introductory course help start rid bike write essay etc choose career least stimulate mind expand perspective reality without college like kiss sound ear yup roll end quite strange confession time mind wish people le judgemental self perceive flaw run situation person confess something expect judge one way another freak realize judge gasp human interpret acknowledgement sign terrible person agree bad impulse ditch safe place quickly become somewhere dump emotional trash gui free interest play role mind noise midnight still go make really cranky lol already know autistic even know asd associate intj people mind two even remotely similar card conspiracy hallmark post office long enough people whether individual people government conglomerate corporation understand biodiversity something need fund even though make money instead insurance policy fine aka negative external form cost need separate positive surplus cost much thing like seed bank visualize cost percent farm benefit cost yet need fund separately individual farmer individual farmer corporation think well someone else people free rider problem seed bank never get set stuff like government capitalism may provide innovation government set regulation prevent negative consequence unintentional externality seed bank get set half thousand differents solution perhaps general tax commerce usage fee similar california recycle fee electronics form donation pledge system regardless need get seed bank get expert truely know enough need biodiversity seed farm whether enough seed farm different location properly fund amp bsp say expert know enough due single college class involve economics say economic class involve lot history use case study green revolution'"
      ]
     },
     "execution_count": 22,
     "metadata": {},
     "output_type": "execute_result"
    }
   ],
   "source": [
    "df['posts'][0]"
   ]
  },
  {
   "cell_type": "code",
   "execution_count": 23,
   "id": "8a313529",
   "metadata": {
    "execution": {
     "iopub.execute_input": "2022-01-24T11:33:57.069678Z",
     "iopub.status.busy": "2022-01-24T11:33:57.069031Z",
     "iopub.status.idle": "2022-01-24T11:33:57.071667Z",
     "shell.execute_reply": "2022-01-24T11:33:57.072266Z",
     "shell.execute_reply.started": "2022-01-23T18:31:30.557086Z"
    },
    "papermill": {
     "duration": 0.066143,
     "end_time": "2022-01-24T11:33:57.072446",
     "exception": false,
     "start_time": "2022-01-24T11:33:57.006303",
     "status": "completed"
    },
    "tags": []
   },
   "outputs": [
    {
     "data": {
      "text/plain": [
       "'INTJ'"
      ]
     },
     "execution_count": 23,
     "metadata": {},
     "output_type": "execute_result"
    }
   ],
   "source": [
    "df['type'][0]"
   ]
  },
  {
   "cell_type": "code",
   "execution_count": 24,
   "id": "d9d2e8e4",
   "metadata": {
    "execution": {
     "iopub.execute_input": "2022-01-24T11:33:57.205535Z",
     "iopub.status.busy": "2022-01-24T11:33:57.198999Z",
     "iopub.status.idle": "2022-01-24T11:33:57.217842Z",
     "shell.execute_reply": "2022-01-24T11:33:57.218428Z",
     "shell.execute_reply.started": "2022-01-23T18:31:30.567286Z"
    },
    "papermill": {
     "duration": 0.081509,
     "end_time": "2022-01-24T11:33:57.218634",
     "exception": false,
     "start_time": "2022-01-24T11:33:57.137125",
     "status": "completed"
    },
    "tags": []
   },
   "outputs": [
    {
     "data": {
      "text/plain": [
       "array(['INTJ', 'INTP', 'ISFJ', 'ISFP', 'ISTJ', 'ISTP', 'ENFJ', 'ENFP',\n",
       "       'ENTJ', 'ENTP', 'ESFJ', 'ESFP', 'ESTJ', 'ESTP', 'INFJ', 'INFP'],\n",
       "      dtype=object)"
      ]
     },
     "execution_count": 24,
     "metadata": {},
     "output_type": "execute_result"
    }
   ],
   "source": [
    "df['type'].unique()"
   ]
  },
  {
   "cell_type": "code",
   "execution_count": 25,
   "id": "95cec341",
   "metadata": {
    "execution": {
     "iopub.execute_input": "2022-01-24T11:33:57.338245Z",
     "iopub.status.busy": "2022-01-24T11:33:57.337577Z",
     "iopub.status.idle": "2022-01-24T11:33:57.351459Z",
     "shell.execute_reply": "2022-01-24T11:33:57.350920Z",
     "shell.execute_reply.started": "2022-01-23T18:31:30.587625Z"
    },
    "papermill": {
     "duration": 0.074413,
     "end_time": "2022-01-24T11:33:57.351624",
     "exception": false,
     "start_time": "2022-01-24T11:33:57.277211",
     "status": "completed"
    },
    "tags": []
   },
   "outputs": [
    {
     "name": "stdout",
     "output_type": "stream",
     "text": [
      "Total of 16 types of classified MBTI posts\n"
     ]
    }
   ],
   "source": [
    "print(f\"Total of {len(df['type'].unique())} types of classified MBTI posts\")"
   ]
  },
  {
   "cell_type": "markdown",
   "id": "7b2436f5",
   "metadata": {
    "papermill": {
     "duration": 0.056541,
     "end_time": "2022-01-24T11:33:57.467015",
     "exception": false,
     "start_time": "2022-01-24T11:33:57.410474",
     "status": "completed"
    },
    "tags": []
   },
   "source": [
    "# Checking null values"
   ]
  },
  {
   "cell_type": "code",
   "execution_count": 26,
   "id": "902c8406",
   "metadata": {
    "execution": {
     "iopub.execute_input": "2022-01-24T11:33:57.617314Z",
     "iopub.status.busy": "2022-01-24T11:33:57.616551Z",
     "iopub.status.idle": "2022-01-24T11:33:57.622422Z",
     "shell.execute_reply": "2022-01-24T11:33:57.623047Z",
     "shell.execute_reply.started": "2022-01-23T18:31:30.604258Z"
    },
    "papermill": {
     "duration": 0.098632,
     "end_time": "2022-01-24T11:33:57.623222",
     "exception": false,
     "start_time": "2022-01-24T11:33:57.524590",
     "status": "completed"
    },
    "tags": []
   },
   "outputs": [
    {
     "data": {
      "text/plain": [
       "posts    0\n",
       "type     0\n",
       "dtype: int64"
      ]
     },
     "execution_count": 26,
     "metadata": {},
     "output_type": "execute_result"
    }
   ],
   "source": [
    "df.isnull().sum()"
   ]
  },
  {
   "cell_type": "markdown",
   "id": "035b3559",
   "metadata": {
    "papermill": {
     "duration": 0.057275,
     "end_time": "2022-01-24T11:33:57.737438",
     "exception": false,
     "start_time": "2022-01-24T11:33:57.680163",
     "status": "completed"
    },
    "tags": []
   },
   "source": [
    "# Checking the number of posts per type"
   ]
  },
  {
   "cell_type": "code",
   "execution_count": 27,
   "id": "fdf8e715",
   "metadata": {
    "execution": {
     "iopub.execute_input": "2022-01-24T11:33:57.853289Z",
     "iopub.status.busy": "2022-01-24T11:33:57.852618Z",
     "iopub.status.idle": "2022-01-24T11:33:58.012020Z",
     "shell.execute_reply": "2022-01-24T11:33:58.011323Z",
     "shell.execute_reply.started": "2022-01-23T18:31:30.646406Z"
    },
    "papermill": {
     "duration": 0.217902,
     "end_time": "2022-01-24T11:33:58.012173",
     "exception": false,
     "start_time": "2022-01-24T11:33:57.794271",
     "status": "completed"
    },
    "tags": []
   },
   "outputs": [
    {
     "data": {
      "text/html": [
       "        <script type=\"text/javascript\">\n",
       "        window.PlotlyConfig = {MathJaxConfig: 'local'};\n",
       "        if (window.MathJax) {MathJax.Hub.Config({SVG: {font: \"STIX-Web\"}});}\n",
       "        if (typeof require !== 'undefined') {\n",
       "        require.undef(\"plotly\");\n",
       "        requirejs.config({\n",
       "            paths: {\n",
       "                'plotly': ['https://cdn.plot.ly/plotly-2.8.3.min']\n",
       "            }\n",
       "        });\n",
       "        require(['plotly'], function(Plotly) {\n",
       "            window._Plotly = Plotly;\n",
       "        });\n",
       "        }\n",
       "        </script>\n",
       "        "
      ]
     },
     "metadata": {},
     "output_type": "display_data"
    },
    {
     "data": {
      "text/html": [
       "<div>                            <div id=\"e47d5794-b376-489d-9106-7be42bbc97b2\" class=\"plotly-graph-div\" style=\"height:525px; width:100%;\"></div>            <script type=\"text/javascript\">                require([\"plotly\"], function(Plotly) {                    window.PLOTLYENV=window.PLOTLYENV || {};                                    if (document.getElementById(\"e47d5794-b376-489d-9106-7be42bbc97b2\")) {                    Plotly.newPlot(                        \"e47d5794-b376-489d-9106-7be42bbc97b2\",                        [{\"x\":[\"ENFJ\",\"ENFP\",\"ENTJ\",\"ENTP\",\"ESFJ\",\"ESFP\",\"ESTJ\",\"ESTP\",\"INFJ\",\"INFP\",\"INTJ\",\"INTP\",\"ISFJ\",\"ISFP\",\"ISTJ\",\"ISTP\"],\"y\":[1534,6167,2955,11725,181,360,482,1986,14963,12134,22427,24961,650,875,1243,3424],\"type\":\"bar\"}],                        {\"title\":{\"text\":\"MBTI # Classified Posts per Type\"},\"template\":{\"data\":{\"bar\":[{\"error_x\":{\"color\":\"#2a3f5f\"},\"error_y\":{\"color\":\"#2a3f5f\"},\"marker\":{\"line\":{\"color\":\"#E5ECF6\",\"width\":0.5},\"pattern\":{\"fillmode\":\"overlay\",\"size\":10,\"solidity\":0.2}},\"type\":\"bar\"}],\"barpolar\":[{\"marker\":{\"line\":{\"color\":\"#E5ECF6\",\"width\":0.5},\"pattern\":{\"fillmode\":\"overlay\",\"size\":10,\"solidity\":0.2}},\"type\":\"barpolar\"}],\"carpet\":[{\"aaxis\":{\"endlinecolor\":\"#2a3f5f\",\"gridcolor\":\"white\",\"linecolor\":\"white\",\"minorgridcolor\":\"white\",\"startlinecolor\":\"#2a3f5f\"},\"baxis\":{\"endlinecolor\":\"#2a3f5f\",\"gridcolor\":\"white\",\"linecolor\":\"white\",\"minorgridcolor\":\"white\",\"startlinecolor\":\"#2a3f5f\"},\"type\":\"carpet\"}],\"choropleth\":[{\"colorbar\":{\"outlinewidth\":0,\"ticks\":\"\"},\"type\":\"choropleth\"}],\"contour\":[{\"colorbar\":{\"outlinewidth\":0,\"ticks\":\"\"},\"colorscale\":[[0.0,\"#0d0887\"],[0.1111111111111111,\"#46039f\"],[0.2222222222222222,\"#7201a8\"],[0.3333333333333333,\"#9c179e\"],[0.4444444444444444,\"#bd3786\"],[0.5555555555555556,\"#d8576b\"],[0.6666666666666666,\"#ed7953\"],[0.7777777777777778,\"#fb9f3a\"],[0.8888888888888888,\"#fdca26\"],[1.0,\"#f0f921\"]],\"type\":\"contour\"}],\"contourcarpet\":[{\"colorbar\":{\"outlinewidth\":0,\"ticks\":\"\"},\"type\":\"contourcarpet\"}],\"heatmap\":[{\"colorbar\":{\"outlinewidth\":0,\"ticks\":\"\"},\"colorscale\":[[0.0,\"#0d0887\"],[0.1111111111111111,\"#46039f\"],[0.2222222222222222,\"#7201a8\"],[0.3333333333333333,\"#9c179e\"],[0.4444444444444444,\"#bd3786\"],[0.5555555555555556,\"#d8576b\"],[0.6666666666666666,\"#ed7953\"],[0.7777777777777778,\"#fb9f3a\"],[0.8888888888888888,\"#fdca26\"],[1.0,\"#f0f921\"]],\"type\":\"heatmap\"}],\"heatmapgl\":[{\"colorbar\":{\"outlinewidth\":0,\"ticks\":\"\"},\"colorscale\":[[0.0,\"#0d0887\"],[0.1111111111111111,\"#46039f\"],[0.2222222222222222,\"#7201a8\"],[0.3333333333333333,\"#9c179e\"],[0.4444444444444444,\"#bd3786\"],[0.5555555555555556,\"#d8576b\"],[0.6666666666666666,\"#ed7953\"],[0.7777777777777778,\"#fb9f3a\"],[0.8888888888888888,\"#fdca26\"],[1.0,\"#f0f921\"]],\"type\":\"heatmapgl\"}],\"histogram\":[{\"marker\":{\"pattern\":{\"fillmode\":\"overlay\",\"size\":10,\"solidity\":0.2}},\"type\":\"histogram\"}],\"histogram2d\":[{\"colorbar\":{\"outlinewidth\":0,\"ticks\":\"\"},\"colorscale\":[[0.0,\"#0d0887\"],[0.1111111111111111,\"#46039f\"],[0.2222222222222222,\"#7201a8\"],[0.3333333333333333,\"#9c179e\"],[0.4444444444444444,\"#bd3786\"],[0.5555555555555556,\"#d8576b\"],[0.6666666666666666,\"#ed7953\"],[0.7777777777777778,\"#fb9f3a\"],[0.8888888888888888,\"#fdca26\"],[1.0,\"#f0f921\"]],\"type\":\"histogram2d\"}],\"histogram2dcontour\":[{\"colorbar\":{\"outlinewidth\":0,\"ticks\":\"\"},\"colorscale\":[[0.0,\"#0d0887\"],[0.1111111111111111,\"#46039f\"],[0.2222222222222222,\"#7201a8\"],[0.3333333333333333,\"#9c179e\"],[0.4444444444444444,\"#bd3786\"],[0.5555555555555556,\"#d8576b\"],[0.6666666666666666,\"#ed7953\"],[0.7777777777777778,\"#fb9f3a\"],[0.8888888888888888,\"#fdca26\"],[1.0,\"#f0f921\"]],\"type\":\"histogram2dcontour\"}],\"mesh3d\":[{\"colorbar\":{\"outlinewidth\":0,\"ticks\":\"\"},\"type\":\"mesh3d\"}],\"parcoords\":[{\"line\":{\"colorbar\":{\"outlinewidth\":0,\"ticks\":\"\"}},\"type\":\"parcoords\"}],\"pie\":[{\"automargin\":true,\"type\":\"pie\"}],\"scatter\":[{\"marker\":{\"colorbar\":{\"outlinewidth\":0,\"ticks\":\"\"}},\"type\":\"scatter\"}],\"scatter3d\":[{\"line\":{\"colorbar\":{\"outlinewidth\":0,\"ticks\":\"\"}},\"marker\":{\"colorbar\":{\"outlinewidth\":0,\"ticks\":\"\"}},\"type\":\"scatter3d\"}],\"scattercarpet\":[{\"marker\":{\"colorbar\":{\"outlinewidth\":0,\"ticks\":\"\"}},\"type\":\"scattercarpet\"}],\"scattergeo\":[{\"marker\":{\"colorbar\":{\"outlinewidth\":0,\"ticks\":\"\"}},\"type\":\"scattergeo\"}],\"scattergl\":[{\"marker\":{\"colorbar\":{\"outlinewidth\":0,\"ticks\":\"\"}},\"type\":\"scattergl\"}],\"scattermapbox\":[{\"marker\":{\"colorbar\":{\"outlinewidth\":0,\"ticks\":\"\"}},\"type\":\"scattermapbox\"}],\"scatterpolar\":[{\"marker\":{\"colorbar\":{\"outlinewidth\":0,\"ticks\":\"\"}},\"type\":\"scatterpolar\"}],\"scatterpolargl\":[{\"marker\":{\"colorbar\":{\"outlinewidth\":0,\"ticks\":\"\"}},\"type\":\"scatterpolargl\"}],\"scatterternary\":[{\"marker\":{\"colorbar\":{\"outlinewidth\":0,\"ticks\":\"\"}},\"type\":\"scatterternary\"}],\"surface\":[{\"colorbar\":{\"outlinewidth\":0,\"ticks\":\"\"},\"colorscale\":[[0.0,\"#0d0887\"],[0.1111111111111111,\"#46039f\"],[0.2222222222222222,\"#7201a8\"],[0.3333333333333333,\"#9c179e\"],[0.4444444444444444,\"#bd3786\"],[0.5555555555555556,\"#d8576b\"],[0.6666666666666666,\"#ed7953\"],[0.7777777777777778,\"#fb9f3a\"],[0.8888888888888888,\"#fdca26\"],[1.0,\"#f0f921\"]],\"type\":\"surface\"}],\"table\":[{\"cells\":{\"fill\":{\"color\":\"#EBF0F8\"},\"line\":{\"color\":\"white\"}},\"header\":{\"fill\":{\"color\":\"#C8D4E3\"},\"line\":{\"color\":\"white\"}},\"type\":\"table\"}]},\"layout\":{\"annotationdefaults\":{\"arrowcolor\":\"#2a3f5f\",\"arrowhead\":0,\"arrowwidth\":1},\"autotypenumbers\":\"strict\",\"coloraxis\":{\"colorbar\":{\"outlinewidth\":0,\"ticks\":\"\"}},\"colorscale\":{\"diverging\":[[0,\"#8e0152\"],[0.1,\"#c51b7d\"],[0.2,\"#de77ae\"],[0.3,\"#f1b6da\"],[0.4,\"#fde0ef\"],[0.5,\"#f7f7f7\"],[0.6,\"#e6f5d0\"],[0.7,\"#b8e186\"],[0.8,\"#7fbc41\"],[0.9,\"#4d9221\"],[1,\"#276419\"]],\"sequential\":[[0.0,\"#0d0887\"],[0.1111111111111111,\"#46039f\"],[0.2222222222222222,\"#7201a8\"],[0.3333333333333333,\"#9c179e\"],[0.4444444444444444,\"#bd3786\"],[0.5555555555555556,\"#d8576b\"],[0.6666666666666666,\"#ed7953\"],[0.7777777777777778,\"#fb9f3a\"],[0.8888888888888888,\"#fdca26\"],[1.0,\"#f0f921\"]],\"sequentialminus\":[[0.0,\"#0d0887\"],[0.1111111111111111,\"#46039f\"],[0.2222222222222222,\"#7201a8\"],[0.3333333333333333,\"#9c179e\"],[0.4444444444444444,\"#bd3786\"],[0.5555555555555556,\"#d8576b\"],[0.6666666666666666,\"#ed7953\"],[0.7777777777777778,\"#fb9f3a\"],[0.8888888888888888,\"#fdca26\"],[1.0,\"#f0f921\"]]},\"colorway\":[\"#636efa\",\"#EF553B\",\"#00cc96\",\"#ab63fa\",\"#FFA15A\",\"#19d3f3\",\"#FF6692\",\"#B6E880\",\"#FF97FF\",\"#FECB52\"],\"font\":{\"color\":\"#2a3f5f\"},\"geo\":{\"bgcolor\":\"white\",\"lakecolor\":\"white\",\"landcolor\":\"#E5ECF6\",\"showlakes\":true,\"showland\":true,\"subunitcolor\":\"white\"},\"hoverlabel\":{\"align\":\"left\"},\"hovermode\":\"closest\",\"mapbox\":{\"style\":\"light\"},\"paper_bgcolor\":\"white\",\"plot_bgcolor\":\"#E5ECF6\",\"polar\":{\"angularaxis\":{\"gridcolor\":\"white\",\"linecolor\":\"white\",\"ticks\":\"\"},\"bgcolor\":\"#E5ECF6\",\"radialaxis\":{\"gridcolor\":\"white\",\"linecolor\":\"white\",\"ticks\":\"\"}},\"scene\":{\"xaxis\":{\"backgroundcolor\":\"#E5ECF6\",\"gridcolor\":\"white\",\"gridwidth\":2,\"linecolor\":\"white\",\"showbackground\":true,\"ticks\":\"\",\"zerolinecolor\":\"white\"},\"yaxis\":{\"backgroundcolor\":\"#E5ECF6\",\"gridcolor\":\"white\",\"gridwidth\":2,\"linecolor\":\"white\",\"showbackground\":true,\"ticks\":\"\",\"zerolinecolor\":\"white\"},\"zaxis\":{\"backgroundcolor\":\"#E5ECF6\",\"gridcolor\":\"white\",\"gridwidth\":2,\"linecolor\":\"white\",\"showbackground\":true,\"ticks\":\"\",\"zerolinecolor\":\"white\"}},\"shapedefaults\":{\"line\":{\"color\":\"#2a3f5f\"}},\"ternary\":{\"aaxis\":{\"gridcolor\":\"white\",\"linecolor\":\"white\",\"ticks\":\"\"},\"baxis\":{\"gridcolor\":\"white\",\"linecolor\":\"white\",\"ticks\":\"\"},\"bgcolor\":\"#E5ECF6\",\"caxis\":{\"gridcolor\":\"white\",\"linecolor\":\"white\",\"ticks\":\"\"}},\"title\":{\"x\":0.05},\"xaxis\":{\"automargin\":true,\"gridcolor\":\"white\",\"linecolor\":\"white\",\"ticks\":\"\",\"title\":{\"standoff\":15},\"zerolinecolor\":\"white\",\"zerolinewidth\":2},\"yaxis\":{\"automargin\":true,\"gridcolor\":\"white\",\"linecolor\":\"white\",\"ticks\":\"\",\"title\":{\"standoff\":15},\"zerolinecolor\":\"white\",\"zerolinewidth\":2}}}},                        {\"responsive\": true}                    ).then(function(){\n",
       "                            \n",
       "var gd = document.getElementById('e47d5794-b376-489d-9106-7be42bbc97b2');\n",
       "var x = new MutationObserver(function (mutations, observer) {{\n",
       "        var display = window.getComputedStyle(gd).display;\n",
       "        if (!display || display === 'none') {{\n",
       "            console.log([gd, 'removed!']);\n",
       "            Plotly.purge(gd);\n",
       "            observer.disconnect();\n",
       "        }}\n",
       "}});\n",
       "\n",
       "// Listen for the removal of the full notebook cells\n",
       "var notebookContainer = gd.closest('#notebook-container');\n",
       "if (notebookContainer) {{\n",
       "    x.observe(notebookContainer, {childList: true});\n",
       "}}\n",
       "\n",
       "// Listen for the clearing of the current output cell\n",
       "var outputEl = gd.closest('.output');\n",
       "if (outputEl) {{\n",
       "    x.observe(outputEl, {childList: true});\n",
       "}}\n",
       "\n",
       "                        })                };                });            </script>        </div>"
      ]
     },
     "metadata": {},
     "output_type": "display_data"
    }
   ],
   "source": [
    "df_bar_chart=df.groupby('type').count()\n",
    "\n",
    "\n",
    "trace1 = go.Bar(x=df_bar_chart.index, y=df_bar_chart['posts'])\n",
    "\n",
    "data = [trace1]\n",
    "layout = go.Layout(title='MBTI # Classified Posts per Type')\n",
    "\n",
    "fig = go.Figure(data=data, layout=layout)\n",
    "\n",
    "fig.show()"
   ]
  },
  {
   "cell_type": "markdown",
   "id": "a7b0320b",
   "metadata": {
    "papermill": {
     "duration": 0.058205,
     "end_time": "2022-01-24T11:33:58.129169",
     "exception": false,
     "start_time": "2022-01-24T11:33:58.070964",
     "status": "completed"
    },
    "tags": []
   },
   "source": [
    "# Recreate the model?"
   ]
  },
  {
   "cell_type": "markdown",
   "id": "0318c1fe",
   "metadata": {
    "papermill": {
     "duration": 0.056313,
     "end_time": "2022-01-24T11:33:58.245119",
     "exception": false,
     "start_time": "2022-01-24T11:33:58.188806",
     "status": "completed"
    },
    "tags": []
   },
   "source": [
    "This machine learning model takes it's time to train data\n",
    "\n",
    "To avoid waiting every time, We're going to use the feature dump/load from pickle"
   ]
  },
  {
   "cell_type": "code",
   "execution_count": 28,
   "id": "94ff573a",
   "metadata": {
    "execution": {
     "iopub.execute_input": "2022-01-24T11:33:58.365104Z",
     "iopub.status.busy": "2022-01-24T11:33:58.364419Z",
     "iopub.status.idle": "2022-01-24T11:33:58.367503Z",
     "shell.execute_reply": "2022-01-24T11:33:58.368100Z",
     "shell.execute_reply.started": "2022-01-23T18:31:30.735919Z"
    },
    "papermill": {
     "duration": 0.065836,
     "end_time": "2022-01-24T11:33:58.368278",
     "exception": false,
     "start_time": "2022-01-24T11:33:58.302442",
     "status": "completed"
    },
    "tags": []
   },
   "outputs": [],
   "source": [
    "# Flag to re-create or not the machine learning model\n",
    "recreate_model=False"
   ]
  },
  {
   "cell_type": "code",
   "execution_count": 29,
   "id": "361a48c4",
   "metadata": {
    "execution": {
     "iopub.execute_input": "2022-01-24T11:33:58.490141Z",
     "iopub.status.busy": "2022-01-24T11:33:58.489472Z",
     "iopub.status.idle": "2022-01-24T11:33:58.492276Z",
     "shell.execute_reply": "2022-01-24T11:33:58.492862Z",
     "shell.execute_reply.started": "2022-01-23T18:31:30.743029Z"
    },
    "papermill": {
     "duration": 0.065495,
     "end_time": "2022-01-24T11:33:58.493027",
     "exception": false,
     "start_time": "2022-01-24T11:33:58.427532",
     "status": "completed"
    },
    "tags": []
   },
   "outputs": [],
   "source": [
    "# We'll save the model into a file:\n",
    "filename = 'mbti_svm_v2.sav'"
   ]
  },
  {
   "cell_type": "code",
   "execution_count": 30,
   "id": "d6f1fa54",
   "metadata": {
    "execution": {
     "iopub.execute_input": "2022-01-24T11:33:58.610847Z",
     "iopub.status.busy": "2022-01-24T11:33:58.608810Z",
     "iopub.status.idle": "2022-01-24T11:33:58.614020Z",
     "shell.execute_reply": "2022-01-24T11:33:58.613347Z",
     "shell.execute_reply.started": "2022-01-23T18:31:30.752234Z"
    },
    "papermill": {
     "duration": 0.064732,
     "end_time": "2022-01-24T11:33:58.614172",
     "exception": false,
     "start_time": "2022-01-24T11:33:58.549440",
     "status": "completed"
    },
    "tags": []
   },
   "outputs": [],
   "source": [
    "# If the model file doesn't exists\n",
    "if not os.path.isfile(filename):\n",
    "    recreate_model=True"
   ]
  },
  {
   "cell_type": "markdown",
   "id": "cd04e64e",
   "metadata": {
    "papermill": {
     "duration": 0.058247,
     "end_time": "2022-01-24T11:33:58.729942",
     "exception": false,
     "start_time": "2022-01-24T11:33:58.671695",
     "status": "completed"
    },
    "tags": []
   },
   "source": [
    "# Model"
   ]
  },
  {
   "cell_type": "markdown",
   "id": "e401f1e2",
   "metadata": {
    "papermill": {
     "duration": 0.059072,
     "end_time": "2022-01-24T11:33:58.851375",
     "exception": false,
     "start_time": "2022-01-24T11:33:58.792303",
     "status": "completed"
    },
    "tags": []
   },
   "source": [
    "The machine learning supervised model that we'll use here is a Classification kind, named Support Vector Machine"
   ]
  },
  {
   "cell_type": "markdown",
   "id": "9298777f",
   "metadata": {
    "papermill": {
     "duration": 0.057617,
     "end_time": "2022-01-24T11:33:58.968205",
     "exception": false,
     "start_time": "2022-01-24T11:33:58.910588",
     "status": "completed"
    },
    "tags": []
   },
   "source": [
    "References:\n",
    "\n",
    " - https://en.wikipedia.org/wiki/Support-vector_machine\n",
    "\n",
    "- https://scikit-learn.org/stable/modules/generated/sklearn.svm.LinearSVC.html#sklearn.svm.LinearSVC"
   ]
  },
  {
   "cell_type": "markdown",
   "id": "c1ef14da",
   "metadata": {
    "papermill": {
     "duration": 0.062827,
     "end_time": "2022-01-24T11:33:59.089423",
     "exception": false,
     "start_time": "2022-01-24T11:33:59.026596",
     "status": "completed"
    },
    "tags": []
   },
   "source": [
    "### Model Pipeline"
   ]
  },
  {
   "cell_type": "markdown",
   "id": "1c3a0aa8",
   "metadata": {
    "papermill": {
     "duration": 0.058317,
     "end_time": "2022-01-24T11:33:59.206251",
     "exception": false,
     "start_time": "2022-01-24T11:33:59.147934",
     "status": "completed"
    },
    "tags": []
   },
   "source": [
    "We're going to need a pipelined model ir order to facilitate the entire process of CountVectorizer (TfidfVectorizer) and svm.LinearSVC model"
   ]
  },
  {
   "cell_type": "markdown",
   "id": "9c47672f",
   "metadata": {
    "papermill": {
     "duration": 0.056227,
     "end_time": "2022-01-24T11:33:59.319048",
     "exception": false,
     "start_time": "2022-01-24T11:33:59.262821",
     "status": "completed"
    },
    "tags": []
   },
   "source": [
    "To do that, we're going to use the Pipeline feature from sklearn.pipeline\n",
    "\n",
    "References: https://scikit-learn.org/stable/modules/generated/sklearn.pipeline.Pipeline.html"
   ]
  },
  {
   "cell_type": "markdown",
   "id": "52fa11bc",
   "metadata": {
    "papermill": {
     "duration": 0.05676,
     "end_time": "2022-01-24T11:33:59.432290",
     "exception": false,
     "start_time": "2022-01-24T11:33:59.375530",
     "status": "completed"
    },
    "tags": []
   },
   "source": [
    "# Split the data into train and test"
   ]
  },
  {
   "cell_type": "code",
   "execution_count": 31,
   "id": "73c75344",
   "metadata": {
    "execution": {
     "iopub.execute_input": "2022-01-24T11:33:59.556922Z",
     "iopub.status.busy": "2022-01-24T11:33:59.556169Z",
     "iopub.status.idle": "2022-01-24T11:33:59.582540Z",
     "shell.execute_reply": "2022-01-24T11:33:59.583082Z",
     "shell.execute_reply.started": "2022-01-23T18:31:30.764881Z"
    },
    "papermill": {
     "duration": 0.093136,
     "end_time": "2022-01-24T11:33:59.583273",
     "exception": false,
     "start_time": "2022-01-24T11:33:59.490137",
     "status": "completed"
    },
    "tags": []
   },
   "outputs": [],
   "source": [
    "X = df['posts'] # features\n",
    "y = df['type']  # labels\n",
    "X_train, X_test, y_train, y_test = train_test_split(X, y, test_size=0.2, random_state=42)"
   ]
  },
  {
   "cell_type": "markdown",
   "id": "b5ec387b",
   "metadata": {
    "papermill": {
     "duration": 0.056648,
     "end_time": "2022-01-24T11:33:59.699069",
     "exception": false,
     "start_time": "2022-01-24T11:33:59.642421",
     "status": "completed"
    },
    "tags": []
   },
   "source": [
    "# Training the model, save it to disk and open to make predictions"
   ]
  },
  {
   "cell_type": "code",
   "execution_count": 32,
   "id": "6dfb0eef",
   "metadata": {
    "execution": {
     "iopub.execute_input": "2022-01-24T11:33:59.819713Z",
     "iopub.status.busy": "2022-01-24T11:33:59.819052Z",
     "iopub.status.idle": "2022-01-24T11:37:08.290963Z",
     "shell.execute_reply": "2022-01-24T11:37:08.290180Z",
     "shell.execute_reply.started": "2022-01-23T18:31:30.801132Z"
    },
    "papermill": {
     "duration": 188.534362,
     "end_time": "2022-01-24T11:37:08.291128",
     "exception": false,
     "start_time": "2022-01-24T11:33:59.756766",
     "status": "completed"
    },
    "tags": []
   },
   "outputs": [],
   "source": [
    "# Check if need to recreate the model\n",
    "if recreate_model:    \n",
    "    \n",
    "    # Creating an instance to vectorizer:\n",
    "    vectorizer = TfidfVectorizer()\n",
    "    \n",
    "    # Training the vectorizer:\n",
    "    X_train_tfidf = vectorizer.fit_transform(X_train)\n",
    "    \n",
    "    # Training the classifier:\n",
    "    clf = LinearSVC()\n",
    "    clf.fit(X_train_tfidf, y_train)\n",
    "    \n",
    "    # Pipelining the vectorizer and the classifier\n",
    "    text_clf = Pipeline([('tfidf',TfidfVectorizer()),('clf',LinearSVC())])\n",
    "    text_clf.fit(X_train, y_train)\n",
    "    \n",
    "    # saving the model to disk\n",
    "    pickle.dump(text_clf, open(filename, 'wb'))\n",
    "\n",
    "# If there is no need to recreate the model, just open the file from the disk    \n",
    "else:\n",
    "    # loading the model from disk\n",
    "    text_clf = pickle.load(open(filename, 'rb'))"
   ]
  },
  {
   "cell_type": "markdown",
   "id": "952376f4",
   "metadata": {
    "papermill": {
     "duration": 0.056649,
     "end_time": "2022-01-24T11:37:08.405936",
     "exception": false,
     "start_time": "2022-01-24T11:37:08.349287",
     "status": "completed"
    },
    "tags": []
   },
   "source": [
    "# Using the test data to make predictions and analyze the accurace of the model"
   ]
  },
  {
   "cell_type": "code",
   "execution_count": 33,
   "id": "9f88f0f9",
   "metadata": {
    "execution": {
     "iopub.execute_input": "2022-01-24T11:37:08.537659Z",
     "iopub.status.busy": "2022-01-24T11:37:08.531929Z",
     "iopub.status.idle": "2022-01-24T11:37:22.050522Z",
     "shell.execute_reply": "2022-01-24T11:37:22.049960Z",
     "shell.execute_reply.started": "2022-01-23T18:31:30.969379Z"
    },
    "papermill": {
     "duration": 13.587157,
     "end_time": "2022-01-24T11:37:22.050686",
     "exception": false,
     "start_time": "2022-01-24T11:37:08.463529",
     "status": "completed"
    },
    "tags": []
   },
   "outputs": [],
   "source": [
    "predictions = text_clf.predict(X_test)"
   ]
  },
  {
   "cell_type": "code",
   "execution_count": 34,
   "id": "73684861",
   "metadata": {
    "execution": {
     "iopub.execute_input": "2022-01-24T11:37:22.308237Z",
     "iopub.status.busy": "2022-01-24T11:37:22.173698Z",
     "iopub.status.idle": "2022-01-24T11:37:23.261999Z",
     "shell.execute_reply": "2022-01-24T11:37:23.261457Z",
     "shell.execute_reply.started": "2022-01-23T18:31:44.043489Z"
    },
    "papermill": {
     "duration": 1.152028,
     "end_time": "2022-01-24T11:37:23.262153",
     "exception": false,
     "start_time": "2022-01-24T11:37:22.110125",
     "status": "completed"
    },
    "tags": []
   },
   "outputs": [
    {
     "name": "stdout",
     "output_type": "stream",
     "text": [
      "              precision    recall  f1-score   support\n",
      "\n",
      "        ENFJ       0.84      0.58      0.69       319\n",
      "        ENFP       0.82      0.78      0.80      1249\n",
      "        ENTJ       0.90      0.80      0.84       577\n",
      "        ENTP       0.86      0.83      0.84      2324\n",
      "        ESFJ       0.83      0.45      0.59        33\n",
      "        ESFP       0.88      0.48      0.62        75\n",
      "        ESTJ       0.90      0.84      0.87       105\n",
      "        ESTP       0.95      0.90      0.92       398\n",
      "        INFJ       0.81      0.84      0.83      2954\n",
      "        INFP       0.80      0.82      0.81      2391\n",
      "        INTJ       0.83      0.87      0.85      4531\n",
      "        INTP       0.84      0.87      0.86      5033\n",
      "        ISFJ       0.80      0.61      0.69       132\n",
      "        ISFP       0.81      0.60      0.69       161\n",
      "        ISTJ       0.86      0.68      0.76       253\n",
      "        ISTP       0.89      0.79      0.84       679\n",
      "\n",
      "    accuracy                           0.84     21214\n",
      "   macro avg       0.85      0.73      0.78     21214\n",
      "weighted avg       0.84      0.84      0.83     21214\n",
      "\n"
     ]
    }
   ],
   "source": [
    "print(classification_report(y_test, predictions))"
   ]
  },
  {
   "cell_type": "code",
   "execution_count": 35,
   "id": "594c1904",
   "metadata": {
    "execution": {
     "iopub.execute_input": "2022-01-24T11:37:23.384377Z",
     "iopub.status.busy": "2022-01-24T11:37:23.383417Z",
     "iopub.status.idle": "2022-01-24T11:37:23.427170Z",
     "shell.execute_reply": "2022-01-24T11:37:23.427639Z",
     "shell.execute_reply.started": "2022-01-23T18:31:45.136006Z"
    },
    "papermill": {
     "duration": 0.108088,
     "end_time": "2022-01-24T11:37:23.427835",
     "exception": false,
     "start_time": "2022-01-24T11:37:23.319747",
     "status": "completed"
    },
    "tags": []
   },
   "outputs": [
    {
     "name": "stdout",
     "output_type": "stream",
     "text": [
      "Overall accuracy of the model: 0.84\n"
     ]
    }
   ],
   "source": [
    "print(f\"Overall accuracy of the model: {round(metrics.accuracy_score(y_test, predictions),2)}\")"
   ]
  },
  {
   "cell_type": "markdown",
   "id": "29b0f550",
   "metadata": {
    "papermill": {
     "duration": 0.062979,
     "end_time": "2022-01-24T11:37:23.553490",
     "exception": false,
     "start_time": "2022-01-24T11:37:23.490511",
     "status": "completed"
    },
    "tags": []
   },
   "source": [
    "# End"
   ]
  }
 ],
 "metadata": {
  "kernelspec": {
   "display_name": "Python 3",
   "language": "python",
   "name": "python3"
  },
  "language_info": {
   "codemirror_mode": {
    "name": "ipython",
    "version": 3
   },
   "file_extension": ".py",
   "mimetype": "text/x-python",
   "name": "python",
   "nbconvert_exporter": "python",
   "pygments_lexer": "ipython3",
   "version": "3.8.8"
  },
  "papermill": {
   "default_parameters": {},
   "duration": 247.963482,
   "end_time": "2022-01-24T11:37:26.913576",
   "environment_variables": {},
   "exception": null,
   "input_path": "__notebook__.ipynb",
   "output_path": "__notebook__.ipynb",
   "parameters": {},
   "start_time": "2022-01-24T11:33:18.950094",
   "version": "2.3.3"
  }
 },
 "nbformat": 4,
 "nbformat_minor": 5
}
