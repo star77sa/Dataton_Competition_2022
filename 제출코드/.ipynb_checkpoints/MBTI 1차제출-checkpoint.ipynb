{
 "cells": [
  {
   "cell_type": "markdown",
   "id": "b895dce9",
   "metadata": {
    "papermill": {
     "duration": 0.05475,
     "end_time": "2022-01-24T11:33:29.924313",
     "exception": false,
     "start_time": "2022-01-24T11:33:29.869563",
     "status": "completed"
    },
    "tags": []
   },
   "source": [
    "# Importing libraries"
   ]
  },
  {
   "cell_type": "code",
   "execution_count": 1,
   "id": "8a7dec48",
   "metadata": {
    "papermill": {
     "duration": 11.507019,
     "end_time": "2022-01-24T11:33:41.485611",
     "exception": false,
     "start_time": "2022-01-24T11:33:29.978592",
     "status": "completed"
    },
    "tags": []
   },
   "outputs": [],
   "source": [
    "import pandas as pd\n",
    "from sklearn.model_selection import train_test_split\n",
    "from sklearn.feature_extraction.text import TfidfVectorizer\n",
    "from sklearn.svm import LinearSVC\n",
    "from sklearn.pipeline import Pipeline\n",
    "from sklearn import metrics\n",
    "from sklearn.metrics import classification_report, f1_score\n",
    "import pickle\n",
    "import os.path\n",
    "import plotly.offline as pyo\n",
    "import plotly.graph_objs as go\n",
    "# import spacy\n",
    "from nltk.stem.snowball import SnowballStemmer\n",
    "from sklearn.feature_extraction.text import CountVectorizer"
   ]
  },
  {
   "cell_type": "code",
   "execution_count": 21,
   "id": "d762d1b9-995b-49a8-93ed-a39ce802f31a",
   "metadata": {},
   "outputs": [],
   "source": [
    "import warnings\n",
    "\n",
    "warnings.filterwarnings(action='ignore') "
   ]
  },
  {
   "cell_type": "markdown",
   "id": "4a49e164",
   "metadata": {
    "papermill": {
     "duration": 0.058532,
     "end_time": "2022-01-24T11:33:46.115031",
     "exception": false,
     "start_time": "2022-01-24T11:33:46.056499",
     "status": "completed"
    },
    "tags": []
   },
   "source": [
    "# Text Feature Extraction"
   ]
  },
  {
   "cell_type": "markdown",
   "id": "336fee11",
   "metadata": {
    "papermill": {
     "duration": 0.058791,
     "end_time": "2022-01-24T11:33:46.235014",
     "exception": false,
     "start_time": "2022-01-24T11:33:46.176223",
     "status": "completed"
    },
    "tags": []
   },
   "source": [
    "After preprocess data it's time to extract features from the text in order to prepare the machine learning model"
   ]
  },
  {
   "cell_type": "markdown",
   "id": "58e53c61",
   "metadata": {
    "papermill": {
     "duration": 0.05577,
     "end_time": "2022-01-24T11:33:46.346287",
     "exception": false,
     "start_time": "2022-01-24T11:33:46.290517",
     "status": "completed"
    },
    "tags": []
   },
   "source": [
    "### Count Vectorization"
   ]
  },
  {
   "cell_type": "markdown",
   "id": "0a7d3da5",
   "metadata": {
    "papermill": {
     "duration": 0.059072,
     "end_time": "2022-01-24T11:33:46.465396",
     "exception": false,
     "start_time": "2022-01-24T11:33:46.406324",
     "status": "completed"
    },
    "tags": []
   },
   "source": [
    "1. Treats each word of a text individually as a feature\n",
    "\n",
    "2. After that, counts each occurrence of each word in the document\n",
    "\n",
    "3. Than, makes a matrix DTM (Document Term Matrix)"
   ]
  },
  {
   "cell_type": "code",
   "execution_count": 14,
   "id": "2a00a722",
   "metadata": {
    "execution": {
     "iopub.execute_input": "2022-01-24T11:33:46.575541Z",
     "iopub.status.busy": "2022-01-24T11:33:46.574693Z",
     "iopub.status.idle": "2022-01-24T11:33:46.576944Z",
     "shell.execute_reply": "2022-01-24T11:33:46.577441Z",
     "shell.execute_reply.started": "2022-01-23T18:31:25.400379Z"
    },
    "papermill": {
     "duration": 0.060273,
     "end_time": "2022-01-24T11:33:46.577616",
     "exception": false,
     "start_time": "2022-01-24T11:33:46.517343",
     "status": "completed"
    },
    "tags": []
   },
   "outputs": [],
   "source": [
    "count_vect = CountVectorizer()"
   ]
  },
  {
   "cell_type": "code",
   "execution_count": 15,
   "id": "279c1f09",
   "metadata": {
    "execution": {
     "iopub.execute_input": "2022-01-24T11:33:46.694780Z",
     "iopub.status.busy": "2022-01-24T11:33:46.693943Z",
     "iopub.status.idle": "2022-01-24T11:33:46.697767Z",
     "shell.execute_reply": "2022-01-24T11:33:46.698292Z",
     "shell.execute_reply.started": "2022-01-23T18:31:25.406328Z"
    },
    "papermill": {
     "duration": 0.064707,
     "end_time": "2022-01-24T11:33:46.698468",
     "exception": false,
     "start_time": "2022-01-24T11:33:46.633761",
     "status": "completed"
    },
    "tags": []
   },
   "outputs": [],
   "source": [
    "phrase = [\"I'd like to have a glass of water please\"]"
   ]
  },
  {
   "cell_type": "code",
   "execution_count": 16,
   "id": "d21391ec",
   "metadata": {
    "execution": {
     "iopub.execute_input": "2022-01-24T11:33:46.812522Z",
     "iopub.status.busy": "2022-01-24T11:33:46.811869Z",
     "iopub.status.idle": "2022-01-24T11:33:46.819508Z",
     "shell.execute_reply": "2022-01-24T11:33:46.820124Z",
     "shell.execute_reply.started": "2022-01-23T18:31:25.41704Z"
    },
    "papermill": {
     "duration": 0.066922,
     "end_time": "2022-01-24T11:33:46.820425",
     "exception": false,
     "start_time": "2022-01-24T11:33:46.753503",
     "status": "completed"
    },
    "tags": []
   },
   "outputs": [
    {
     "data": {
      "text/plain": [
       "CountVectorizer()"
      ]
     },
     "execution_count": 16,
     "metadata": {},
     "output_type": "execute_result"
    }
   ],
   "source": [
    "# Fit Vectorizer to the Data (build a vocab, count the number of words...)\n",
    "# Learn a vocabulary dictionary of all tokens in the raw documents\n",
    "count_vect.fit(phrase)"
   ]
  },
  {
   "cell_type": "code",
   "execution_count": 17,
   "id": "1e589ecd",
   "metadata": {
    "execution": {
     "iopub.execute_input": "2022-01-24T11:33:46.936436Z",
     "iopub.status.busy": "2022-01-24T11:33:46.935786Z",
     "iopub.status.idle": "2022-01-24T11:33:46.940626Z",
     "shell.execute_reply": "2022-01-24T11:33:46.941211Z",
     "shell.execute_reply.started": "2022-01-23T18:31:25.432524Z"
    },
    "papermill": {
     "duration": 0.064347,
     "end_time": "2022-01-24T11:33:46.941386",
     "exception": false,
     "start_time": "2022-01-24T11:33:46.877039",
     "status": "completed"
    },
    "tags": []
   },
   "outputs": [
    {
     "data": {
      "text/plain": [
       "['glass', 'have', 'like', 'of', 'please', 'to', 'water']"
      ]
     },
     "execution_count": 17,
     "metadata": {},
     "output_type": "execute_result"
    }
   ],
   "source": [
    "# Show features\n",
    "count_vect.get_feature_names()"
   ]
  },
  {
   "cell_type": "code",
   "execution_count": 18,
   "id": "51ae3384",
   "metadata": {
    "execution": {
     "iopub.execute_input": "2022-01-24T11:33:47.057476Z",
     "iopub.status.busy": "2022-01-24T11:33:47.056590Z",
     "iopub.status.idle": "2022-01-24T11:33:47.062962Z",
     "shell.execute_reply": "2022-01-24T11:33:47.063469Z",
     "shell.execute_reply.started": "2022-01-23T18:31:25.443995Z"
    },
    "papermill": {
     "duration": 0.066884,
     "end_time": "2022-01-24T11:33:47.063640",
     "exception": false,
     "start_time": "2022-01-24T11:33:46.996756",
     "status": "completed"
    },
    "tags": []
   },
   "outputs": [
    {
     "data": {
      "text/plain": [
       "<1x7 sparse matrix of type '<class 'numpy.int64'>'\n",
       "\twith 7 stored elements in Compressed Sparse Row format>"
      ]
     },
     "execution_count": 18,
     "metadata": {},
     "output_type": "execute_result"
    }
   ],
   "source": [
    "# Learn the vocabulary dictionary and return document-term matrix\n",
    "count_vect.fit_transform(phrase)"
   ]
  },
  {
   "cell_type": "code",
   "execution_count": 19,
   "id": "b4cc14da",
   "metadata": {
    "execution": {
     "iopub.execute_input": "2022-01-24T11:33:47.183056Z",
     "iopub.status.busy": "2022-01-24T11:33:47.182056Z",
     "iopub.status.idle": "2022-01-24T11:33:47.188980Z",
     "shell.execute_reply": "2022-01-24T11:33:47.188396Z",
     "shell.execute_reply.started": "2022-01-23T18:31:25.453577Z"
    },
    "papermill": {
     "duration": 0.066864,
     "end_time": "2022-01-24T11:33:47.189136",
     "exception": false,
     "start_time": "2022-01-24T11:33:47.122272",
     "status": "completed"
    },
    "tags": []
   },
   "outputs": [
    {
     "data": {
      "text/plain": [
       "{'like': 2, 'to': 5, 'have': 1, 'glass': 0, 'of': 3, 'water': 6, 'please': 4}"
      ]
     },
     "execution_count": 19,
     "metadata": {},
     "output_type": "execute_result"
    }
   ],
   "source": [
    "# shows a mapping of terms to feature indices.\n",
    "count_vect.vocabulary_"
   ]
  },
  {
   "cell_type": "markdown",
   "id": "e5ef984b",
   "metadata": {
    "papermill": {
     "duration": 0.0595,
     "end_time": "2022-01-24T11:33:47.305777",
     "exception": false,
     "start_time": "2022-01-24T11:33:47.246277",
     "status": "completed"
    },
    "tags": []
   },
   "source": [
    "## TfidVectorizer"
   ]
  },
  {
   "cell_type": "markdown",
   "id": "4dc9843b",
   "metadata": {
    "papermill": {
     "duration": 0.056442,
     "end_time": "2022-01-24T11:33:47.419883",
     "exception": false,
     "start_time": "2022-01-24T11:33:47.363441",
     "status": "completed"
    },
    "tags": []
   },
   "source": [
    "An alternative to CountVectorizer is the TfidVectorizer"
   ]
  },
  {
   "cell_type": "markdown",
   "id": "9a4dc77f",
   "metadata": {
    "papermill": {
     "duration": 0.05486,
     "end_time": "2022-01-24T11:33:47.532312",
     "exception": false,
     "start_time": "2022-01-24T11:33:47.477452",
     "status": "completed"
    },
    "tags": []
   },
   "source": [
    "TfidVectorizer calculates an inverse frequency for each word"
   ]
  },
  {
   "cell_type": "markdown",
   "id": "c0b6469a",
   "metadata": {
    "papermill": {
     "duration": 0.05837,
     "end_time": "2022-01-24T11:33:47.646473",
     "exception": false,
     "start_time": "2022-01-24T11:33:47.588103",
     "status": "completed"
    },
    "tags": []
   },
   "source": [
    "It converts a collection of raw documents to a matrix of TF-IDF features."
   ]
  },
  {
   "cell_type": "markdown",
   "id": "48e5421b",
   "metadata": {
    "papermill": {
     "duration": 0.059238,
     "end_time": "2022-01-24T11:33:47.766004",
     "exception": false,
     "start_time": "2022-01-24T11:33:47.706766",
     "status": "completed"
    },
    "tags": []
   },
   "source": [
    "TfidVectorizer will be used to create the machine learning model for this study"
   ]
  },
  {
   "cell_type": "markdown",
   "id": "10d690fe",
   "metadata": {
    "papermill": {
     "duration": 0.056141,
     "end_time": "2022-01-24T11:33:47.879258",
     "exception": false,
     "start_time": "2022-01-24T11:33:47.823117",
     "status": "completed"
    },
    "tags": []
   },
   "source": [
    "# Read the dataset into a pandas dataframe"
   ]
  },
  {
   "cell_type": "markdown",
   "id": "b9b6ac4e",
   "metadata": {
    "papermill": {
     "duration": 0.056519,
     "end_time": "2022-01-24T11:33:47.996122",
     "exception": false,
     "start_time": "2022-01-24T11:33:47.939603",
     "status": "completed"
    },
    "tags": []
   },
   "source": [
    "Now it's time to read the dataset and make a simple exploratory analysis"
   ]
  },
  {
   "cell_type": "code",
   "execution_count": 32,
   "id": "68b80ab5-e65b-4ee1-8479-edf860e98e55",
   "metadata": {},
   "outputs": [],
   "source": [
    "df = pd.read_csv('G://내 드라이브/Github/2022-Data-ton/dataset/MBTI_train.csv', header=None)"
   ]
  },
  {
   "cell_type": "code",
   "execution_count": 33,
   "id": "e3b0f0d9-bda3-4326-8652-563c4e9631f0",
   "metadata": {},
   "outputs": [
    {
     "data": {
      "text/plain": [
       "<bound method NDFrame.head of           0                                                  1\n",
       "0      INTP  say process model list like subscriber channel...\n",
       "1      INFJ  upon much manipulate retail finish like sacrif...\n",
       "2      INFJ  fit yes certain bff social feel goal go know n...\n",
       "3      INTJ  complete love within someone ideal joke solvea...\n",
       "4      ENTJ  public strictly thing person x question person...\n",
       "...     ...                                                ...\n",
       "74352  INTP  get consequence process life back kind great b...\n",
       "74353  ENFP  mundane really right vibe natural u conscious ...\n",
       "74354  INFP  diva message remember practical lot absorb tel...\n",
       "74355  INTJ  increase impressive group make recognize get a...\n",
       "74356  ENTJ  restaurant negative entj resent people sing ma...\n",
       "\n",
       "[74357 rows x 2 columns]>"
      ]
     },
     "execution_count": 33,
     "metadata": {},
     "output_type": "execute_result"
    }
   ],
   "source": [
    "df.head"
   ]
  },
  {
   "cell_type": "code",
   "execution_count": 34,
   "id": "2dfbd2fb",
   "metadata": {
    "papermill": {
     "duration": 0.080555,
     "end_time": "2022-01-24T11:33:56.825360",
     "exception": false,
     "start_time": "2022-01-24T11:33:56.744805",
     "status": "completed"
    },
    "tags": []
   },
   "outputs": [],
   "source": [
    "df.columns = ['type', 'posts']"
   ]
  },
  {
   "cell_type": "code",
   "execution_count": 35,
   "id": "8c8b3745",
   "metadata": {
    "papermill": {
     "duration": 0.06699,
     "end_time": "2022-01-24T11:33:56.949829",
     "exception": false,
     "start_time": "2022-01-24T11:33:56.882839",
     "status": "completed"
    },
    "tags": []
   },
   "outputs": [
    {
     "data": {
      "text/plain": [
       "'say process model list like subscriber channel region act position since without hear resus help study sense external specialize movement dude thousand yes even get essential part road involve expressiveness like factor never probably le non think dedicate medium task take brain oh architectural would diagnose technology college precisely fi understand dominant dom security run make hard tribe lot stop opinion bad washinon solely best extremely sound since patreon back differently mean differ cia high discrimination make two si holistic though passage would make director continue else task enigma question yet whatever field probably mean part arbitrary hedonism ask post find broaden matter read lot sql essential cuure start language think month demand intp plz like like without exam help get system something einstein though would stream create personal sort relative would k would language k man flat example without typically learn read still teach problem split function mean long mental arbitrary glean step sound norm u win question cuures mean genius lenh would work podcast chimpanzee like resist equality glad genius colleague lenh need memory go use u several need world road ask start make intelligence ba either factor end necessarily fail mean min desire try animal incitement think great mean big heah movement master sentence money take mean pretty life well wise intp immigrate channel space yep twice road young essay merge le get hundred pretty help know far add assignment demand people intestinal get opinion learn whatever much equip feel life region unordered raw current specie speed point write need oh extract mean business center important see even perceive desire confuse sry slant enough view know become improve level genuinely time work make also let stop way man care like personal opportunity ability survive ah insensitive help nowhere caption many environment basically analytical word jump good learn landscape process electronic guy moma le much get respond worldwide quality game intp nature example try deaf notice much repetitive matter possibility k something road get school npr round last make need monkey write say masturbation around avoid think figure society could key human describe environment genre test first brain two plateau information story content also intp feel think good brain get arbitrary education monkey fortitude cognition cohesive capable equally due comment report help overall channel grip lack chance video read podcast still towards average improve comment opposite heah distill also judgemental make develop partially intuition grade hear high sentence'"
      ]
     },
     "execution_count": 35,
     "metadata": {},
     "output_type": "execute_result"
    }
   ],
   "source": [
    "df['posts'][0]"
   ]
  },
  {
   "cell_type": "code",
   "execution_count": 36,
   "id": "8a313529",
   "metadata": {
    "papermill": {
     "duration": 0.066143,
     "end_time": "2022-01-24T11:33:57.072446",
     "exception": false,
     "start_time": "2022-01-24T11:33:57.006303",
     "status": "completed"
    },
    "tags": []
   },
   "outputs": [
    {
     "data": {
      "text/plain": [
       "'INTP'"
      ]
     },
     "execution_count": 36,
     "metadata": {},
     "output_type": "execute_result"
    }
   ],
   "source": [
    "df['type'][0]"
   ]
  },
  {
   "cell_type": "code",
   "execution_count": 37,
   "id": "d9d2e8e4",
   "metadata": {
    "papermill": {
     "duration": 0.081509,
     "end_time": "2022-01-24T11:33:57.218634",
     "exception": false,
     "start_time": "2022-01-24T11:33:57.137125",
     "status": "completed"
    },
    "tags": []
   },
   "outputs": [
    {
     "data": {
      "text/plain": [
       "array(['INTP', 'INFJ', 'INTJ', 'ENTJ', 'ENTP', 'INFP', 'ISTP', 'ISFJ',\n",
       "       'ENFP', 'ISFP', 'ISTJ', 'ENFJ', 'ESTP', 'ESFP', 'ESTJ', 'ESFJ'],\n",
       "      dtype=object)"
      ]
     },
     "execution_count": 37,
     "metadata": {},
     "output_type": "execute_result"
    }
   ],
   "source": [
    "df['type'].unique()"
   ]
  },
  {
   "cell_type": "code",
   "execution_count": 38,
   "id": "4421fe9d-84c1-4c51-91e6-9da1624e863a",
   "metadata": {},
   "outputs": [
    {
     "data": {
      "text/plain": [
       "71"
      ]
     },
     "execution_count": 38,
     "metadata": {},
     "output_type": "execute_result"
    }
   ],
   "source": [
    "sum(df['type'] == 'ESTJ')"
   ]
  },
  {
   "cell_type": "code",
   "execution_count": 39,
   "id": "95cec341",
   "metadata": {
    "papermill": {
     "duration": 0.074413,
     "end_time": "2022-01-24T11:33:57.351624",
     "exception": false,
     "start_time": "2022-01-24T11:33:57.277211",
     "status": "completed"
    },
    "tags": []
   },
   "outputs": [
    {
     "name": "stdout",
     "output_type": "stream",
     "text": [
      "Total of 16 types of classified MBTI posts\n"
     ]
    }
   ],
   "source": [
    "print(f\"Total of {len(df['type'].unique())} types of classified MBTI posts\")"
   ]
  },
  {
   "cell_type": "markdown",
   "id": "7b2436f5",
   "metadata": {
    "papermill": {
     "duration": 0.056541,
     "end_time": "2022-01-24T11:33:57.467015",
     "exception": false,
     "start_time": "2022-01-24T11:33:57.410474",
     "status": "completed"
    },
    "tags": []
   },
   "source": [
    "# Checking null values"
   ]
  },
  {
   "cell_type": "code",
   "execution_count": 40,
   "id": "902c8406",
   "metadata": {
    "papermill": {
     "duration": 0.098632,
     "end_time": "2022-01-24T11:33:57.623222",
     "exception": false,
     "start_time": "2022-01-24T11:33:57.524590",
     "status": "completed"
    },
    "tags": []
   },
   "outputs": [
    {
     "data": {
      "text/plain": [
       "type     0\n",
       "posts    0\n",
       "dtype: int64"
      ]
     },
     "execution_count": 40,
     "metadata": {},
     "output_type": "execute_result"
    }
   ],
   "source": [
    "df.isnull().sum()"
   ]
  },
  {
   "cell_type": "markdown",
   "id": "035b3559",
   "metadata": {
    "papermill": {
     "duration": 0.057275,
     "end_time": "2022-01-24T11:33:57.737438",
     "exception": false,
     "start_time": "2022-01-24T11:33:57.680163",
     "status": "completed"
    },
    "tags": []
   },
   "source": [
    "# Checking the number of posts per type"
   ]
  },
  {
   "cell_type": "code",
   "execution_count": 41,
   "id": "fdf8e715",
   "metadata": {
    "papermill": {
     "duration": 0.217902,
     "end_time": "2022-01-24T11:33:58.012173",
     "exception": false,
     "start_time": "2022-01-24T11:33:57.794271",
     "status": "completed"
    },
    "tags": []
   },
   "outputs": [
    {
     "data": {
      "application/vnd.plotly.v1+json": {
       "config": {
        "plotlyServerURL": "https://plot.ly"
       },
       "data": [
        {
         "type": "bar",
         "x": [
          "ENFJ",
          "ENFP",
          "ENTJ",
          "ENTP",
          "ESFJ",
          "ESFP",
          "ESTJ",
          "ESTP",
          "INFJ",
          "INFP",
          "INTJ",
          "INTP",
          "ISFJ",
          "ISFP",
          "ISTJ",
          "ISTP"
         ],
         "y": [
          1024,
          4338,
          2106,
          8303,
          119,
          252,
          71,
          814,
          10765,
          8444,
          16079,
          17690,
          460,
          620,
          878,
          2394
         ]
        }
       ],
       "layout": {
        "autosize": true,
        "template": {
         "data": {
          "bar": [
           {
            "error_x": {
             "color": "#2a3f5f"
            },
            "error_y": {
             "color": "#2a3f5f"
            },
            "marker": {
             "line": {
              "color": "#E5ECF6",
              "width": 0.5
             },
             "pattern": {
              "fillmode": "overlay",
              "size": 10,
              "solidity": 0.2
             }
            },
            "type": "bar"
           }
          ],
          "barpolar": [
           {
            "marker": {
             "line": {
              "color": "#E5ECF6",
              "width": 0.5
             },
             "pattern": {
              "fillmode": "overlay",
              "size": 10,
              "solidity": 0.2
             }
            },
            "type": "barpolar"
           }
          ],
          "carpet": [
           {
            "aaxis": {
             "endlinecolor": "#2a3f5f",
             "gridcolor": "white",
             "linecolor": "white",
             "minorgridcolor": "white",
             "startlinecolor": "#2a3f5f"
            },
            "baxis": {
             "endlinecolor": "#2a3f5f",
             "gridcolor": "white",
             "linecolor": "white",
             "minorgridcolor": "white",
             "startlinecolor": "#2a3f5f"
            },
            "type": "carpet"
           }
          ],
          "choropleth": [
           {
            "colorbar": {
             "outlinewidth": 0,
             "ticks": ""
            },
            "type": "choropleth"
           }
          ],
          "contour": [
           {
            "colorbar": {
             "outlinewidth": 0,
             "ticks": ""
            },
            "colorscale": [
             [
              0,
              "#0d0887"
             ],
             [
              0.1111111111111111,
              "#46039f"
             ],
             [
              0.2222222222222222,
              "#7201a8"
             ],
             [
              0.3333333333333333,
              "#9c179e"
             ],
             [
              0.4444444444444444,
              "#bd3786"
             ],
             [
              0.5555555555555556,
              "#d8576b"
             ],
             [
              0.6666666666666666,
              "#ed7953"
             ],
             [
              0.7777777777777778,
              "#fb9f3a"
             ],
             [
              0.8888888888888888,
              "#fdca26"
             ],
             [
              1,
              "#f0f921"
             ]
            ],
            "type": "contour"
           }
          ],
          "contourcarpet": [
           {
            "colorbar": {
             "outlinewidth": 0,
             "ticks": ""
            },
            "type": "contourcarpet"
           }
          ],
          "heatmap": [
           {
            "colorbar": {
             "outlinewidth": 0,
             "ticks": ""
            },
            "colorscale": [
             [
              0,
              "#0d0887"
             ],
             [
              0.1111111111111111,
              "#46039f"
             ],
             [
              0.2222222222222222,
              "#7201a8"
             ],
             [
              0.3333333333333333,
              "#9c179e"
             ],
             [
              0.4444444444444444,
              "#bd3786"
             ],
             [
              0.5555555555555556,
              "#d8576b"
             ],
             [
              0.6666666666666666,
              "#ed7953"
             ],
             [
              0.7777777777777778,
              "#fb9f3a"
             ],
             [
              0.8888888888888888,
              "#fdca26"
             ],
             [
              1,
              "#f0f921"
             ]
            ],
            "type": "heatmap"
           }
          ],
          "heatmapgl": [
           {
            "colorbar": {
             "outlinewidth": 0,
             "ticks": ""
            },
            "colorscale": [
             [
              0,
              "#0d0887"
             ],
             [
              0.1111111111111111,
              "#46039f"
             ],
             [
              0.2222222222222222,
              "#7201a8"
             ],
             [
              0.3333333333333333,
              "#9c179e"
             ],
             [
              0.4444444444444444,
              "#bd3786"
             ],
             [
              0.5555555555555556,
              "#d8576b"
             ],
             [
              0.6666666666666666,
              "#ed7953"
             ],
             [
              0.7777777777777778,
              "#fb9f3a"
             ],
             [
              0.8888888888888888,
              "#fdca26"
             ],
             [
              1,
              "#f0f921"
             ]
            ],
            "type": "heatmapgl"
           }
          ],
          "histogram": [
           {
            "marker": {
             "pattern": {
              "fillmode": "overlay",
              "size": 10,
              "solidity": 0.2
             }
            },
            "type": "histogram"
           }
          ],
          "histogram2d": [
           {
            "colorbar": {
             "outlinewidth": 0,
             "ticks": ""
            },
            "colorscale": [
             [
              0,
              "#0d0887"
             ],
             [
              0.1111111111111111,
              "#46039f"
             ],
             [
              0.2222222222222222,
              "#7201a8"
             ],
             [
              0.3333333333333333,
              "#9c179e"
             ],
             [
              0.4444444444444444,
              "#bd3786"
             ],
             [
              0.5555555555555556,
              "#d8576b"
             ],
             [
              0.6666666666666666,
              "#ed7953"
             ],
             [
              0.7777777777777778,
              "#fb9f3a"
             ],
             [
              0.8888888888888888,
              "#fdca26"
             ],
             [
              1,
              "#f0f921"
             ]
            ],
            "type": "histogram2d"
           }
          ],
          "histogram2dcontour": [
           {
            "colorbar": {
             "outlinewidth": 0,
             "ticks": ""
            },
            "colorscale": [
             [
              0,
              "#0d0887"
             ],
             [
              0.1111111111111111,
              "#46039f"
             ],
             [
              0.2222222222222222,
              "#7201a8"
             ],
             [
              0.3333333333333333,
              "#9c179e"
             ],
             [
              0.4444444444444444,
              "#bd3786"
             ],
             [
              0.5555555555555556,
              "#d8576b"
             ],
             [
              0.6666666666666666,
              "#ed7953"
             ],
             [
              0.7777777777777778,
              "#fb9f3a"
             ],
             [
              0.8888888888888888,
              "#fdca26"
             ],
             [
              1,
              "#f0f921"
             ]
            ],
            "type": "histogram2dcontour"
           }
          ],
          "mesh3d": [
           {
            "colorbar": {
             "outlinewidth": 0,
             "ticks": ""
            },
            "type": "mesh3d"
           }
          ],
          "parcoords": [
           {
            "line": {
             "colorbar": {
              "outlinewidth": 0,
              "ticks": ""
             }
            },
            "type": "parcoords"
           }
          ],
          "pie": [
           {
            "automargin": true,
            "type": "pie"
           }
          ],
          "scatter": [
           {
            "marker": {
             "colorbar": {
              "outlinewidth": 0,
              "ticks": ""
             }
            },
            "type": "scatter"
           }
          ],
          "scatter3d": [
           {
            "line": {
             "colorbar": {
              "outlinewidth": 0,
              "ticks": ""
             }
            },
            "marker": {
             "colorbar": {
              "outlinewidth": 0,
              "ticks": ""
             }
            },
            "type": "scatter3d"
           }
          ],
          "scattercarpet": [
           {
            "marker": {
             "colorbar": {
              "outlinewidth": 0,
              "ticks": ""
             }
            },
            "type": "scattercarpet"
           }
          ],
          "scattergeo": [
           {
            "marker": {
             "colorbar": {
              "outlinewidth": 0,
              "ticks": ""
             }
            },
            "type": "scattergeo"
           }
          ],
          "scattergl": [
           {
            "marker": {
             "colorbar": {
              "outlinewidth": 0,
              "ticks": ""
             }
            },
            "type": "scattergl"
           }
          ],
          "scattermapbox": [
           {
            "marker": {
             "colorbar": {
              "outlinewidth": 0,
              "ticks": ""
             }
            },
            "type": "scattermapbox"
           }
          ],
          "scatterpolar": [
           {
            "marker": {
             "colorbar": {
              "outlinewidth": 0,
              "ticks": ""
             }
            },
            "type": "scatterpolar"
           }
          ],
          "scatterpolargl": [
           {
            "marker": {
             "colorbar": {
              "outlinewidth": 0,
              "ticks": ""
             }
            },
            "type": "scatterpolargl"
           }
          ],
          "scatterternary": [
           {
            "marker": {
             "colorbar": {
              "outlinewidth": 0,
              "ticks": ""
             }
            },
            "type": "scatterternary"
           }
          ],
          "surface": [
           {
            "colorbar": {
             "outlinewidth": 0,
             "ticks": ""
            },
            "colorscale": [
             [
              0,
              "#0d0887"
             ],
             [
              0.1111111111111111,
              "#46039f"
             ],
             [
              0.2222222222222222,
              "#7201a8"
             ],
             [
              0.3333333333333333,
              "#9c179e"
             ],
             [
              0.4444444444444444,
              "#bd3786"
             ],
             [
              0.5555555555555556,
              "#d8576b"
             ],
             [
              0.6666666666666666,
              "#ed7953"
             ],
             [
              0.7777777777777778,
              "#fb9f3a"
             ],
             [
              0.8888888888888888,
              "#fdca26"
             ],
             [
              1,
              "#f0f921"
             ]
            ],
            "type": "surface"
           }
          ],
          "table": [
           {
            "cells": {
             "fill": {
              "color": "#EBF0F8"
             },
             "line": {
              "color": "white"
             }
            },
            "header": {
             "fill": {
              "color": "#C8D4E3"
             },
             "line": {
              "color": "white"
             }
            },
            "type": "table"
           }
          ]
         },
         "layout": {
          "annotationdefaults": {
           "arrowcolor": "#2a3f5f",
           "arrowhead": 0,
           "arrowwidth": 1
          },
          "autotypenumbers": "strict",
          "coloraxis": {
           "colorbar": {
            "outlinewidth": 0,
            "ticks": ""
           }
          },
          "colorscale": {
           "diverging": [
            [
             0,
             "#8e0152"
            ],
            [
             0.1,
             "#c51b7d"
            ],
            [
             0.2,
             "#de77ae"
            ],
            [
             0.3,
             "#f1b6da"
            ],
            [
             0.4,
             "#fde0ef"
            ],
            [
             0.5,
             "#f7f7f7"
            ],
            [
             0.6,
             "#e6f5d0"
            ],
            [
             0.7,
             "#b8e186"
            ],
            [
             0.8,
             "#7fbc41"
            ],
            [
             0.9,
             "#4d9221"
            ],
            [
             1,
             "#276419"
            ]
           ],
           "sequential": [
            [
             0,
             "#0d0887"
            ],
            [
             0.1111111111111111,
             "#46039f"
            ],
            [
             0.2222222222222222,
             "#7201a8"
            ],
            [
             0.3333333333333333,
             "#9c179e"
            ],
            [
             0.4444444444444444,
             "#bd3786"
            ],
            [
             0.5555555555555556,
             "#d8576b"
            ],
            [
             0.6666666666666666,
             "#ed7953"
            ],
            [
             0.7777777777777778,
             "#fb9f3a"
            ],
            [
             0.8888888888888888,
             "#fdca26"
            ],
            [
             1,
             "#f0f921"
            ]
           ],
           "sequentialminus": [
            [
             0,
             "#0d0887"
            ],
            [
             0.1111111111111111,
             "#46039f"
            ],
            [
             0.2222222222222222,
             "#7201a8"
            ],
            [
             0.3333333333333333,
             "#9c179e"
            ],
            [
             0.4444444444444444,
             "#bd3786"
            ],
            [
             0.5555555555555556,
             "#d8576b"
            ],
            [
             0.6666666666666666,
             "#ed7953"
            ],
            [
             0.7777777777777778,
             "#fb9f3a"
            ],
            [
             0.8888888888888888,
             "#fdca26"
            ],
            [
             1,
             "#f0f921"
            ]
           ]
          },
          "colorway": [
           "#636efa",
           "#EF553B",
           "#00cc96",
           "#ab63fa",
           "#FFA15A",
           "#19d3f3",
           "#FF6692",
           "#B6E880",
           "#FF97FF",
           "#FECB52"
          ],
          "font": {
           "color": "#2a3f5f"
          },
          "geo": {
           "bgcolor": "white",
           "lakecolor": "white",
           "landcolor": "#E5ECF6",
           "showlakes": true,
           "showland": true,
           "subunitcolor": "white"
          },
          "hoverlabel": {
           "align": "left"
          },
          "hovermode": "closest",
          "mapbox": {
           "style": "light"
          },
          "paper_bgcolor": "white",
          "plot_bgcolor": "#E5ECF6",
          "polar": {
           "angularaxis": {
            "gridcolor": "white",
            "linecolor": "white",
            "ticks": ""
           },
           "bgcolor": "#E5ECF6",
           "radialaxis": {
            "gridcolor": "white",
            "linecolor": "white",
            "ticks": ""
           }
          },
          "scene": {
           "xaxis": {
            "backgroundcolor": "#E5ECF6",
            "gridcolor": "white",
            "gridwidth": 2,
            "linecolor": "white",
            "showbackground": true,
            "ticks": "",
            "zerolinecolor": "white"
           },
           "yaxis": {
            "backgroundcolor": "#E5ECF6",
            "gridcolor": "white",
            "gridwidth": 2,
            "linecolor": "white",
            "showbackground": true,
            "ticks": "",
            "zerolinecolor": "white"
           },
           "zaxis": {
            "backgroundcolor": "#E5ECF6",
            "gridcolor": "white",
            "gridwidth": 2,
            "linecolor": "white",
            "showbackground": true,
            "ticks": "",
            "zerolinecolor": "white"
           }
          },
          "shapedefaults": {
           "line": {
            "color": "#2a3f5f"
           }
          },
          "ternary": {
           "aaxis": {
            "gridcolor": "white",
            "linecolor": "white",
            "ticks": ""
           },
           "baxis": {
            "gridcolor": "white",
            "linecolor": "white",
            "ticks": ""
           },
           "bgcolor": "#E5ECF6",
           "caxis": {
            "gridcolor": "white",
            "linecolor": "white",
            "ticks": ""
           }
          },
          "title": {
           "x": 0.05
          },
          "xaxis": {
           "automargin": true,
           "gridcolor": "white",
           "linecolor": "white",
           "ticks": "",
           "title": {
            "standoff": 15
           },
           "zerolinecolor": "white",
           "zerolinewidth": 2
          },
          "yaxis": {
           "automargin": true,
           "gridcolor": "white",
           "linecolor": "white",
           "ticks": "",
           "title": {
            "standoff": 15
           },
           "zerolinecolor": "white",
           "zerolinewidth": 2
          }
         }
        },
        "title": {
         "text": "MBTI # Classified Posts per Type"
        },
        "xaxis": {
         "autorange": true,
         "range": [
          -0.5,
          15.5
         ],
         "type": "category"
        },
        "yaxis": {
         "autorange": true,
         "range": [
          0,
          18621.052631578947
         ],
         "type": "linear"
        }
       }
      },
      "image/png": "[encoded data removed]",
      "text/html": [
       "<div>                            <div id=\"e08a5e77-039a-426f-81c8-16543ec0ed64\" class=\"plotly-graph-div\" style=\"height:525px; width:100%;\"></div>            <script type=\"text/javascript\">                require([\"plotly\"], function(Plotly) {                    window.PLOTLYENV=window.PLOTLYENV || {};                                    if (document.getElementById(\"e08a5e77-039a-426f-81c8-16543ec0ed64\")) {                    Plotly.newPlot(                        \"e08a5e77-039a-426f-81c8-16543ec0ed64\",                        [{\"x\":[\"ENFJ\",\"ENFP\",\"ENTJ\",\"ENTP\",\"ESFJ\",\"ESFP\",\"ESTJ\",\"ESTP\",\"INFJ\",\"INFP\",\"INTJ\",\"INTP\",\"ISFJ\",\"ISFP\",\"ISTJ\",\"ISTP\"],\"y\":[1024,4338,2106,8303,119,252,71,814,10765,8444,16079,17690,460,620,878,2394],\"type\":\"bar\"}],                        {\"title\":{\"text\":\"MBTI # Classified Posts per Type\"},\"template\":{\"data\":{\"bar\":[{\"error_x\":{\"color\":\"#2a3f5f\"},\"error_y\":{\"color\":\"#2a3f5f\"},\"marker\":{\"line\":{\"color\":\"#E5ECF6\",\"width\":0.5},\"pattern\":{\"fillmode\":\"overlay\",\"size\":10,\"solidity\":0.2}},\"type\":\"bar\"}],\"barpolar\":[{\"marker\":{\"line\":{\"color\":\"#E5ECF6\",\"width\":0.5},\"pattern\":{\"fillmode\":\"overlay\",\"size\":10,\"solidity\":0.2}},\"type\":\"barpolar\"}],\"carpet\":[{\"aaxis\":{\"endlinecolor\":\"#2a3f5f\",\"gridcolor\":\"white\",\"linecolor\":\"white\",\"minorgridcolor\":\"white\",\"startlinecolor\":\"#2a3f5f\"},\"baxis\":{\"endlinecolor\":\"#2a3f5f\",\"gridcolor\":\"white\",\"linecolor\":\"white\",\"minorgridcolor\":\"white\",\"startlinecolor\":\"#2a3f5f\"},\"type\":\"carpet\"}],\"choropleth\":[{\"colorbar\":{\"outlinewidth\":0,\"ticks\":\"\"},\"type\":\"choropleth\"}],\"contour\":[{\"colorbar\":{\"outlinewidth\":0,\"ticks\":\"\"},\"colorscale\":[[0.0,\"#0d0887\"],[0.1111111111111111,\"#46039f\"],[0.2222222222222222,\"#7201a8\"],[0.3333333333333333,\"#9c179e\"],[0.4444444444444444,\"#bd3786\"],[0.5555555555555556,\"#d8576b\"],[0.6666666666666666,\"#ed7953\"],[0.7777777777777778,\"#fb9f3a\"],[0.8888888888888888,\"#fdca26\"],[1.0,\"#f0f921\"]],\"type\":\"contour\"}],\"contourcarpet\":[{\"colorbar\":{\"outlinewidth\":0,\"ticks\":\"\"},\"type\":\"contourcarpet\"}],\"heatmap\":[{\"colorbar\":{\"outlinewidth\":0,\"ticks\":\"\"},\"colorscale\":[[0.0,\"#0d0887\"],[0.1111111111111111,\"#46039f\"],[0.2222222222222222,\"#7201a8\"],[0.3333333333333333,\"#9c179e\"],[0.4444444444444444,\"#bd3786\"],[0.5555555555555556,\"#d8576b\"],[0.6666666666666666,\"#ed7953\"],[0.7777777777777778,\"#fb9f3a\"],[0.8888888888888888,\"#fdca26\"],[1.0,\"#f0f921\"]],\"type\":\"heatmap\"}],\"heatmapgl\":[{\"colorbar\":{\"outlinewidth\":0,\"ticks\":\"\"},\"colorscale\":[[0.0,\"#0d0887\"],[0.1111111111111111,\"#46039f\"],[0.2222222222222222,\"#7201a8\"],[0.3333333333333333,\"#9c179e\"],[0.4444444444444444,\"#bd3786\"],[0.5555555555555556,\"#d8576b\"],[0.6666666666666666,\"#ed7953\"],[0.7777777777777778,\"#fb9f3a\"],[0.8888888888888888,\"#fdca26\"],[1.0,\"#f0f921\"]],\"type\":\"heatmapgl\"}],\"histogram\":[{\"marker\":{\"pattern\":{\"fillmode\":\"overlay\",\"size\":10,\"solidity\":0.2}},\"type\":\"histogram\"}],\"histogram2d\":[{\"colorbar\":{\"outlinewidth\":0,\"ticks\":\"\"},\"colorscale\":[[0.0,\"#0d0887\"],[0.1111111111111111,\"#46039f\"],[0.2222222222222222,\"#7201a8\"],[0.3333333333333333,\"#9c179e\"],[0.4444444444444444,\"#bd3786\"],[0.5555555555555556,\"#d8576b\"],[0.6666666666666666,\"#ed7953\"],[0.7777777777777778,\"#fb9f3a\"],[0.8888888888888888,\"#fdca26\"],[1.0,\"#f0f921\"]],\"type\":\"histogram2d\"}],\"histogram2dcontour\":[{\"colorbar\":{\"outlinewidth\":0,\"ticks\":\"\"},\"colorscale\":[[0.0,\"#0d0887\"],[0.1111111111111111,\"#46039f\"],[0.2222222222222222,\"#7201a8\"],[0.3333333333333333,\"#9c179e\"],[0.4444444444444444,\"#bd3786\"],[0.5555555555555556,\"#d8576b\"],[0.6666666666666666,\"#ed7953\"],[0.7777777777777778,\"#fb9f3a\"],[0.8888888888888888,\"#fdca26\"],[1.0,\"#f0f921\"]],\"type\":\"histogram2dcontour\"}],\"mesh3d\":[{\"colorbar\":{\"outlinewidth\":0,\"ticks\":\"\"},\"type\":\"mesh3d\"}],\"parcoords\":[{\"line\":{\"colorbar\":{\"outlinewidth\":0,\"ticks\":\"\"}},\"type\":\"parcoords\"}],\"pie\":[{\"automargin\":true,\"type\":\"pie\"}],\"scatter\":[{\"marker\":{\"colorbar\":{\"outlinewidth\":0,\"ticks\":\"\"}},\"type\":\"scatter\"}],\"scatter3d\":[{\"line\":{\"colorbar\":{\"outlinewidth\":0,\"ticks\":\"\"}},\"marker\":{\"colorbar\":{\"outlinewidth\":0,\"ticks\":\"\"}},\"type\":\"scatter3d\"}],\"scattercarpet\":[{\"marker\":{\"colorbar\":{\"outlinewidth\":0,\"ticks\":\"\"}},\"type\":\"scattercarpet\"}],\"scattergeo\":[{\"marker\":{\"colorbar\":{\"outlinewidth\":0,\"ticks\":\"\"}},\"type\":\"scattergeo\"}],\"scattergl\":[{\"marker\":{\"colorbar\":{\"outlinewidth\":0,\"ticks\":\"\"}},\"type\":\"scattergl\"}],\"scattermapbox\":[{\"marker\":{\"colorbar\":{\"outlinewidth\":0,\"ticks\":\"\"}},\"type\":\"scattermapbox\"}],\"scatterpolar\":[{\"marker\":{\"colorbar\":{\"outlinewidth\":0,\"ticks\":\"\"}},\"type\":\"scatterpolar\"}],\"scatterpolargl\":[{\"marker\":{\"colorbar\":{\"outlinewidth\":0,\"ticks\":\"\"}},\"type\":\"scatterpolargl\"}],\"scatterternary\":[{\"marker\":{\"colorbar\":{\"outlinewidth\":0,\"ticks\":\"\"}},\"type\":\"scatterternary\"}],\"surface\":[{\"colorbar\":{\"outlinewidth\":0,\"ticks\":\"\"},\"colorscale\":[[0.0,\"#0d0887\"],[0.1111111111111111,\"#46039f\"],[0.2222222222222222,\"#7201a8\"],[0.3333333333333333,\"#9c179e\"],[0.4444444444444444,\"#bd3786\"],[0.5555555555555556,\"#d8576b\"],[0.6666666666666666,\"#ed7953\"],[0.7777777777777778,\"#fb9f3a\"],[0.8888888888888888,\"#fdca26\"],[1.0,\"#f0f921\"]],\"type\":\"surface\"}],\"table\":[{\"cells\":{\"fill\":{\"color\":\"#EBF0F8\"},\"line\":{\"color\":\"white\"}},\"header\":{\"fill\":{\"color\":\"#C8D4E3\"},\"line\":{\"color\":\"white\"}},\"type\":\"table\"}]},\"layout\":{\"annotationdefaults\":{\"arrowcolor\":\"#2a3f5f\",\"arrowhead\":0,\"arrowwidth\":1},\"autotypenumbers\":\"strict\",\"coloraxis\":{\"colorbar\":{\"outlinewidth\":0,\"ticks\":\"\"}},\"colorscale\":{\"diverging\":[[0,\"#8e0152\"],[0.1,\"#c51b7d\"],[0.2,\"#de77ae\"],[0.3,\"#f1b6da\"],[0.4,\"#fde0ef\"],[0.5,\"#f7f7f7\"],[0.6,\"#e6f5d0\"],[0.7,\"#b8e186\"],[0.8,\"#7fbc41\"],[0.9,\"#4d9221\"],[1,\"#276419\"]],\"sequential\":[[0.0,\"#0d0887\"],[0.1111111111111111,\"#46039f\"],[0.2222222222222222,\"#7201a8\"],[0.3333333333333333,\"#9c179e\"],[0.4444444444444444,\"#bd3786\"],[0.5555555555555556,\"#d8576b\"],[0.6666666666666666,\"#ed7953\"],[0.7777777777777778,\"#fb9f3a\"],[0.8888888888888888,\"#fdca26\"],[1.0,\"#f0f921\"]],\"sequentialminus\":[[0.0,\"#0d0887\"],[0.1111111111111111,\"#46039f\"],[0.2222222222222222,\"#7201a8\"],[0.3333333333333333,\"#9c179e\"],[0.4444444444444444,\"#bd3786\"],[0.5555555555555556,\"#d8576b\"],[0.6666666666666666,\"#ed7953\"],[0.7777777777777778,\"#fb9f3a\"],[0.8888888888888888,\"#fdca26\"],[1.0,\"#f0f921\"]]},\"colorway\":[\"#636efa\",\"#EF553B\",\"#00cc96\",\"#ab63fa\",\"#FFA15A\",\"#19d3f3\",\"#FF6692\",\"#B6E880\",\"#FF97FF\",\"#FECB52\"],\"font\":{\"color\":\"#2a3f5f\"},\"geo\":{\"bgcolor\":\"white\",\"lakecolor\":\"white\",\"landcolor\":\"#E5ECF6\",\"showlakes\":true,\"showland\":true,\"subunitcolor\":\"white\"},\"hoverlabel\":{\"align\":\"left\"},\"hovermode\":\"closest\",\"mapbox\":{\"style\":\"light\"},\"paper_bgcolor\":\"white\",\"plot_bgcolor\":\"#E5ECF6\",\"polar\":{\"angularaxis\":{\"gridcolor\":\"white\",\"linecolor\":\"white\",\"ticks\":\"\"},\"bgcolor\":\"#E5ECF6\",\"radialaxis\":{\"gridcolor\":\"white\",\"linecolor\":\"white\",\"ticks\":\"\"}},\"scene\":{\"xaxis\":{\"backgroundcolor\":\"#E5ECF6\",\"gridcolor\":\"white\",\"gridwidth\":2,\"linecolor\":\"white\",\"showbackground\":true,\"ticks\":\"\",\"zerolinecolor\":\"white\"},\"yaxis\":{\"backgroundcolor\":\"#E5ECF6\",\"gridcolor\":\"white\",\"gridwidth\":2,\"linecolor\":\"white\",\"showbackground\":true,\"ticks\":\"\",\"zerolinecolor\":\"white\"},\"zaxis\":{\"backgroundcolor\":\"#E5ECF6\",\"gridcolor\":\"white\",\"gridwidth\":2,\"linecolor\":\"white\",\"showbackground\":true,\"ticks\":\"\",\"zerolinecolor\":\"white\"}},\"shapedefaults\":{\"line\":{\"color\":\"#2a3f5f\"}},\"ternary\":{\"aaxis\":{\"gridcolor\":\"white\",\"linecolor\":\"white\",\"ticks\":\"\"},\"baxis\":{\"gridcolor\":\"white\",\"linecolor\":\"white\",\"ticks\":\"\"},\"bgcolor\":\"#E5ECF6\",\"caxis\":{\"gridcolor\":\"white\",\"linecolor\":\"white\",\"ticks\":\"\"}},\"title\":{\"x\":0.05},\"xaxis\":{\"automargin\":true,\"gridcolor\":\"white\",\"linecolor\":\"white\",\"ticks\":\"\",\"title\":{\"standoff\":15},\"zerolinecolor\":\"white\",\"zerolinewidth\":2},\"yaxis\":{\"automargin\":true,\"gridcolor\":\"white\",\"linecolor\":\"white\",\"ticks\":\"\",\"title\":{\"standoff\":15},\"zerolinecolor\":\"white\",\"zerolinewidth\":2}}}},                        {\"responsive\": true}                    ).then(function(){\n",
       "                            \n",
       "var gd = document.getElementById('e08a5e77-039a-426f-81c8-16543ec0ed64');\n",
       "var x = new MutationObserver(function (mutations, observer) {{\n",
       "        var display = window.getComputedStyle(gd).display;\n",
       "        if (!display || display === 'none') {{\n",
       "            console.log([gd, 'removed!']);\n",
       "            Plotly.purge(gd);\n",
       "            observer.disconnect();\n",
       "        }}\n",
       "}});\n",
       "\n",
       "// Listen for the removal of the full notebook cells\n",
       "var notebookContainer = gd.closest('#notebook-container');\n",
       "if (notebookContainer) {{\n",
       "    x.observe(notebookContainer, {childList: true});\n",
       "}}\n",
       "\n",
       "// Listen for the clearing of the current output cell\n",
       "var outputEl = gd.closest('.output');\n",
       "if (outputEl) {{\n",
       "    x.observe(outputEl, {childList: true});\n",
       "}}\n",
       "\n",
       "                        })                };                });            </script>        </div>"
      ]
     },
     "metadata": {},
     "output_type": "display_data"
    }
   ],
   "source": [
    "df_bar_chart=df.groupby('type').count()\n",
    "\n",
    "\n",
    "trace1 = go.Bar(x=df_bar_chart.index, y=df_bar_chart['posts'])\n",
    "\n",
    "data = [trace1]\n",
    "layout = go.Layout(title='MBTI # Classified Posts per Type')\n",
    "\n",
    "fig = go.Figure(data=data, layout=layout)\n",
    "\n",
    "fig.show()"
   ]
  },
  {
   "cell_type": "markdown",
   "id": "a7b0320b",
   "metadata": {
    "papermill": {
     "duration": 0.058205,
     "end_time": "2022-01-24T11:33:58.129169",
     "exception": false,
     "start_time": "2022-01-24T11:33:58.070964",
     "status": "completed"
    },
    "tags": []
   },
   "source": [
    "# Recreate the model?"
   ]
  },
  {
   "cell_type": "markdown",
   "id": "0318c1fe",
   "metadata": {
    "papermill": {
     "duration": 0.056313,
     "end_time": "2022-01-24T11:33:58.245119",
     "exception": false,
     "start_time": "2022-01-24T11:33:58.188806",
     "status": "completed"
    },
    "tags": []
   },
   "source": [
    "This machine learning model takes it's time to train data\n",
    "\n",
    "To avoid waiting every time, We're going to use the feature dump/load from pickle"
   ]
  },
  {
   "cell_type": "code",
   "execution_count": 42,
   "id": "94ff573a",
   "metadata": {
    "papermill": {
     "duration": 0.065836,
     "end_time": "2022-01-24T11:33:58.368278",
     "exception": false,
     "start_time": "2022-01-24T11:33:58.302442",
     "status": "completed"
    },
    "tags": []
   },
   "outputs": [],
   "source": [
    "# Flag to re-create or not the machine learning model\n",
    "recreate_model=False"
   ]
  },
  {
   "cell_type": "code",
   "execution_count": 43,
   "id": "361a48c4",
   "metadata": {
    "papermill": {
     "duration": 0.065495,
     "end_time": "2022-01-24T11:33:58.493027",
     "exception": false,
     "start_time": "2022-01-24T11:33:58.427532",
     "status": "completed"
    },
    "tags": []
   },
   "outputs": [],
   "source": [
    "# We'll save the model into a file:\n",
    "filename = 'mbti_svm_v2.sav'"
   ]
  },
  {
   "cell_type": "code",
   "execution_count": 44,
   "id": "d6f1fa54",
   "metadata": {
    "papermill": {
     "duration": 0.064732,
     "end_time": "2022-01-24T11:33:58.614172",
     "exception": false,
     "start_time": "2022-01-24T11:33:58.549440",
     "status": "completed"
    },
    "tags": []
   },
   "outputs": [],
   "source": [
    "# If the model file doesn't exists\n",
    "if not os.path.isfile(filename):\n",
    "    recreate_model=True"
   ]
  },
  {
   "cell_type": "markdown",
   "id": "cd04e64e",
   "metadata": {
    "papermill": {
     "duration": 0.058247,
     "end_time": "2022-01-24T11:33:58.729942",
     "exception": false,
     "start_time": "2022-01-24T11:33:58.671695",
     "status": "completed"
    },
    "tags": []
   },
   "source": [
    "# Model"
   ]
  },
  {
   "cell_type": "markdown",
   "id": "e401f1e2",
   "metadata": {
    "papermill": {
     "duration": 0.059072,
     "end_time": "2022-01-24T11:33:58.851375",
     "exception": false,
     "start_time": "2022-01-24T11:33:58.792303",
     "status": "completed"
    },
    "tags": []
   },
   "source": [
    "The machine learning supervised model that we'll use here is a Classification kind, named Support Vector Machine"
   ]
  },
  {
   "cell_type": "markdown",
   "id": "9298777f",
   "metadata": {
    "papermill": {
     "duration": 0.057617,
     "end_time": "2022-01-24T11:33:58.968205",
     "exception": false,
     "start_time": "2022-01-24T11:33:58.910588",
     "status": "completed"
    },
    "tags": []
   },
   "source": [
    "References:\n",
    "\n",
    " - https://en.wikipedia.org/wiki/Support-vector_machine\n",
    "\n",
    "- https://scikit-learn.org/stable/modules/generated/sklearn.svm.LinearSVC.html#sklearn.svm.LinearSVC"
   ]
  },
  {
   "cell_type": "markdown",
   "id": "c1ef14da",
   "metadata": {
    "papermill": {
     "duration": 0.062827,
     "end_time": "2022-01-24T11:33:59.089423",
     "exception": false,
     "start_time": "2022-01-24T11:33:59.026596",
     "status": "completed"
    },
    "tags": []
   },
   "source": [
    "### Model Pipeline"
   ]
  },
  {
   "cell_type": "markdown",
   "id": "1c3a0aa8",
   "metadata": {
    "papermill": {
     "duration": 0.058317,
     "end_time": "2022-01-24T11:33:59.206251",
     "exception": false,
     "start_time": "2022-01-24T11:33:59.147934",
     "status": "completed"
    },
    "tags": []
   },
   "source": [
    "We're going to need a pipelined model ir order to facilitate the entire process of CountVectorizer (TfidfVectorizer) and svm.LinearSVC model"
   ]
  },
  {
   "cell_type": "markdown",
   "id": "9c47672f",
   "metadata": {
    "papermill": {
     "duration": 0.056227,
     "end_time": "2022-01-24T11:33:59.319048",
     "exception": false,
     "start_time": "2022-01-24T11:33:59.262821",
     "status": "completed"
    },
    "tags": []
   },
   "source": [
    "To do that, we're going to use the Pipeline feature from sklearn.pipeline\n",
    "\n",
    "References: https://scikit-learn.org/stable/modules/generated/sklearn.pipeline.Pipeline.html"
   ]
  },
  {
   "cell_type": "markdown",
   "id": "52fa11bc",
   "metadata": {
    "papermill": {
     "duration": 0.05676,
     "end_time": "2022-01-24T11:33:59.432290",
     "exception": false,
     "start_time": "2022-01-24T11:33:59.375530",
     "status": "completed"
    },
    "tags": []
   },
   "source": [
    "# Split the data into train and test"
   ]
  },
  {
   "cell_type": "code",
   "execution_count": 45,
   "id": "73c75344",
   "metadata": {
    "papermill": {
     "duration": 0.093136,
     "end_time": "2022-01-24T11:33:59.583273",
     "exception": false,
     "start_time": "2022-01-24T11:33:59.490137",
     "status": "completed"
    },
    "tags": []
   },
   "outputs": [],
   "source": [
    "X = df['posts'] # features\n",
    "y = df['type']  # labels\n",
    "X_train, X_test, y_train, y_test = train_test_split(X, y, test_size=0.2, random_state=41)"
   ]
  },
  {
   "cell_type": "markdown",
   "id": "b5ec387b",
   "metadata": {
    "papermill": {
     "duration": 0.056648,
     "end_time": "2022-01-24T11:33:59.699069",
     "exception": false,
     "start_time": "2022-01-24T11:33:59.642421",
     "status": "completed"
    },
    "tags": []
   },
   "source": [
    "# Training the model, save it to disk and open to make predictions"
   ]
  },
  {
   "cell_type": "code",
   "execution_count": 46,
   "id": "6dfb0eef",
   "metadata": {
    "papermill": {
     "duration": 188.534362,
     "end_time": "2022-01-24T11:37:08.291128",
     "exception": false,
     "start_time": "2022-01-24T11:33:59.756766",
     "status": "completed"
    },
    "tags": []
   },
   "outputs": [],
   "source": [
    "# Check if need to recreate the model\n",
    "if recreate_model:    \n",
    "    \n",
    "    # Creating an instance to vectorizer:\n",
    "    vectorizer = TfidfVectorizer()\n",
    "    \n",
    "    # Training the vectorizer:\n",
    "    X_train_tfidf = vectorizer.fit_transform(X_train)\n",
    "    \n",
    "    # Training the classifier:\n",
    "    clf = LinearSVC()\n",
    "    clf.fit(X_train_tfidf, y_train)\n",
    "    \n",
    "    # Pipelining the vectorizer and the classifier\n",
    "    text_clf = Pipeline([('tfidf',TfidfVectorizer()),('clf',LinearSVC())])\n",
    "    text_clf.fit(X_train, y_train)\n",
    "    \n",
    "    # saving the model to disk\n",
    "    pickle.dump(text_clf, open(filename, 'wb'))\n",
    "\n",
    "# If there is no need to recreate the model, just open the file from the disk    \n",
    "else:\n",
    "    # loading the model from disk\n",
    "    text_clf = pickle.load(open(filename, 'rb'))"
   ]
  },
  {
   "cell_type": "code",
   "execution_count": 51,
   "id": "0988d481-a892-4491-b9de-e572ad38d167",
   "metadata": {},
   "outputs": [
    {
     "data": {
      "text/plain": [
       "<59485x152601 sparse matrix of type '<class 'numpy.float64'>'\n",
       "\twith 16845137 stored elements in Compressed Sparse Row format>"
      ]
     },
     "execution_count": 51,
     "metadata": {},
     "output_type": "execute_result"
    }
   ],
   "source": [
    "X_train_tfidf"
   ]
  },
  {
   "cell_type": "markdown",
   "id": "952376f4",
   "metadata": {
    "papermill": {
     "duration": 0.056649,
     "end_time": "2022-01-24T11:37:08.405936",
     "exception": false,
     "start_time": "2022-01-24T11:37:08.349287",
     "status": "completed"
    },
    "tags": []
   },
   "source": [
    "# Using the test data to make predictions and analyze the accurace of the model"
   ]
  },
  {
   "cell_type": "code",
   "execution_count": 47,
   "id": "9f88f0f9",
   "metadata": {
    "papermill": {
     "duration": 13.587157,
     "end_time": "2022-01-24T11:37:22.050686",
     "exception": false,
     "start_time": "2022-01-24T11:37:08.463529",
     "status": "completed"
    },
    "tags": []
   },
   "outputs": [],
   "source": [
    "predictions = text_clf.predict(X_test)"
   ]
  },
  {
   "cell_type": "code",
   "execution_count": 48,
   "id": "e10d8a56-7380-48f7-8d3c-65c2221a508b",
   "metadata": {},
   "outputs": [
    {
     "data": {
      "text/plain": [
       "array(['INTJ', 'INFJ', 'INFJ', ..., 'ENFP', 'INFP', 'INTP'], dtype=object)"
      ]
     },
     "execution_count": 48,
     "metadata": {},
     "output_type": "execute_result"
    }
   ],
   "source": [
    "predictions"
   ]
  },
  {
   "cell_type": "code",
   "execution_count": 49,
   "id": "73684861",
   "metadata": {
    "papermill": {
     "duration": 1.152028,
     "end_time": "2022-01-24T11:37:23.262153",
     "exception": false,
     "start_time": "2022-01-24T11:37:22.110125",
     "status": "completed"
    },
    "tags": []
   },
   "outputs": [
    {
     "name": "stdout",
     "output_type": "stream",
     "text": [
      "              precision    recall  f1-score   support\n",
      "\n",
      "        ENFJ       0.78      0.54      0.64       223\n",
      "        ENFP       0.75      0.70      0.73       874\n",
      "        ENTJ       0.84      0.70      0.76       402\n",
      "        ENTP       0.81      0.81      0.81      1626\n",
      "        ESFJ       0.82      0.38      0.51        24\n",
      "        ESFP       0.79      0.38      0.51        50\n",
      "        ESTJ       0.67      0.17      0.27        12\n",
      "        ESTP       0.92      0.82      0.87       169\n",
      "        INFJ       0.78      0.80      0.79      2140\n",
      "        INFP       0.77      0.77      0.77      1731\n",
      "        INTJ       0.79      0.84      0.81      3220\n",
      "        INTP       0.80      0.85      0.83      3529\n",
      "        ISFJ       0.76      0.42      0.54        90\n",
      "        ISFP       0.82      0.39      0.53       119\n",
      "        ISTJ       0.83      0.53      0.65       170\n",
      "        ISTP       0.85      0.74      0.79       493\n",
      "\n",
      "    accuracy                           0.79     14872\n",
      "   macro avg       0.80      0.61      0.68     14872\n",
      "weighted avg       0.79      0.79      0.79     14872\n",
      "\n"
     ]
    }
   ],
   "source": [
    "print(classification_report(y_test, predictions))"
   ]
  },
  {
   "cell_type": "code",
   "execution_count": 50,
   "id": "594c1904",
   "metadata": {
    "papermill": {
     "duration": 0.108088,
     "end_time": "2022-01-24T11:37:23.427835",
     "exception": false,
     "start_time": "2022-01-24T11:37:23.319747",
     "status": "completed"
    },
    "tags": []
   },
   "outputs": [
    {
     "name": "stdout",
     "output_type": "stream",
     "text": [
      "Overall accuracy of the model: 0.79\n"
     ]
    }
   ],
   "source": [
    "print(f\"Overall accuracy of the model: {round(metrics.accuracy_score(y_test, predictions),2)}\")"
   ]
  },
  {
   "cell_type": "markdown",
   "id": "29b0f550",
   "metadata": {
    "papermill": {
     "duration": 0.062979,
     "end_time": "2022-01-24T11:37:23.553490",
     "exception": false,
     "start_time": "2022-01-24T11:37:23.490511",
     "status": "completed"
    },
    "tags": []
   },
   "source": [
    "# End"
   ]
  }
 ],
 "metadata": {
  "kernelspec": {
   "display_name": "Python 3",
   "language": "python",
   "name": "python3"
  },
  "language_info": {
   "codemirror_mode": {
    "name": "ipython",
    "version": 3
   },
   "file_extension": ".py",
   "mimetype": "text/x-python",
   "name": "python",
   "nbconvert_exporter": "python",
   "pygments_lexer": "ipython3",
   "version": "3.8.8"
  },
  "papermill": {
   "default_parameters": {},
   "duration": 247.963482,
   "end_time": "2022-01-24T11:37:26.913576",
   "environment_variables": {},
   "exception": null,
   "input_path": "__notebook__.ipynb",
   "output_path": "__notebook__.ipynb",
   "parameters": {},
   "start_time": "2022-01-24T11:33:18.950094",
   "version": "2.3.3"
  }
 },
 "nbformat": 4,
 "nbformat_minor": 5
}
